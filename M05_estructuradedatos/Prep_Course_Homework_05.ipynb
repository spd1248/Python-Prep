{
 "cells": [
  {
   "attachments": {},
   "cell_type": "markdown",
   "metadata": {},
   "source": [
    "## Estructuras de Datos"
   ]
  },
  {
   "metadata": {},
   "cell_type": "markdown",
   "source": "Pruebas"
  },
  {
   "metadata": {
    "ExecuteTime": {
     "end_time": "2024-06-29T18:30:42.275864Z",
     "start_time": "2024-06-29T18:30:42.262341Z"
    }
   },
   "cell_type": "code",
   "source": [
    "tupla = 1, 2, 3\n",
    "a, b, c = tupla\n",
    "print(a, b, c)"
   ],
   "outputs": [
    {
     "name": "stdout",
     "output_type": "stream",
     "text": [
      "1 2 3\n"
     ]
    }
   ],
   "execution_count": 1
  },
  {
   "metadata": {
    "ExecuteTime": {
     "end_time": "2024-06-29T18:36:22.799624Z",
     "start_time": "2024-06-29T18:36:22.791107Z"
    }
   },
   "cell_type": "code",
   "source": [
    "mi_diccionario = {  'Colores Primarios': ['Rojo','Azul','Amarillo'], \n",
    "                    'Colores secundarios': ['Naranja','Violeta','Verde'], \n",
    "                    'Clave3': 10,\n",
    "                    'Clave4': False}\n",
    "mi_diccionario"
   ],
   "outputs": [
    {
     "data": {
      "text/plain": [
       "{'Colores Primarios': ['Rojo', 'Azul', 'Amarillo'],\n",
       " 'Colores secundarios': ['Naranja', 'Violeta', 'Verde'],\n",
       " 'Clave3': 10,\n",
       " 'Clave4': False}"
      ]
     },
     "execution_count": 4,
     "metadata": {},
     "output_type": "execute_result"
    }
   ],
   "execution_count": 4
  },
  {
   "attachments": {},
   "cell_type": "markdown",
   "metadata": {},
   "source": [
    "1) Crear una lista que contenga nombres de ciudades del mundo que contenga más de 5 elementos e imprimir por pantalla"
   ]
  },
  {
   "metadata": {
    "ExecuteTime": {
     "end_time": "2024-06-29T18:38:50.048052Z",
     "start_time": "2024-06-29T18:38:50.043265Z"
    }
   },
   "cell_type": "code",
   "source": [
    "ciudades = ['Cuernavaca', 'Medellín', 'Madrid', 'Estocolmo', 'París', 'San Francisco']\n",
    "print(ciudades)"
   ],
   "outputs": [
    {
     "name": "stdout",
     "output_type": "stream",
     "text": [
      "['Cuernavaca', 'Medellín', 'Madrid', 'Estocolmo', 'París', 'San Francisco']\n"
     ]
    }
   ],
   "execution_count": 5
  },
  {
   "attachments": {},
   "cell_type": "markdown",
   "metadata": {},
   "source": [
    "2) Imprimir por pantalla el segundo elemento de la lista"
   ]
  },
  {
   "metadata": {
    "ExecuteTime": {
     "end_time": "2024-06-29T18:39:12.629661Z",
     "start_time": "2024-06-29T18:39:12.625877Z"
    }
   },
   "cell_type": "code",
   "source": "print(ciudades[1])",
   "outputs": [
    {
     "name": "stdout",
     "output_type": "stream",
     "text": [
      "Medellín\n"
     ]
    }
   ],
   "execution_count": 6
  },
  {
   "attachments": {},
   "cell_type": "markdown",
   "metadata": {},
   "source": [
    "3) Imprimir por pantalla del segundo al cuarto elemento"
   ]
  },
  {
   "metadata": {
    "ExecuteTime": {
     "end_time": "2024-06-29T18:39:45.064792Z",
     "start_time": "2024-06-29T18:39:45.061359Z"
    }
   },
   "cell_type": "code",
   "source": "print(ciudades[1:4])",
   "outputs": [
    {
     "name": "stdout",
     "output_type": "stream",
     "text": [
      "['Medellín', 'Madrid', 'Estocolmo']\n"
     ]
    }
   ],
   "execution_count": 8
  },
  {
   "attachments": {},
   "cell_type": "markdown",
   "metadata": {},
   "source": [
    "4) Visualizar el tipo de dato de la lista"
   ]
  },
  {
   "metadata": {
    "ExecuteTime": {
     "end_time": "2024-06-29T18:40:14.619120Z",
     "start_time": "2024-06-29T18:40:14.613714Z"
    }
   },
   "cell_type": "code",
   "source": "print(type(ciudades))",
   "outputs": [
    {
     "name": "stdout",
     "output_type": "stream",
     "text": [
      "<class 'list'>\n"
     ]
    }
   ],
   "execution_count": 9
  },
  {
   "attachments": {},
   "cell_type": "markdown",
   "metadata": {},
   "source": [
    "5) Visualizar todos los elementos de la lista a partir del tercero de manera genérica, es decir, sin explicitar la posición del último elemento"
   ]
  },
  {
   "metadata": {
    "ExecuteTime": {
     "end_time": "2024-06-29T18:40:57.035173Z",
     "start_time": "2024-06-29T18:40:57.031324Z"
    }
   },
   "cell_type": "code",
   "source": "print(ciudades[3:])",
   "outputs": [
    {
     "name": "stdout",
     "output_type": "stream",
     "text": [
      "['Estocolmo', 'París', 'San Francisco']\n"
     ]
    }
   ],
   "execution_count": 11
  },
  {
   "attachments": {},
   "cell_type": "markdown",
   "metadata": {},
   "source": [
    "6) Visualizar los primeros 4 elementos de la lista"
   ]
  },
  {
   "metadata": {
    "ExecuteTime": {
     "end_time": "2024-06-29T18:41:26.446907Z",
     "start_time": "2024-06-29T18:41:26.442607Z"
    }
   },
   "cell_type": "code",
   "source": "print(ciudades[:3])",
   "outputs": [
    {
     "name": "stdout",
     "output_type": "stream",
     "text": [
      "['Cuernavaca', 'Medellín', 'Madrid']\n"
     ]
    }
   ],
   "execution_count": 12
  },
  {
   "attachments": {},
   "cell_type": "markdown",
   "metadata": {},
   "source": [
    "7) Agregar una ciudad más a la lista que ya exista y otra que no ¿Arroja algún tipo de error?"
   ]
  },
  {
   "metadata": {
    "ExecuteTime": {
     "end_time": "2024-06-29T18:43:02.624802Z",
     "start_time": "2024-06-29T18:43:02.620486Z"
    }
   },
   "cell_type": "code",
   "source": [
    "ciudades.append('Cuernavaca')\n",
    "ciudades.append('Buenos Aires')\n",
    "print(ciudades)"
   ],
   "outputs": [
    {
     "name": "stdout",
     "output_type": "stream",
     "text": [
      "['Cuernavaca', 'Medellín', 'Madrid', 'Estocolmo', 'París', 'San Francisco', 'Cuernavaca', 'Buenos Aires', 'Cuernavaca', 'Buenos Aires']\n"
     ]
    }
   ],
   "execution_count": 14
  },
  {
   "attachments": {},
   "cell_type": "markdown",
   "metadata": {},
   "source": [
    "8) Agregar otra ciudad, pero en la cuarta posición"
   ]
  },
  {
   "metadata": {
    "ExecuteTime": {
     "end_time": "2024-06-29T18:44:01.505761Z",
     "start_time": "2024-06-29T18:44:01.502022Z"
    }
   },
   "cell_type": "code",
   "source": [
    "ciudades.insert(3, 'Roma')\n",
    "print(ciudades)"
   ],
   "outputs": [
    {
     "name": "stdout",
     "output_type": "stream",
     "text": [
      "['Cuernavaca', 'Medellín', 'Madrid', 'Roma', 'Estocolmo', 'París', 'San Francisco', 'Cuernavaca', 'Buenos Aires', 'Cuernavaca', 'Buenos Aires']\n"
     ]
    }
   ],
   "execution_count": 15
  },
  {
   "attachments": {},
   "cell_type": "markdown",
   "metadata": {},
   "source": [
    "9) Concatenar otra lista a la ya creada"
   ]
  },
  {
   "metadata": {
    "ExecuteTime": {
     "end_time": "2024-06-29T18:46:28.500274Z",
     "start_time": "2024-06-29T18:46:28.492808Z"
    }
   },
   "cell_type": "code",
   "source": [
    "ciudades1 = [1, 2, 3]\n",
    "ciudades.extend(ciudades1)\n",
    "print(ciudades)"
   ],
   "outputs": [
    {
     "name": "stdout",
     "output_type": "stream",
     "text": [
      "['Cuernavaca', 'Medellín', 'Madrid', 'Roma', 'Estocolmo', 'París', 'San Francisco', 'Cuernavaca', 'Buenos Aires', 'Cuernavaca', 'Buenos Aires', 1, 2, 3]\n"
     ]
    }
   ],
   "execution_count": 16
  },
  {
   "attachments": {},
   "cell_type": "markdown",
   "metadata": {},
   "source": [
    "10) Encontrar el índice de la ciudad que en el punto 7 agregamos duplicada. ¿Se nota alguna particularidad?"
   ]
  },
  {
   "metadata": {
    "ExecuteTime": {
     "end_time": "2024-06-29T18:47:27.880697Z",
     "start_time": "2024-06-29T18:47:27.862265Z"
    }
   },
   "cell_type": "code",
   "source": "ciudades.index('Cuernavaca')",
   "outputs": [
    {
     "data": {
      "text/plain": [
       "0"
      ]
     },
     "execution_count": 17,
     "metadata": {},
     "output_type": "execute_result"
    }
   ],
   "execution_count": 17
  },
  {
   "attachments": {},
   "cell_type": "markdown",
   "metadata": {},
   "source": [
    "11) ¿Qué pasa si se busca un elemento que no existe?"
   ]
  },
  {
   "metadata": {
    "ExecuteTime": {
     "end_time": "2024-06-29T18:47:50.704351Z",
     "start_time": "2024-06-29T18:47:50.682990Z"
    }
   },
   "cell_type": "code",
   "source": "ciudades.index('Caracas')",
   "outputs": [
    {
     "ename": "ValueError",
     "evalue": "'Caracas' is not in list",
     "output_type": "error",
     "traceback": [
      "\u001B[1;31m---------------------------------------------------------------------------\u001B[0m",
      "\u001B[1;31mValueError\u001B[0m                                Traceback (most recent call last)",
      "Cell \u001B[1;32mIn[18], line 1\u001B[0m\n\u001B[1;32m----> 1\u001B[0m \u001B[43mciudades\u001B[49m\u001B[38;5;241;43m.\u001B[39;49m\u001B[43mindex\u001B[49m\u001B[43m(\u001B[49m\u001B[38;5;124;43m'\u001B[39;49m\u001B[38;5;124;43mCaracas\u001B[39;49m\u001B[38;5;124;43m'\u001B[39;49m\u001B[43m)\u001B[49m\n",
      "\u001B[1;31mValueError\u001B[0m: 'Caracas' is not in list"
     ]
    }
   ],
   "execution_count": 18
  },
  {
   "attachments": {},
   "cell_type": "markdown",
   "metadata": {},
   "source": [
    "12) Eliminar un elemento de la lista"
   ]
  },
  {
   "metadata": {
    "ExecuteTime": {
     "end_time": "2024-06-29T18:48:32.047702Z",
     "start_time": "2024-06-29T18:48:32.041425Z"
    }
   },
   "cell_type": "code",
   "source": [
    "ciudades.remove('Cuernavaca')\n",
    "print(ciudades)"
   ],
   "outputs": [
    {
     "name": "stdout",
     "output_type": "stream",
     "text": [
      "['Medellín', 'Madrid', 'Roma', 'Estocolmo', 'París', 'San Francisco', 'Cuernavaca', 'Buenos Aires', 'Cuernavaca', 'Buenos Aires', 1, 2, 3]\n"
     ]
    }
   ],
   "execution_count": 19
  },
  {
   "attachments": {},
   "cell_type": "markdown",
   "metadata": {},
   "source": [
    "13) ¿Qué pasa si el elemento a eliminar no existe?"
   ]
  },
  {
   "metadata": {
    "ExecuteTime": {
     "end_time": "2024-06-29T18:49:24.123851Z",
     "start_time": "2024-06-29T18:49:24.109001Z"
    }
   },
   "cell_type": "code",
   "source": "ciudades.remove('Cancun')\n",
   "outputs": [
    {
     "ename": "ValueError",
     "evalue": "list.remove(x): x not in list",
     "output_type": "error",
     "traceback": [
      "\u001B[1;31m---------------------------------------------------------------------------\u001B[0m",
      "\u001B[1;31mValueError\u001B[0m                                Traceback (most recent call last)",
      "Cell \u001B[1;32mIn[20], line 1\u001B[0m\n\u001B[1;32m----> 1\u001B[0m \u001B[43mciudades\u001B[49m\u001B[38;5;241;43m.\u001B[39;49m\u001B[43mremove\u001B[49m\u001B[43m(\u001B[49m\u001B[38;5;124;43m'\u001B[39;49m\u001B[38;5;124;43mCancun\u001B[39;49m\u001B[38;5;124;43m'\u001B[39;49m\u001B[43m)\u001B[49m\n",
      "\u001B[1;31mValueError\u001B[0m: list.remove(x): x not in list"
     ]
    }
   ],
   "execution_count": 20
  },
  {
   "attachments": {},
   "cell_type": "markdown",
   "metadata": {},
   "source": [
    "14) Extraer el úlimo elemento de la lista, guardarlo en una variable e imprimirlo"
   ]
  },
  {
   "metadata": {
    "ExecuteTime": {
     "end_time": "2024-06-29T18:49:49.725912Z",
     "start_time": "2024-06-29T18:49:49.714708Z"
    }
   },
   "cell_type": "code",
   "source": [
    "ultimo_elemento = ciudades.pop()\n",
    "print(ultimo_elemento)"
   ],
   "outputs": [
    {
     "name": "stdout",
     "output_type": "stream",
     "text": [
      "3\n"
     ]
    }
   ],
   "execution_count": 21
  },
  {
   "attachments": {},
   "cell_type": "markdown",
   "metadata": {},
   "source": [
    "15) Mostrar la lista multiplicada por 4"
   ]
  },
  {
   "metadata": {
    "ExecuteTime": {
     "end_time": "2024-06-29T18:50:45.053209Z",
     "start_time": "2024-06-29T18:50:45.048073Z"
    }
   },
   "cell_type": "code",
   "source": [
    "ciudades_por_cuatro = ciudades * 4\n",
    "print(ciudades_por_cuatro)"
   ],
   "outputs": [
    {
     "name": "stdout",
     "output_type": "stream",
     "text": [
      "['Medellín', 'Madrid', 'Roma', 'Estocolmo', 'París', 'San Francisco', 'Cuernavaca', 'Buenos Aires', 'Cuernavaca', 'Buenos Aires', 1, 2, 'Medellín', 'Madrid', 'Roma', 'Estocolmo', 'París', 'San Francisco', 'Cuernavaca', 'Buenos Aires', 'Cuernavaca', 'Buenos Aires', 1, 2, 'Medellín', 'Madrid', 'Roma', 'Estocolmo', 'París', 'San Francisco', 'Cuernavaca', 'Buenos Aires', 'Cuernavaca', 'Buenos Aires', 1, 2, 'Medellín', 'Madrid', 'Roma', 'Estocolmo', 'París', 'San Francisco', 'Cuernavaca', 'Buenos Aires', 'Cuernavaca', 'Buenos Aires', 1, 2]\n"
     ]
    }
   ],
   "execution_count": 22
  },
  {
   "attachments": {},
   "cell_type": "markdown",
   "metadata": {},
   "source": [
    "16) Crear una tupla que contenga los números enteros del 1 al 20"
   ]
  },
  {
   "metadata": {
    "ExecuteTime": {
     "end_time": "2024-06-29T18:51:53.775330Z",
     "start_time": "2024-06-29T18:51:53.763733Z"
    }
   },
   "cell_type": "code",
   "source": [
    "numeros = tuple(range(1, 21))\n",
    "print(numeros)\n",
    "print(type(numeros))\n"
   ],
   "outputs": [
    {
     "name": "stdout",
     "output_type": "stream",
     "text": [
      "(1, 2, 3, 4, 5, 6, 7, 8, 9, 10, 11, 12, 13, 14, 15, 16, 17, 18, 19, 20)\n",
      "<class 'tuple'>\n"
     ]
    }
   ],
   "execution_count": 24
  },
  {
   "attachments": {},
   "cell_type": "markdown",
   "metadata": {},
   "source": [
    "17) Imprimir desde el índice 10 al 15 de la tupla"
   ]
  },
  {
   "metadata": {
    "ExecuteTime": {
     "end_time": "2024-06-29T18:53:05.344117Z",
     "start_time": "2024-06-29T18:53:05.330788Z"
    }
   },
   "cell_type": "code",
   "source": "print(numeros[9:15])",
   "outputs": [
    {
     "name": "stdout",
     "output_type": "stream",
     "text": [
      "(10, 11, 12, 13, 14, 15)\n"
     ]
    }
   ],
   "execution_count": 27
  },
  {
   "attachments": {},
   "cell_type": "markdown",
   "metadata": {},
   "source": [
    "18) Evaluar si los números 20 y 30 están dentro de la tupla"
   ]
  },
  {
   "metadata": {
    "ExecuteTime": {
     "end_time": "2024-06-29T18:54:10.645197Z",
     "start_time": "2024-06-29T18:54:10.635349Z"
    }
   },
   "cell_type": "code",
   "source": [
    "print(20 in numeros)\n",
    "print(30 in numeros)"
   ],
   "outputs": [
    {
     "name": "stdout",
     "output_type": "stream",
     "text": [
      "True\n",
      "False\n"
     ]
    }
   ],
   "execution_count": 29
  },
  {
   "attachments": {},
   "cell_type": "markdown",
   "metadata": {},
   "source": [
    "19) Con la lista creada en el punto 1, validar la existencia del elemento 'París' y si no existe, agregarlo. Utilizar una variable e informar lo sucedido."
   ]
  },
  {
   "metadata": {
    "ExecuteTime": {
     "end_time": "2024-06-29T18:58:14.046880Z",
     "start_time": "2024-06-29T18:58:14.041262Z"
    }
   },
   "cell_type": "code",
   "source": [
    "if 'París' in ciudades:\n",
    "    print('París ya forma parte de la lista ciudades.')\n",
    "else:\n",
    "    ciudades.insert('París')"
   ],
   "outputs": [
    {
     "name": "stdout",
     "output_type": "stream",
     "text": [
      "París ya forma parte de la lista ciudades.\n"
     ]
    }
   ],
   "execution_count": 35
  },
  {
   "attachments": {},
   "cell_type": "markdown",
   "metadata": {},
   "source": [
    "20) Mostrar la cantidad de veces que se encuentra un elemento específico dentro de la tupla y de la lista"
   ]
  },
  {
   "metadata": {
    "ExecuteTime": {
     "end_time": "2024-06-29T18:59:33.082717Z",
     "start_time": "2024-06-29T18:59:33.067949Z"
    }
   },
   "cell_type": "code",
   "source": [
    "print(ciudades.count('Cuernavaca'))\n",
    "print(numeros.count(10))"
   ],
   "outputs": [
    {
     "name": "stdout",
     "output_type": "stream",
     "text": [
      "2\n",
      "1\n"
     ]
    }
   ],
   "execution_count": 37
  },
  {
   "attachments": {},
   "cell_type": "markdown",
   "metadata": {},
   "source": [
    "21) Convertir la tupla en una lista"
   ]
  },
  {
   "metadata": {
    "ExecuteTime": {
     "end_time": "2024-06-29T19:02:07.686029Z",
     "start_time": "2024-06-29T19:02:07.680852Z"
    }
   },
   "cell_type": "code",
   "source": [
    "numeros_lista = list(numeros)\n",
    "print(type(numeros_lista))"
   ],
   "outputs": [
    {
     "name": "stdout",
     "output_type": "stream",
     "text": [
      "<class 'list'>\n"
     ]
    }
   ],
   "execution_count": 41
  },
  {
   "metadata": {
    "ExecuteTime": {
     "end_time": "2024-06-29T19:02:31.498723Z",
     "start_time": "2024-06-29T19:02:31.485415Z"
    }
   },
   "cell_type": "code",
   "source": "print(type(numeros))",
   "outputs": [
    {
     "name": "stdout",
     "output_type": "stream",
     "text": [
      "<class 'tuple'>\n"
     ]
    }
   ],
   "execution_count": 42
  },
  {
   "attachments": {},
   "cell_type": "markdown",
   "metadata": {},
   "source": [
    "22) Desempaquetar solo los primeros 3 elementos de la tupla en 3 variables"
   ]
  },
  {
   "metadata": {
    "ExecuteTime": {
     "end_time": "2024-06-29T19:06:06.517359Z",
     "start_time": "2024-06-29T19:06:06.506178Z"
    }
   },
   "cell_type": "code",
   "source": [
    "numeros = tuple(range(1, 21))\n",
    "primer_elemento, segundo_elemento, tercer_elemento, *otros_elementos = numeros\n",
    "\n",
    "print(\"Primer elemento:\", primer_elemento)\n",
    "print(\"Segundo elemento:\", segundo_elemento)\n",
    "print(\"Tercer elemento:\", tercer_elemento)\n",
    "print(\"Otros elementos:\", *otros_elementos)\n"
   ],
   "outputs": [
    {
     "name": "stdout",
     "output_type": "stream",
     "text": [
      "Primer elemento: 1\n",
      "Segundo elemento: 2\n",
      "Tercer elemento: 3\n",
      "Otros elementos: 4 5 6 7 8 9 10 11 12 13 14 15 16 17 18 19 20\n"
     ]
    }
   ],
   "execution_count": 45
  },
  {
   "attachments": {},
   "cell_type": "markdown",
   "metadata": {},
   "source": [
    "23) Crear un diccionario utilizando la lista crada en el punto 1, asignandole la clave \"ciudad\". Agregar tambien otras claves, como puede ser \"Pais\" y \"Continente\"."
   ]
  },
  {
   "metadata": {
    "ExecuteTime": {
     "end_time": "2024-06-29T19:29:18.437317Z",
     "start_time": "2024-06-29T19:29:18.418808Z"
    }
   },
   "cell_type": "code",
   "source": "print(ciudades)",
   "outputs": [
    {
     "name": "stdout",
     "output_type": "stream",
     "text": [
      "['Cuernavaca', 'Medellín', 'Madrid', 'Estocolmo', 'París', 'San Francisco']\n"
     ]
    }
   ],
   "execution_count": 59
  },
  {
   "metadata": {
    "ExecuteTime": {
     "end_time": "2024-06-29T19:31:42.785126Z",
     "start_time": "2024-06-29T19:31:42.775699Z"
    }
   },
   "cell_type": "code",
   "source": [
    "dicc = {  'Ciudad': ciudades, \n",
    "'País': ['México','Colombia','España','Suecia','Francia','Estados Unidos'], \n",
    "'Continente' : ['América','América','Europa','Europa','Europa', 'América']}"
   ],
   "outputs": [],
   "execution_count": 60
  },
  {
   "metadata": {
    "ExecuteTime": {
     "end_time": "2024-06-29T19:31:48.798148Z",
     "start_time": "2024-06-29T19:31:48.787198Z"
    }
   },
   "cell_type": "code",
   "source": "print(dicc)",
   "outputs": [
    {
     "name": "stdout",
     "output_type": "stream",
     "text": [
      "{'Ciudad': ['Cuernavaca', 'Medellín', 'Madrid', 'Estocolmo', 'París', 'San Francisco'], 'País': ['México', 'Colombia', 'España', 'Suecia', 'Francia', 'Estados Unidos'], 'Continente': ['América', 'América', 'Europa', 'Europa', 'Europa', 'América']}\n"
     ]
    }
   ],
   "execution_count": 61
  },
  {
   "attachments": {},
   "cell_type": "markdown",
   "metadata": {},
   "source": [
    "24) Imprimir las claves del diccionario"
   ]
  },
  {
   "metadata": {
    "ExecuteTime": {
     "end_time": "2024-06-29T19:32:14.989298Z",
     "start_time": "2024-06-29T19:32:14.971160Z"
    }
   },
   "cell_type": "code",
   "source": "print(dicc.keys())",
   "outputs": [
    {
     "name": "stdout",
     "output_type": "stream",
     "text": [
      "dict_keys(['Ciudad', 'País', 'Continente'])\n"
     ]
    }
   ],
   "execution_count": 62
  },
  {
   "attachments": {},
   "cell_type": "markdown",
   "metadata": {},
   "source": [
    "25) Imprimir las ciudades a través de su clave"
   ]
  },
  {
   "metadata": {
    "ExecuteTime": {
     "end_time": "2024-06-29T19:33:16.080144Z",
     "start_time": "2024-06-29T19:33:16.070949Z"
    }
   },
   "cell_type": "code",
   "source": "print(dicc['Ciudad'])",
   "outputs": [
    {
     "name": "stdout",
     "output_type": "stream",
     "text": [
      "['Cuernavaca', 'Medellín', 'Madrid', 'Estocolmo', 'París', 'San Francisco']\n"
     ]
    }
   ],
   "execution_count": 63
  },
  {
   "metadata": {},
   "cell_type": "code",
   "outputs": [],
   "execution_count": null,
   "source": ""
  }
 ],
 "metadata": {
  "interpreter": {
   "hash": "c85384e4cb51c8b72350f3a8712cc8351fdc3955e32a27f9b60c6242ab125f01"
  },
  "kernelspec": {
   "display_name": "Python 3 (ipykernel)",
   "language": "python",
   "name": "python3"
  },
  "language_info": {
   "codemirror_mode": {
    "name": "ipython",
    "version": 3
   },
   "file_extension": ".py",
   "mimetype": "text/x-python",
   "name": "python",
   "nbconvert_exporter": "python",
   "pygments_lexer": "ipython3",
   "version": "3.9.7"
  }
 },
 "nbformat": 4,
 "nbformat_minor": 4
}
