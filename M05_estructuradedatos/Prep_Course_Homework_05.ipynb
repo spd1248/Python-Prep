{
 "cells": [
  {
   "attachments": {},
   "cell_type": "markdown",
   "metadata": {},
   "source": [
    "## Estructuras de Datos"
   ]
  },
  {
   "attachments": {},
   "cell_type": "markdown",
   "metadata": {},
   "source": [
    "1) Crear una lista que contenga nombres de ciudades del mundo que contenga más de 5 elementos e imprimir por pantalla"
   ]
  },
  {
   "cell_type": "code",
   "metadata": {
    "ExecuteTime": {
     "end_time": "2024-04-23T22:42:41.512795Z",
     "start_time": "2024-04-23T22:42:41.495092Z"
    }
   },
   "source": [
    "ciudades = ['Nueva York', 'Londres', 'Tokio', 'París', 'Sídney', 'Roma', 'Los Ángeles']\n",
    "print(ciudades)\n"
   ],
   "outputs": [
    {
     "name": "stdout",
     "output_type": "stream",
     "text": [
      "['Nueva York', 'Londres', 'Tokio', 'París', 'Sídney', 'Roma', 'Los Ángeles']\n"
     ]
    }
   ],
   "execution_count": 1
  },
  {
   "attachments": {},
   "cell_type": "markdown",
   "metadata": {},
   "source": [
    "2) Imprimir por pantalla el segundo elemento de la lista"
   ]
  },
  {
   "cell_type": "code",
   "metadata": {
    "ExecuteTime": {
     "end_time": "2024-04-23T22:42:41.523585Z",
     "start_time": "2024-04-23T22:42:41.517800Z"
    }
   },
   "source": "print(ciudades[1])\n",
   "outputs": [
    {
     "name": "stdout",
     "output_type": "stream",
     "text": [
      "Londres\n"
     ]
    }
   ],
   "execution_count": 2
  },
  {
   "attachments": {},
   "cell_type": "markdown",
   "metadata": {},
   "source": [
    "3) Imprimir por pantalla del segundo al cuarto elemento"
   ]
  },
  {
   "cell_type": "code",
   "metadata": {
    "ExecuteTime": {
     "end_time": "2024-04-23T22:42:41.564055Z",
     "start_time": "2024-04-23T22:42:41.557251Z"
    }
   },
   "source": "print(ciudades[1:4])\n",
   "outputs": [
    {
     "name": "stdout",
     "output_type": "stream",
     "text": [
      "['Londres', 'Tokio', 'París']\n"
     ]
    }
   ],
   "execution_count": 3
  },
  {
   "attachments": {},
   "cell_type": "markdown",
   "metadata": {},
   "source": [
    "4) Visualizar el tipo de dato de la lista"
   ]
  },
  {
   "cell_type": "code",
   "metadata": {
    "ExecuteTime": {
     "end_time": "2024-04-23T22:42:41.660801Z",
     "start_time": "2024-04-23T22:42:41.654576Z"
    }
   },
   "source": "print(type(ciudades))\n",
   "outputs": [
    {
     "name": "stdout",
     "output_type": "stream",
     "text": [
      "<class 'list'>\n"
     ]
    }
   ],
   "execution_count": 4
  },
  {
   "attachments": {},
   "cell_type": "markdown",
   "metadata": {},
   "source": [
    "5) Visualizar todos los elementos de la lista a partir del tercero de manera genérica, es decir, sin explicitar la posición del último elemento"
   ]
  },
  {
   "cell_type": "code",
   "metadata": {
    "ExecuteTime": {
     "end_time": "2024-04-23T22:42:41.732614Z",
     "start_time": "2024-04-23T22:42:41.726476Z"
    }
   },
   "source": "print(ciudades[2:])\n",
   "outputs": [
    {
     "name": "stdout",
     "output_type": "stream",
     "text": [
      "['Tokio', 'París', 'Sídney', 'Roma', 'Los Ángeles']\n"
     ]
    }
   ],
   "execution_count": 5
  },
  {
   "attachments": {},
   "cell_type": "markdown",
   "metadata": {},
   "source": [
    "6) Visualizar los primeros 4 elementos de la lista"
   ]
  },
  {
   "cell_type": "code",
   "metadata": {
    "ExecuteTime": {
     "end_time": "2024-04-23T22:42:41.856623Z",
     "start_time": "2024-04-23T22:42:41.851286Z"
    }
   },
   "source": "print(ciudades[:4])\n",
   "outputs": [
    {
     "name": "stdout",
     "output_type": "stream",
     "text": [
      "['Nueva York', 'Londres', 'Tokio', 'París']\n"
     ]
    }
   ],
   "execution_count": 6
  },
  {
   "attachments": {},
   "cell_type": "markdown",
   "metadata": {},
   "source": [
    "7) Agregar una ciudad más a la lista que ya exista y otra que no ¿Arroja algún tipo de error?"
   ]
  },
  {
   "cell_type": "code",
   "metadata": {
    "ExecuteTime": {
     "end_time": "2024-04-23T22:42:41.906183Z",
     "start_time": "2024-04-23T22:42:41.901227Z"
    }
   },
   "source": [
    "ciudades.append('Londres')\n",
    "ciudades.append('Berlín')\n"
   ],
   "outputs": [],
   "execution_count": 7
  },
  {
   "attachments": {},
   "cell_type": "markdown",
   "metadata": {},
   "source": [
    "8) Agregar otra ciudad, pero en la cuarta posición"
   ]
  },
  {
   "cell_type": "code",
   "metadata": {
    "ExecuteTime": {
     "end_time": "2024-04-23T22:42:42.040073Z",
     "start_time": "2024-04-23T22:42:42.035770Z"
    }
   },
   "source": "ciudades.insert(3, 'Madrid')\n",
   "outputs": [],
   "execution_count": 8
  },
  {
   "attachments": {},
   "cell_type": "markdown",
   "metadata": {},
   "source": [
    "9) Concatenar otra lista a la ya creada"
   ]
  },
  {
   "cell_type": "code",
   "metadata": {
    "ExecuteTime": {
     "end_time": "2024-04-23T22:42:42.128958Z",
     "start_time": "2024-04-23T22:42:42.123208Z"
    }
   },
   "source": [
    "otras_ciudades = ['Moscú', 'Pekín']\n",
    "ciudades += otras_ciudades\n"
   ],
   "outputs": [],
   "execution_count": 9
  },
  {
   "attachments": {},
   "cell_type": "markdown",
   "metadata": {},
   "source": [
    "10) Encontrar el índice de la ciudad que en el punto 7 agregamos duplicada. ¿Se nota alguna particularidad?"
   ]
  },
  {
   "cell_type": "code",
   "metadata": {
    "ExecuteTime": {
     "end_time": "2024-04-23T22:42:42.215714Z",
     "start_time": "2024-04-23T22:42:42.209941Z"
    }
   },
   "source": [
    "indice_duplicado = ciudades.index('Londres')\n",
    "print(\"Índice del duplicado 'Londres':\", indice_duplicado)\n"
   ],
   "outputs": [
    {
     "name": "stdout",
     "output_type": "stream",
     "text": [
      "Índice del duplicado 'Londres': 1\n"
     ]
    }
   ],
   "execution_count": 10
  },
  {
   "attachments": {},
   "cell_type": "markdown",
   "metadata": {},
   "source": [
    "11) ¿Qué pasa si se busca un elemento que no existe?"
   ]
  },
  {
   "cell_type": "code",
   "metadata": {
    "ExecuteTime": {
     "end_time": "2024-04-23T22:42:42.244211Z",
     "start_time": "2024-04-23T22:42:42.239661Z"
    }
   },
   "source": "#error ",
   "outputs": [],
   "execution_count": 11
  },
  {
   "attachments": {},
   "cell_type": "markdown",
   "metadata": {},
   "source": [
    "12) Eliminar un elemento de la lista"
   ]
  },
  {
   "cell_type": "code",
   "metadata": {
    "ExecuteTime": {
     "end_time": "2024-04-23T22:42:42.347264Z",
     "start_time": "2024-04-23T22:42:42.339585Z"
    }
   },
   "source": "ciudades.remove('París')\n",
   "outputs": [],
   "execution_count": 12
  },
  {
   "attachments": {},
   "cell_type": "markdown",
   "metadata": {},
   "source": [
    "13) ¿Qué pasa si el elemento a eliminar no existe?"
   ]
  },
  {
   "cell_type": "code",
   "metadata": {
    "ExecuteTime": {
     "end_time": "2024-04-23T22:42:42.418216Z",
     "start_time": "2024-04-23T22:42:42.413350Z"
    }
   },
   "source": "#error",
   "outputs": [],
   "execution_count": 13
  },
  {
   "attachments": {},
   "cell_type": "markdown",
   "metadata": {},
   "source": [
    "14) Extraer el úlimo elemento de la lista, guardarlo en una variable e imprimirlo"
   ]
  },
  {
   "cell_type": "code",
   "metadata": {
    "ExecuteTime": {
     "end_time": "2024-04-23T22:42:42.484591Z",
     "start_time": "2024-04-23T22:42:42.478445Z"
    }
   },
   "source": [
    "ultimo_elemento = ciudades.pop()\n",
    "print(\"Último elemento de la lista:\", ultimo_elemento)\n"
   ],
   "outputs": [
    {
     "name": "stdout",
     "output_type": "stream",
     "text": [
      "Último elemento de la lista: Pekín\n"
     ]
    }
   ],
   "execution_count": 14
  },
  {
   "attachments": {},
   "cell_type": "markdown",
   "metadata": {},
   "source": [
    "15) Mostrar la lista multiplicada por 4"
   ]
  },
  {
   "cell_type": "code",
   "metadata": {
    "ExecuteTime": {
     "end_time": "2024-04-23T22:42:42.512976Z",
     "start_time": "2024-04-23T22:42:42.507344Z"
    }
   },
   "source": "print(ciudades * 4)\n",
   "outputs": [
    {
     "name": "stdout",
     "output_type": "stream",
     "text": [
      "['Nueva York', 'Londres', 'Tokio', 'Madrid', 'Sídney', 'Roma', 'Los Ángeles', 'Londres', 'Berlín', 'Moscú', 'Nueva York', 'Londres', 'Tokio', 'Madrid', 'Sídney', 'Roma', 'Los Ángeles', 'Londres', 'Berlín', 'Moscú', 'Nueva York', 'Londres', 'Tokio', 'Madrid', 'Sídney', 'Roma', 'Los Ángeles', 'Londres', 'Berlín', 'Moscú', 'Nueva York', 'Londres', 'Tokio', 'Madrid', 'Sídney', 'Roma', 'Los Ángeles', 'Londres', 'Berlín', 'Moscú']\n"
     ]
    }
   ],
   "execution_count": 15
  },
  {
   "attachments": {},
   "cell_type": "markdown",
   "metadata": {},
   "source": [
    "16) Crear una tupla que contenga los números enteros del 1 al 20"
   ]
  },
  {
   "cell_type": "code",
   "metadata": {
    "ExecuteTime": {
     "end_time": "2024-04-23T22:42:42.593095Z",
     "start_time": "2024-04-23T22:42:42.588874Z"
    }
   },
   "source": "numeros = tuple(range(1, 21))\n",
   "outputs": [],
   "execution_count": 16
  },
  {
   "attachments": {},
   "cell_type": "markdown",
   "metadata": {},
   "source": [
    "17) Imprimir desde el índice 10 al 15 de la tupla"
   ]
  },
  {
   "cell_type": "code",
   "metadata": {
    "ExecuteTime": {
     "end_time": "2024-04-23T22:42:42.666521Z",
     "start_time": "2024-04-23T22:42:42.660541Z"
    }
   },
   "source": "print(numeros[9:15])\n",
   "outputs": [
    {
     "name": "stdout",
     "output_type": "stream",
     "text": [
      "(10, 11, 12, 13, 14, 15)\n"
     ]
    }
   ],
   "execution_count": 17
  },
  {
   "attachments": {},
   "cell_type": "markdown",
   "metadata": {},
   "source": [
    "18) Evaluar si los números 20 y 30 están dentro de la tupla"
   ]
  },
  {
   "cell_type": "code",
   "metadata": {
    "ExecuteTime": {
     "end_time": "2024-04-23T22:42:42.749843Z",
     "start_time": "2024-04-23T22:42:42.744538Z"
    }
   },
   "source": [
    "print(20 in numeros)\n",
    "print(30 in numeros)\n"
   ],
   "outputs": [
    {
     "name": "stdout",
     "output_type": "stream",
     "text": [
      "True\n",
      "False\n"
     ]
    }
   ],
   "execution_count": 18
  },
  {
   "attachments": {},
   "cell_type": "markdown",
   "metadata": {},
   "source": [
    "19) Con la lista creada en el punto 1, validar la existencia del elemento 'París' y si no existe, agregarlo. Utilizar una variable e informar lo sucedido."
   ]
  },
  {
   "cell_type": "code",
   "metadata": {
    "ExecuteTime": {
     "end_time": "2024-04-23T22:42:42.794251Z",
     "start_time": "2024-04-23T22:42:42.788685Z"
    }
   },
   "source": [
    "if 'París' not in ciudades:\n",
    "    ciudades.append('París')\n",
    "    resultado = \"París fue agregado a la lista.\"\n",
    "else:\n",
    "    resultado = \"París ya existe en la lista.\"\n",
    "print(resultado)\n"
   ],
   "outputs": [
    {
     "name": "stdout",
     "output_type": "stream",
     "text": [
      "París fue agregado a la lista.\n"
     ]
    }
   ],
   "execution_count": 19
  },
  {
   "attachments": {},
   "cell_type": "markdown",
   "metadata": {},
   "source": [
    "20) Mostrar la cantidad de veces que se encuentra un elemento específico dentro de la tupla y de la lista"
   ]
  },
  {
   "cell_type": "code",
   "metadata": {
    "ExecuteTime": {
     "end_time": "2024-04-23T22:42:42.877114Z",
     "start_time": "2024-04-23T22:42:42.870481Z"
    }
   },
   "source": [
    "elemento_especifico = 'Londres'\n",
    "print(\"Cantidad de veces que\", elemento_especifico, \"aparece en la lista:\", ciudades.count(elemento_especifico))\n",
    "print(\"Cantidad de veces que\", elemento_especifico, \"aparece en la tupla:\", numeros.count(ciudades.count(elemento_especifico)))\n"
   ],
   "outputs": [
    {
     "name": "stdout",
     "output_type": "stream",
     "text": [
      "Cantidad de veces que Londres aparece en la lista: 2\n",
      "Cantidad de veces que Londres aparece en la tupla: 1\n"
     ]
    }
   ],
   "execution_count": 20
  },
  {
   "attachments": {},
   "cell_type": "markdown",
   "metadata": {},
   "source": [
    "21) Convertir la tupla en una lista"
   ]
  },
  {
   "cell_type": "code",
   "metadata": {
    "ExecuteTime": {
     "end_time": "2024-04-23T22:42:42.940430Z",
     "start_time": "2024-04-23T22:42:42.936642Z"
    }
   },
   "source": "numeros_lista = list(numeros)\n",
   "outputs": [],
   "execution_count": 21
  },
  {
   "attachments": {},
   "cell_type": "markdown",
   "metadata": {},
   "source": [
    "22) Desempaquetar solo los primeros 3 elementos de la tupla en 3 variables"
   ]
  },
  {
   "cell_type": "code",
   "metadata": {
    "ExecuteTime": {
     "end_time": "2024-04-23T22:42:43.014496Z",
     "start_time": "2024-04-23T22:42:43.009636Z"
    }
   },
   "source": "num1, num2, num3, *_ = numeros\n",
   "outputs": [],
   "execution_count": 22
  },
  {
   "attachments": {},
   "cell_type": "markdown",
   "metadata": {},
   "source": [
    "23) Crear un diccionario utilizando la lista crada en el punto 1, asignandole la clave \"ciudad\". Agregar tambien otras claves, como puede ser \"Pais\" y \"Continente\"."
   ]
  },
  {
   "cell_type": "code",
   "metadata": {
    "ExecuteTime": {
     "end_time": "2024-04-23T22:42:43.051683Z",
     "start_time": "2024-04-23T22:42:43.046273Z"
    }
   },
   "source": [
    "diccionario = {\n",
    "    \"ciudad\": ciudades,\n",
    "    \"Pais\": \"Varios\",\n",
    "    \"Continente\": \"Varios\"\n",
    "}\n"
   ],
   "outputs": [],
   "execution_count": 23
  },
  {
   "attachments": {},
   "cell_type": "markdown",
   "metadata": {},
   "source": [
    "24) Imprimir las claves del diccionario"
   ]
  },
  {
   "cell_type": "code",
   "metadata": {
    "ExecuteTime": {
     "end_time": "2024-04-23T22:42:43.094062Z",
     "start_time": "2024-04-23T22:42:43.088470Z"
    }
   },
   "source": "print(\"Claves del diccionario:\", list(diccionario.keys()))\n",
   "outputs": [
    {
     "name": "stdout",
     "output_type": "stream",
     "text": [
      "Claves del diccionario: ['ciudad', 'Pais', 'Continente']\n"
     ]
    }
   ],
   "execution_count": 24
  },
  {
   "attachments": {},
   "cell_type": "markdown",
   "metadata": {},
   "source": [
    "25) Imprimir las ciudades a través de su clave"
   ]
  },
  {
   "cell_type": "code",
   "metadata": {
    "ExecuteTime": {
     "end_time": "2024-04-23T22:42:43.132636Z",
     "start_time": "2024-04-23T22:42:43.128011Z"
    }
   },
   "source": "print(\"Ciudades:\", diccionario[\"ciudad\"])\n",
   "outputs": [
    {
     "name": "stdout",
     "output_type": "stream",
     "text": [
      "Ciudades: ['Nueva York', 'Londres', 'Tokio', 'Madrid', 'Sídney', 'Roma', 'Los Ángeles', 'Londres', 'Berlín', 'Moscú', 'París']\n"
     ]
    }
   ],
   "execution_count": 25
  }
 ],
 "metadata": {
  "interpreter": {
   "hash": "c85384e4cb51c8b72350f3a8712cc8351fdc3955e32a27f9b60c6242ab125f01"
  },
  "kernelspec": {
   "display_name": "Python 3 (ipykernel)",
   "language": "python",
   "name": "python3"
  },
  "language_info": {
   "codemirror_mode": {
    "name": "ipython",
    "version": 3
   },
   "file_extension": ".py",
   "mimetype": "text/x-python",
   "name": "python",
   "nbconvert_exporter": "python",
   "pygments_lexer": "ipython3",
   "version": "3.9.7"
  }
 },
 "nbformat": 4,
 "nbformat_minor": 4
}
