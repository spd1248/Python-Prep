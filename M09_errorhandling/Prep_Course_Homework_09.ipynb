{
 "cells": [
  {
   "attachments": {},
   "cell_type": "markdown",
   "metadata": {},
   "source": [
    "## Manejo de errores"
   ]
  },
  {
   "metadata": {},
   "cell_type": "markdown",
   "source": "Pruebas"
  },
  {
   "metadata": {
    "ExecuteTime": {
     "end_time": "2024-07-05T00:55:26.827831Z",
     "start_time": "2024-07-05T00:55:26.806606Z"
    }
   },
   "cell_type": "code",
   "source": [
    "import unittest\n",
    "\n",
    "def resta(num_1, num_2):\n",
    "    return num_1 - num_2\n",
    "\n",
    "class CajaNegraTest(unittest.TestCase):\n",
    "    def test_suma_dos_positivos(self):\n",
    "        num_1 = 10\n",
    "        num_2 = 5\n",
    "        resultado = suma(num_1, num_2)\n",
    "        self.assertEqual(resultado, 15)\n",
    "\n",
    "    def test_suma_dos_negativos(self):\n",
    "        num_1 = -10\n",
    "        num_2 = -7\n",
    "        resultado = suma(num_1, num_2)\n",
    "        self.assertEqual(resultado, -17)\n",
    "    \n",
    "    def test_resta_dos_positivos(self):\n",
    "        num_1 = 10\n",
    "        num_2 = 5\n",
    "        resultado = resta(num_1, num_2)\n",
    "        self.assertEqual(resultado, 5)\n",
    "    \n",
    "    def test_resta_dos_negativos(self):\n",
    "        num_1 = -10\n",
    "        num_2 = -7\n",
    "        resultado = resta(num_1, num_2)\n",
    "        self.assertEqual(resultado, -3)\n",
    "\n",
    "if __name__ == '__main__':\n",
    "    unittest.main(argv=[''], verbosity=2, exit=False)\n",
    "\n"
   ],
   "outputs": [
    {
     "name": "stderr",
     "output_type": "stream",
     "text": [
      "test_resta_dos_negativos (__main__.CajaNegraTest.test_resta_dos_negativos) ... ok\n",
      "test_resta_dos_positivos (__main__.CajaNegraTest.test_resta_dos_positivos) ... ok\n",
      "test_suma_dos_negativos (__main__.CajaNegraTest.test_suma_dos_negativos) ... ok\n",
      "test_suma_dos_positivos (__main__.CajaNegraTest.test_suma_dos_positivos) ... ok\n",
      "test_crear_objeto1 (__main__.ProbandoMiClase.test_crear_objeto1)\n",
      "Método de prueba para verificar el comportamiento al crear un objeto Herramientas con un parámetro inválido. ... ok\n",
      "test_crear_objeto2 (__main__.ProbandoMiClase.test_crear_objeto2)\n",
      "Método de prueba para verificar el comportamiento al crear un objeto Herramientas con una lista válida como parámetro. ... ok\n",
      "test_valor_modal (__main__.ProbandoMiClase.test_valor_modal)\n",
      "Método de prueba para verificar el comportamiento del método valor_modal de la clase Herramientas. ... ok\n",
      "test_verifica_primos1 (__main__.ProbandoMiClase2.test_verifica_primos1) ... ok\n",
      "test_verifica_conversion1 (__main__.ProbandoMiClase3.test_verifica_conversion1) ... ok\n",
      "test_verifica_factorial (__main__.ProbandoMiClase4.test_verifica_factorial) ... ok\n",
      "test_mayor_edad (__main__.PruebaCajaNegra.test_mayor_edad) ... ok\n",
      "test_es_mayor_de_edad (__main__.PruebaCristalTest.test_es_mayor_de_edad) ... ok\n",
      "test_es_menor_de_edad (__main__.PruebaCristalTest.test_es_menor_de_edad) ... ok\n",
      "\n",
      "----------------------------------------------------------------------\n",
      "Ran 13 tests in 0.011s\n",
      "\n",
      "OK\n"
     ]
    }
   ],
   "execution_count": 73
  },
  {
   "metadata": {
    "ExecuteTime": {
     "end_time": "2024-07-05T00:55:43.498120Z",
     "start_time": "2024-07-05T00:55:43.473393Z"
    }
   },
   "cell_type": "code",
   "source": [
    "import unittest\n",
    "\n",
    "def es_mayor_de_edad(edad):\n",
    "    if edad >= 18:\n",
    "        return True\n",
    "    else:\n",
    "        return False\n",
    "\n",
    "class PruebaCristalTest(unittest.TestCase):\n",
    "    \n",
    "    def test_es_mayor_de_edad(self):\n",
    "        edad = 20\n",
    "        resultado = es_mayor_de_edad(edad)\n",
    "        self.assertEqual(resultado, True)\n",
    "    \n",
    "    def test_es_menor_de_edad(self):\n",
    "        edad = 10\n",
    "        resultado = es_mayor_de_edad(edad)\n",
    "        self.assertEqual(resultado, False)\n",
    "\n",
    "if __name__ == '__main__':\n",
    "    unittest.main(argv=[''], verbosity=2, exit=False)\n"
   ],
   "outputs": [
    {
     "name": "stderr",
     "output_type": "stream",
     "text": [
      "test_resta_dos_negativos (__main__.CajaNegraTest.test_resta_dos_negativos) ... ok\n",
      "test_resta_dos_positivos (__main__.CajaNegraTest.test_resta_dos_positivos) ... ok\n",
      "test_suma_dos_negativos (__main__.CajaNegraTest.test_suma_dos_negativos) ... ok\n",
      "test_suma_dos_positivos (__main__.CajaNegraTest.test_suma_dos_positivos) ... ok\n",
      "test_crear_objeto1 (__main__.ProbandoMiClase.test_crear_objeto1)\n",
      "Método de prueba para verificar el comportamiento al crear un objeto Herramientas con un parámetro inválido. ... ok\n",
      "test_crear_objeto2 (__main__.ProbandoMiClase.test_crear_objeto2)\n",
      "Método de prueba para verificar el comportamiento al crear un objeto Herramientas con una lista válida como parámetro. ... ok\n",
      "test_valor_modal (__main__.ProbandoMiClase.test_valor_modal)\n",
      "Método de prueba para verificar el comportamiento del método valor_modal de la clase Herramientas. ... ok\n",
      "test_verifica_primos1 (__main__.ProbandoMiClase2.test_verifica_primos1) ... ok\n",
      "test_verifica_conversion1 (__main__.ProbandoMiClase3.test_verifica_conversion1) ... ok\n",
      "test_verifica_factorial (__main__.ProbandoMiClase4.test_verifica_factorial) ... ok\n",
      "test_mayor_edad (__main__.PruebaCajaNegra.test_mayor_edad) ... ok\n",
      "test_es_mayor_de_edad (__main__.PruebaCristalTest.test_es_mayor_de_edad) ... ok\n",
      "test_es_menor_de_edad (__main__.PruebaCristalTest.test_es_menor_de_edad) ... ok\n",
      "\n",
      "----------------------------------------------------------------------\n",
      "Ran 13 tests in 0.015s\n",
      "\n",
      "OK\n"
     ]
    }
   ],
   "execution_count": 90
  },
  {
   "metadata": {},
   "cell_type": "markdown",
   "source": "Debugging"
  },
  {
   "metadata": {
    "ExecuteTime": {
     "end_time": "2024-07-05T00:55:26.911726Z",
     "start_time": "2024-07-05T00:55:26.899331Z"
    }
   },
   "cell_type": "code",
   "source": [
    "def multiplicar_por_dos(lista):\n",
    "    lista_multiplicada = []\n",
    "    for num in lista:\n",
    "        lista_multiplicada.append(num*2)\n",
    "    return lista_multiplicada\n",
    "\n",
    "numeros = [1,2,3,4,5,6,7,8,9,10,11,12,13,14,15]\n",
    "resultado = multiplicar_por_dos(numeros)\n",
    "print(resultado)"
   ],
   "outputs": [
    {
     "name": "stdout",
     "output_type": "stream",
     "text": [
      "[2, 4, 6, 8, 10, 12, 14, 16, 18, 20, 22, 24, 26, 28, 30]\n"
     ]
    }
   ],
   "execution_count": 74
  },
  {
   "metadata": {
    "ExecuteTime": {
     "end_time": "2024-07-05T00:55:26.919239Z",
     "start_time": "2024-07-05T00:55:26.911726Z"
    }
   },
   "cell_type": "code",
   "source": [
    "def divide_elementos_de_lista(lista, divisor):\n",
    "    '''\n",
    "    Cada elemento de una lista es dividida por un divisor definido.\n",
    "    En caso de error de tipo ZeroDivisionError que\n",
    "    significa error al dividir en cero\n",
    "    la función devuelve la lista inicial\n",
    "    '''\n",
    "\n",
    "    try:\n",
    "        return [i / divisor for i in lista]\n",
    "\n",
    "    except ZeroDivisionError as e:\n",
    "        print(e)\n",
    "        return lista"
   ],
   "outputs": [],
   "execution_count": 75
  },
  {
   "metadata": {
    "ExecuteTime": {
     "end_time": "2024-07-05T00:55:26.961273Z",
     "start_time": "2024-07-05T00:55:26.955007Z"
    }
   },
   "cell_type": "code",
   "source": [
    "lista = list(range(10))\n",
    "divisor = 0\n",
    "\n",
    "print(divide_elementos_de_lista(lista, divisor))"
   ],
   "outputs": [
    {
     "name": "stdout",
     "output_type": "stream",
     "text": [
      "division by zero\n",
      "[0, 1, 2, 3, 4, 5, 6, 7, 8, 9]\n"
     ]
    }
   ],
   "execution_count": 76
  },
  {
   "metadata": {
    "ExecuteTime": {
     "end_time": "2024-07-05T00:55:26.991039Z",
     "start_time": "2024-07-05T00:55:26.983326Z"
    }
   },
   "cell_type": "code",
   "source": [
    "def dividir(num1, num2):\n",
    "    try:\n",
    "        resultado = num1 / num2\n",
    "        return resultado\n",
    "    except ZeroDivisionError:\n",
    "        print(\"No se puede dividir por cero.\")\n",
    "        return None"
   ],
   "outputs": [],
   "execution_count": 77
  },
  {
   "metadata": {
    "ExecuteTime": {
     "end_time": "2024-07-05T00:55:27.005612Z",
     "start_time": "2024-07-05T00:55:26.999094Z"
    }
   },
   "cell_type": "code",
   "source": "dividir(18,0)",
   "outputs": [
    {
     "name": "stdout",
     "output_type": "stream",
     "text": [
      "No se puede dividir por cero.\n"
     ]
    }
   ],
   "execution_count": 78
  },
  {
   "metadata": {
    "ExecuteTime": {
     "end_time": "2024-07-05T00:55:27.021498Z",
     "start_time": "2024-07-05T00:55:27.014860Z"
    }
   },
   "cell_type": "code",
   "source": [
    "try:\n",
    "    with open(\"archivo.txt\", \"r\") as f:\n",
    "        contenido = f.read()\n",
    "except FileNotFoundError:\n",
    "    print(\"El archivo no existe.\")\n"
   ],
   "outputs": [
    {
     "name": "stdout",
     "output_type": "stream",
     "text": [
      "El archivo no existe.\n"
     ]
    }
   ],
   "execution_count": 79
  },
  {
   "metadata": {
    "ExecuteTime": {
     "end_time": "2024-07-05T00:55:27.046678Z",
     "start_time": "2024-07-05T00:55:27.039388Z"
    }
   },
   "cell_type": "code",
   "source": [
    "def primera_letra(lista_de_palabras):\n",
    "  primeras_letras = []\n",
    "\n",
    "  for palabra in lista_de_palabras:\n",
    "    assert type(palabra) == str, f'{palabra} no es str'\n",
    "    assert len(palabra) > 0, 'No se permiten str vacíos'\n",
    "\n",
    "    primeras_letras.append(palabra[0])\n",
    "  return primeras_letras"
   ],
   "outputs": [],
   "execution_count": 80
  },
  {
   "metadata": {
    "ExecuteTime": {
     "end_time": "2024-07-05T00:55:27.084061Z",
     "start_time": "2024-07-05T00:55:27.048993Z"
    }
   },
   "cell_type": "code",
   "source": [
    "palabras = ['Hola', 'mundo', 42]\n",
    "primera_letra(palabras)"
   ],
   "outputs": [
    {
     "ename": "AssertionError",
     "evalue": "42 no es str",
     "output_type": "error",
     "traceback": [
      "\u001B[1;31m---------------------------------------------------------------------------\u001B[0m",
      "\u001B[1;31mAssertionError\u001B[0m                            Traceback (most recent call last)",
      "Cell \u001B[1;32mIn[81], line 2\u001B[0m\n\u001B[0;32m      1\u001B[0m palabras \u001B[38;5;241m=\u001B[39m [\u001B[38;5;124m'\u001B[39m\u001B[38;5;124mHola\u001B[39m\u001B[38;5;124m'\u001B[39m, \u001B[38;5;124m'\u001B[39m\u001B[38;5;124mmundo\u001B[39m\u001B[38;5;124m'\u001B[39m, \u001B[38;5;241m42\u001B[39m]\n\u001B[1;32m----> 2\u001B[0m \u001B[43mprimera_letra\u001B[49m\u001B[43m(\u001B[49m\u001B[43mpalabras\u001B[49m\u001B[43m)\u001B[49m\n",
      "Cell \u001B[1;32mIn[80], line 5\u001B[0m, in \u001B[0;36mprimera_letra\u001B[1;34m(lista_de_palabras)\u001B[0m\n\u001B[0;32m      2\u001B[0m primeras_letras \u001B[38;5;241m=\u001B[39m []\n\u001B[0;32m      4\u001B[0m \u001B[38;5;28;01mfor\u001B[39;00m palabra \u001B[38;5;129;01min\u001B[39;00m lista_de_palabras:\n\u001B[1;32m----> 5\u001B[0m   \u001B[38;5;28;01massert\u001B[39;00m \u001B[38;5;28mtype\u001B[39m(palabra) \u001B[38;5;241m==\u001B[39m \u001B[38;5;28mstr\u001B[39m, \u001B[38;5;124mf\u001B[39m\u001B[38;5;124m'\u001B[39m\u001B[38;5;132;01m{\u001B[39;00mpalabra\u001B[38;5;132;01m}\u001B[39;00m\u001B[38;5;124m no es str\u001B[39m\u001B[38;5;124m'\u001B[39m\n\u001B[0;32m      6\u001B[0m   \u001B[38;5;28;01massert\u001B[39;00m \u001B[38;5;28mlen\u001B[39m(palabra) \u001B[38;5;241m>\u001B[39m \u001B[38;5;241m0\u001B[39m, \u001B[38;5;124m'\u001B[39m\u001B[38;5;124mNo se permiten str vacíos\u001B[39m\u001B[38;5;124m'\u001B[39m\n\u001B[0;32m      8\u001B[0m   primeras_letras\u001B[38;5;241m.\u001B[39mappend(palabra[\u001B[38;5;241m0\u001B[39m])\n",
      "\u001B[1;31mAssertionError\u001B[0m: 42 no es str"
     ]
    }
   ],
   "execution_count": 81
  },
  {
   "attachments": {},
   "cell_type": "markdown",
   "metadata": {},
   "source": [
    "1) Con la clase creada en el módulo 7, tener en cuenta diferentes casos en que el código pudiera arrojar error. Por ejemplo, en la creación del objeto recibimos una lista de números enteros pero ¿qué pasa si se envía otro tipo de dato?"
   ]
  },
  {
   "metadata": {},
   "cell_type": "code",
   "source": [
    "import sys\n",
    "\n",
    "sys.path.append(\n",
    "    r'/C:/Users/spd12/Documentos/GitHub/Python-Prep/M08_clasesyOOP/herramientas.py')  # Agrega la ruta al archivo 'herramientas.py' al sys.path\n",
    "\n",
    "import \\\n",
    "    herramientas as h  #se importa el módulo llamado 'herramientas' y se le asigna un alias 'h' utilizando la palabra clave as. \n",
    "\n",
    "h1 = h.Herramientas('hola')  #si se envia un tipo de dato diferente al esperado, arroja error"
   ],
   "outputs": [],
   "execution_count": null
  },
  {
   "metadata": {
    "ExecuteTime": {
     "end_time": "2024-07-05T00:55:27.134931Z",
     "start_time": "2024-07-05T00:55:27.129227Z"
    }
   },
   "cell_type": "code",
   "source": "h1 = h.Herramientas([2,3,5,6,2])\n",
   "outputs": [],
   "execution_count": 82
  },
  {
   "attachments": {},
   "cell_type": "markdown",
   "metadata": {},
   "source": [
    "2) En la función que hace la conversión de grados, validar que los parámetros enviados sean los esperados, de no serlo, informar cuáles son los valores esperados."
   ]
  },
  {
   "metadata": {
    "ExecuteTime": {
     "end_time": "2024-07-05T00:55:27.175190Z",
     "start_time": "2024-07-05T00:55:27.158973Z"
    }
   },
   "cell_type": "code",
   "source": [
    "import importlib  #se importa el módulo importlib, el cual proporciona funciones para recargar (reload) módulos previamente importados. \n",
    "importlib.reload(h)  # la función reload() de importlib recargar el módulo herramientas (previamente importado y asignado a un alias h)."
   ],
   "outputs": [
    {
     "data": {
      "text/plain": [
       "<module 'herramientas' from 'C:\\\\Users\\\\spd12\\\\OneDrive\\\\Documentos\\\\GitHub\\\\Python-Prep\\\\M09_errorhandling\\\\herramientas.py'>"
      ]
     },
     "execution_count": 83,
     "metadata": {},
     "output_type": "execute_result"
    }
   ],
   "execution_count": 83
  },
  {
   "metadata": {
    "ExecuteTime": {
     "end_time": "2024-07-05T00:55:27.206571Z",
     "start_time": "2024-07-05T00:55:27.198970Z"
    }
   },
   "cell_type": "code",
   "source": [
    "h1 = h.Herramientas([2, 3, 5, 6, 2])\n",
    "h1.conversion_grados(1, 2)\n",
    "h1.conversion_grados('celsius', 'farenheit')"
   ],
   "outputs": [
    {
     "name": "stdout",
     "output_type": "stream",
     "text": [
      "Los parametros esperados son: ['celsius', 'kelvin', 'farenheit']\n"
     ]
    },
    {
     "data": {
      "text/plain": [
       "[35.6, 37.4, 41.0, 42.8, 35.6]"
      ]
     },
     "execution_count": 84,
     "metadata": {},
     "output_type": "execute_result"
    }
   ],
   "execution_count": 84
  },
  {
   "attachments": {},
   "cell_type": "markdown",
   "metadata": {},
   "source": [
    "3) Importar el modulo \"unittest\" y crear los siguientes casos de pruebas sobre la clase utilizada en el punto 2<br>\n",
    "Creacion del objeto incorrecta<br>\n",
    "Creacion correcta del objeto<br>\n",
    "Metodo valor_modal()<br>\n",
    "\n",
    "Se puede usar \"raise ValueError()\" en la creación de la clase para verificar el error. Investigar sobre esta funcionalidad."
   ]
  },
  {
   "cell_type": "code",
   "metadata": {
    "ExecuteTime": {
     "end_time": "2024-07-05T00:55:27.280959Z",
     "start_time": "2024-07-05T00:55:27.253548Z"
    }
   },
   "source": [
    "import unittest  #se importa el módulo unittest,es un marco de trabajo integrado en Python para escribir y ejecutar pruebas unitarias. \n",
    "\n",
    "\n",
    "# comentado paso a paso\n",
    "class ProbandoMiClase(unittest.TestCase):\n",
    "    \"\"\"\n",
    "    Clase de prueba para la clase Herramientas del módulo 'h'.\n",
    "    Esta clase hereda de unittest.TestCase, lo que la convierte en una clase de prueba.\n",
    "    \"\"\"\n",
    "\n",
    "    def test_crear_objeto1(self):\n",
    "        \"\"\"\n",
    "        Método de prueba para verificar el comportamiento al crear un objeto Herramientas con un parámetro inválido.\n",
    "        \"\"\"\n",
    "        param = 'hola'\n",
    "        self.assertRaises(ValueError, h.Herramientas, param)\n",
    "        # self.failUnlessRaises(ValueError, h.Herramientas, param)\n",
    "        # Se utiliza assertRaises para verificar que al crear un objeto Herramientas con un parámetro inválido\n",
    "        # se genere una excepción de tipo ValueError. Se espera que el código en el bloque de prueba genere esta excepción.\n",
    "        # Si no se genera la excepción, el caso de prueba falla.\n",
    "\n",
    "    def test_crear_objeto2(self):\n",
    "        \"\"\"\n",
    "        Método de prueba para verificar el comportamiento al crear un objeto Herramientas con una lista válida como parámetro.\n",
    "        \"\"\"\n",
    "        param = [1, 2, 2, 5]\n",
    "        h1 = h.Herramientas(param)\n",
    "        self.assertEqual(h1.lista, param)\n",
    "        # Se utiliza assertEqual para verificar que la lista almacenada en el objeto h1 de tipo Herramientas\n",
    "        # sea igual a la lista param proporcionada como parámetro al crear el objeto.\n",
    "        # Si las listas no son iguales, el caso de prueba falla.\n",
    "\n",
    "    def test_valor_modal(self):\n",
    "        \"\"\"\n",
    "        Método de prueba para verificar el comportamiento del método valor_modal de la clase Herramientas.\n",
    "        \"\"\"\n",
    "        lis = [1, 2, 1, 3]\n",
    "        h1 = h.Herramientas(lis)\n",
    "        moda, veces = h1.valor_modal(False)\n",
    "        moda = [moda]\n",
    "        moda.append(veces)\n",
    "        resultado = [1, 2]\n",
    "        self.assertEqual(moda, resultado)\n",
    "        # Se utiliza assertEqual para verificar que el valor de moda y la cantidad de repeticiones devueltos\n",
    "        # por el método valor_modal de la clase Herramientas sean iguales a los valores esperados almacenados en resultado.\n",
    "        # Si los valores no coinciden, el caso de prueba falla.\n",
    "\n",
    "\n",
    "unittest.main(argv=[''], verbosity=2, exit=False)"
   ],
   "outputs": [
    {
     "name": "stderr",
     "output_type": "stream",
     "text": [
      "test_resta_dos_negativos (__main__.CajaNegraTest.test_resta_dos_negativos) ... ok\n",
      "test_resta_dos_positivos (__main__.CajaNegraTest.test_resta_dos_positivos) ... ok\n",
      "test_suma_dos_negativos (__main__.CajaNegraTest.test_suma_dos_negativos) ... ok\n",
      "test_suma_dos_positivos (__main__.CajaNegraTest.test_suma_dos_positivos) ... ok\n",
      "test_crear_objeto1 (__main__.ProbandoMiClase.test_crear_objeto1)\n",
      "Método de prueba para verificar el comportamiento al crear un objeto Herramientas con un parámetro inválido. ... ok\n",
      "test_crear_objeto2 (__main__.ProbandoMiClase.test_crear_objeto2)\n",
      "Método de prueba para verificar el comportamiento al crear un objeto Herramientas con una lista válida como parámetro. ... ok\n",
      "test_valor_modal (__main__.ProbandoMiClase.test_valor_modal)\n",
      "Método de prueba para verificar el comportamiento del método valor_modal de la clase Herramientas. ... ok\n",
      "test_verifica_primos1 (__main__.ProbandoMiClase2.test_verifica_primos1) ... ok\n",
      "test_verifica_conversion1 (__main__.ProbandoMiClase3.test_verifica_conversion1) ... ok\n",
      "test_verifica_factorial (__main__.ProbandoMiClase4.test_verifica_factorial) ... ok\n",
      "test_mayor_edad (__main__.PruebaCajaNegra.test_mayor_edad) ... ok\n",
      "test_es_mayor_de_edad (__main__.PruebaCristalTest.test_es_mayor_de_edad) ... ok\n",
      "test_es_menor_de_edad (__main__.PruebaCristalTest.test_es_menor_de_edad) ... ok\n",
      "\n",
      "----------------------------------------------------------------------\n",
      "Ran 13 tests in 0.014s\n",
      "\n",
      "OK\n"
     ]
    },
    {
     "data": {
      "text/plain": [
       "<unittest.main.TestProgram at 0x19c07224710>"
      ]
     },
     "execution_count": 85,
     "metadata": {},
     "output_type": "execute_result"
    }
   ],
   "execution_count": 85
  },
  {
   "attachments": {},
   "cell_type": "markdown",
   "metadata": {},
   "source": [
    "4) Probar una creación incorrecta y visualizar la salida del \"raise\""
   ]
  },
  {
   "cell_type": "code",
   "metadata": {
    "ExecuteTime": {
     "end_time": "2024-07-05T00:55:27.300226Z",
     "start_time": "2024-07-05T00:55:27.280959Z"
    }
   },
   "source": "h2 = h.Herramientas('algo')",
   "outputs": [
    {
     "ename": "ValueError",
     "evalue": "Se ha creado una lista vacía. Se esperaba una lista de núemeros enteros",
     "output_type": "error",
     "traceback": [
      "\u001B[1;31m---------------------------------------------------------------------------\u001B[0m",
      "\u001B[1;31mValueError\u001B[0m                                Traceback (most recent call last)",
      "Cell \u001B[1;32mIn[86], line 1\u001B[0m\n\u001B[1;32m----> 1\u001B[0m h2 \u001B[38;5;241m=\u001B[39m \u001B[43mh\u001B[49m\u001B[38;5;241;43m.\u001B[39;49m\u001B[43mHerramientas\u001B[49m\u001B[43m(\u001B[49m\u001B[38;5;124;43m'\u001B[39;49m\u001B[38;5;124;43malgo\u001B[39;49m\u001B[38;5;124;43m'\u001B[39;49m\u001B[43m)\u001B[49m\n",
      "File \u001B[1;32m~\\OneDrive\\Documentos\\GitHub\\Python-Prep\\M09_errorhandling\\herramientas.py:5\u001B[0m, in \u001B[0;36mHerramientas.__init__\u001B[1;34m(self, lista_numeros)\u001B[0m\n\u001B[0;32m      3\u001B[0m \u001B[38;5;28;01mif\u001B[39;00m (\u001B[38;5;28mtype\u001B[39m(lista_numeros) \u001B[38;5;241m!=\u001B[39m \u001B[38;5;28mlist\u001B[39m):\n\u001B[0;32m      4\u001B[0m     \u001B[38;5;28mself\u001B[39m\u001B[38;5;241m.\u001B[39mlista \u001B[38;5;241m=\u001B[39m []\n\u001B[1;32m----> 5\u001B[0m     \u001B[38;5;28;01mraise\u001B[39;00m \u001B[38;5;167;01mValueError\u001B[39;00m(\u001B[38;5;124m'\u001B[39m\u001B[38;5;124mSe ha creado una lista vacía. Se esperaba una lista de núemeros enteros\u001B[39m\u001B[38;5;124m'\u001B[39m)  \n\u001B[0;32m      6\u001B[0m \u001B[38;5;28;01melse\u001B[39;00m:\n\u001B[0;32m      7\u001B[0m     \u001B[38;5;28mself\u001B[39m\u001B[38;5;241m.\u001B[39mlista \u001B[38;5;241m=\u001B[39m lista_numeros\n",
      "\u001B[1;31mValueError\u001B[0m: Se ha creado una lista vacía. Se esperaba una lista de núemeros enteros"
     ]
    }
   ],
   "execution_count": 86
  },
  {
   "attachments": {},
   "cell_type": "markdown",
   "metadata": {},
   "source": [
    "6) Agregar casos de pruebas para el método verifica_primos() realizando el cambio en la clase, para que devuelva una lista de True o False en función de que el elemento en la posisicón sea o no primo"
   ]
  },
  {
   "cell_type": "code",
   "metadata": {
    "ExecuteTime": {
     "end_time": "2024-07-05T00:55:27.331009Z",
     "start_time": "2024-07-05T00:55:27.300226Z"
    }
   },
   "source": [
    "class ProbandoMiClase2(unittest.TestCase):\n",
    "\n",
    "    def test_verifica_primos1(self):\n",
    "        lis = [2, 3, 8, 10, 13]\n",
    "        h1 = h.Herramientas(lis)\n",
    "        primos = h1.verifica_primo()\n",
    "        primos_esperado = [True, True, False, False, True]\n",
    "        self.assertEqual(primos, primos_esperado)\n",
    "\n",
    "\n",
    "importlib.reload(h)\n",
    "unittest.main(argv=[''], verbosity=2, exit=False)"
   ],
   "outputs": [
    {
     "name": "stderr",
     "output_type": "stream",
     "text": [
      "test_resta_dos_negativos (__main__.CajaNegraTest.test_resta_dos_negativos) ... ok\n",
      "test_resta_dos_positivos (__main__.CajaNegraTest.test_resta_dos_positivos) ... ok\n",
      "test_suma_dos_negativos (__main__.CajaNegraTest.test_suma_dos_negativos) ... ok\n",
      "test_suma_dos_positivos (__main__.CajaNegraTest.test_suma_dos_positivos) ... ok\n",
      "test_crear_objeto1 (__main__.ProbandoMiClase.test_crear_objeto1)\n",
      "Método de prueba para verificar el comportamiento al crear un objeto Herramientas con un parámetro inválido. ... ok\n",
      "test_crear_objeto2 (__main__.ProbandoMiClase.test_crear_objeto2)\n",
      "Método de prueba para verificar el comportamiento al crear un objeto Herramientas con una lista válida como parámetro. ... ok\n",
      "test_valor_modal (__main__.ProbandoMiClase.test_valor_modal)\n",
      "Método de prueba para verificar el comportamiento del método valor_modal de la clase Herramientas. ... ok\n",
      "test_verifica_primos1 (__main__.ProbandoMiClase2.test_verifica_primos1) ... ok\n",
      "test_verifica_conversion1 (__main__.ProbandoMiClase3.test_verifica_conversion1) ... ok\n",
      "test_verifica_factorial (__main__.ProbandoMiClase4.test_verifica_factorial) ... ok\n",
      "test_mayor_edad (__main__.PruebaCajaNegra.test_mayor_edad) ... ok\n",
      "test_es_mayor_de_edad (__main__.PruebaCristalTest.test_es_mayor_de_edad) ... ok\n",
      "test_es_menor_de_edad (__main__.PruebaCristalTest.test_es_menor_de_edad) ... ok\n",
      "\n",
      "----------------------------------------------------------------------\n",
      "Ran 13 tests in 0.013s\n",
      "\n",
      "OK\n"
     ]
    },
    {
     "data": {
      "text/plain": [
       "<unittest.main.TestProgram at 0x19c0737c770>"
      ]
     },
     "execution_count": 87,
     "metadata": {},
     "output_type": "execute_result"
    }
   ],
   "execution_count": 87
  },
  {
   "attachments": {},
   "cell_type": "markdown",
   "metadata": {},
   "source": [
    "7) Agregar casos de pruebas para el método conversion_grados()"
   ]
  },
  {
   "cell_type": "code",
   "metadata": {
    "ExecuteTime": {
     "end_time": "2024-07-05T00:55:27.414301Z",
     "start_time": "2024-07-05T00:55:27.389163Z"
    }
   },
   "source": [
    "class ProbandoMiClase3(unittest.TestCase):\n",
    "\n",
    "    def test_verifica_conversion1(self):\n",
    "        lis = [2, 3, 8, 10, 13]\n",
    "        h1 = h.Herramientas(lis)\n",
    "        grados = h1.conversion_grados('celsius', 'farenheit')\n",
    "        grados_esperado = [35.6, 37.4, 46.4, 50.0, 55.4]\n",
    "        self.assertEqual(grados, grados_esperado)\n",
    "\n",
    "\n",
    "importlib.reload(h)\n",
    "unittest.main(argv=[''], verbosity=2, exit=False)"
   ],
   "outputs": [
    {
     "name": "stderr",
     "output_type": "stream",
     "text": [
      "test_resta_dos_negativos (__main__.CajaNegraTest.test_resta_dos_negativos) ... ok\n",
      "test_resta_dos_positivos (__main__.CajaNegraTest.test_resta_dos_positivos) ... ok\n",
      "test_suma_dos_negativos (__main__.CajaNegraTest.test_suma_dos_negativos) ... ok\n",
      "test_suma_dos_positivos (__main__.CajaNegraTest.test_suma_dos_positivos) ... ok\n",
      "test_crear_objeto1 (__main__.ProbandoMiClase.test_crear_objeto1)\n",
      "Método de prueba para verificar el comportamiento al crear un objeto Herramientas con un parámetro inválido. ... ok\n",
      "test_crear_objeto2 (__main__.ProbandoMiClase.test_crear_objeto2)\n",
      "Método de prueba para verificar el comportamiento al crear un objeto Herramientas con una lista válida como parámetro. ... ok\n",
      "test_valor_modal (__main__.ProbandoMiClase.test_valor_modal)\n",
      "Método de prueba para verificar el comportamiento del método valor_modal de la clase Herramientas. ... ok\n",
      "test_verifica_primos1 (__main__.ProbandoMiClase2.test_verifica_primos1) ... ok\n",
      "test_verifica_conversion1 (__main__.ProbandoMiClase3.test_verifica_conversion1) ... ok\n",
      "test_verifica_factorial (__main__.ProbandoMiClase4.test_verifica_factorial) ... ok\n",
      "test_mayor_edad (__main__.PruebaCajaNegra.test_mayor_edad) ... ok\n",
      "test_es_mayor_de_edad (__main__.PruebaCristalTest.test_es_mayor_de_edad) ... ok\n",
      "test_es_menor_de_edad (__main__.PruebaCristalTest.test_es_menor_de_edad) ... ok\n",
      "\n",
      "----------------------------------------------------------------------\n",
      "Ran 13 tests in 0.010s\n",
      "\n",
      "OK\n"
     ]
    },
    {
     "data": {
      "text/plain": [
       "<unittest.main.TestProgram at 0x19c071cc9e0>"
      ]
     },
     "execution_count": 88,
     "metadata": {},
     "output_type": "execute_result"
    }
   ],
   "execution_count": 88
  },
  {
   "attachments": {},
   "cell_type": "markdown",
   "metadata": {},
   "source": [
    "8) Agregar casos de pruebas para el método factorial()"
   ]
  },
  {
   "cell_type": "code",
   "metadata": {
    "ExecuteTime": {
     "end_time": "2024-07-05T00:55:27.452330Z",
     "start_time": "2024-07-05T00:55:27.429288Z"
    }
   },
   "source": [
    "class ProbandoMiClase4(unittest.TestCase):\n",
    "\n",
    "    def test_verifica_factorial(self):\n",
    "        lis = [2, 3, 8, 10, 13]\n",
    "        h1 = h.Herramientas(lis)\n",
    "        factorial = h1.factorial()\n",
    "        factorial_esperado = [2, 6, 40320, 3628800, 6227020800]\n",
    "        self.assertEqual(factorial, factorial_esperado)\n",
    "\n",
    "\n",
    "importlib.reload(h)\n",
    "unittest.main(argv=[''], verbosity=2, exit=False)"
   ],
   "outputs": [
    {
     "name": "stderr",
     "output_type": "stream",
     "text": [
      "test_resta_dos_negativos (__main__.CajaNegraTest.test_resta_dos_negativos) ... ok\n",
      "test_resta_dos_positivos (__main__.CajaNegraTest.test_resta_dos_positivos) ... ok\n",
      "test_suma_dos_negativos (__main__.CajaNegraTest.test_suma_dos_negativos) ... ok\n",
      "test_suma_dos_positivos (__main__.CajaNegraTest.test_suma_dos_positivos) ... ok\n",
      "test_crear_objeto1 (__main__.ProbandoMiClase.test_crear_objeto1)\n",
      "Método de prueba para verificar el comportamiento al crear un objeto Herramientas con un parámetro inválido. ... ok\n",
      "test_crear_objeto2 (__main__.ProbandoMiClase.test_crear_objeto2)\n",
      "Método de prueba para verificar el comportamiento al crear un objeto Herramientas con una lista válida como parámetro. ... ok\n",
      "test_valor_modal (__main__.ProbandoMiClase.test_valor_modal)\n",
      "Método de prueba para verificar el comportamiento del método valor_modal de la clase Herramientas. ... ok\n",
      "test_verifica_primos1 (__main__.ProbandoMiClase2.test_verifica_primos1) ... ok\n",
      "test_verifica_conversion1 (__main__.ProbandoMiClase3.test_verifica_conversion1) ... ok\n",
      "test_verifica_factorial (__main__.ProbandoMiClase4.test_verifica_factorial) ... ok\n",
      "test_mayor_edad (__main__.PruebaCajaNegra.test_mayor_edad) ... ok\n",
      "test_es_mayor_de_edad (__main__.PruebaCristalTest.test_es_mayor_de_edad) ... ok\n",
      "test_es_menor_de_edad (__main__.PruebaCristalTest.test_es_menor_de_edad) ... ok\n",
      "\n",
      "----------------------------------------------------------------------\n",
      "Ran 13 tests in 0.011s\n",
      "\n",
      "OK\n"
     ]
    },
    {
     "data": {
      "text/plain": [
       "<unittest.main.TestProgram at 0x19c0725a1b0>"
      ]
     },
     "execution_count": 89,
     "metadata": {},
     "output_type": "execute_result"
    }
   ],
   "execution_count": 89
  },
  {
   "metadata": {
    "ExecuteTime": {
     "end_time": "2024-07-05T00:55:27.515253Z",
     "start_time": "2024-07-05T00:55:27.508946Z"
    }
   },
   "cell_type": "code",
   "source": "",
   "outputs": [],
   "execution_count": 89
  }
 ],
 "metadata": {
  "interpreter": {
   "hash": "c85384e4cb51c8b72350f3a8712cc8351fdc3955e32a27f9b60c6242ab125f01"
  },
  "kernelspec": {
   "display_name": "Python 3 (ipykernel)",
   "language": "python",
   "name": "python3"
  },
  "language_info": {
   "codemirror_mode": {
    "name": "ipython",
    "version": 3
   },
   "file_extension": ".py",
   "mimetype": "text/x-python",
   "name": "python",
   "nbconvert_exporter": "python",
   "pygments_lexer": "ipython3",
   "version": "3.9.7"
  }
 },
 "nbformat": 4,
 "nbformat_minor": 4
}
