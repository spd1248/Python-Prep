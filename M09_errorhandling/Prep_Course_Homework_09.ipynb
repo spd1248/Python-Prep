{
 "cells": [
  {
   "attachments": {},
   "cell_type": "markdown",
   "metadata": {},
   "source": [
    "## Manejo de errores"
   ]
  },
  {
   "metadata": {},
   "cell_type": "markdown",
   "source": "Pruebas"
  },
  {
   "metadata": {
    "ExecuteTime": {
     "end_time": "2024-07-04T19:52:29.800316Z",
     "start_time": "2024-07-04T19:52:29.796445Z"
    }
   },
   "cell_type": "code",
   "source": [
    "import unittest\n",
    "\n",
    "def suma(num_1, num_2):\n",
    "    return num_1 + num_2"
   ],
   "outputs": [],
   "execution_count": 13
  },
  {
   "metadata": {
    "ExecuteTime": {
     "end_time": "2024-07-04T19:52:30.389786Z",
     "start_time": "2024-07-04T19:52:30.378560Z"
    }
   },
   "cell_type": "code",
   "source": [
    "class CajaNegraTest(unittest.TestCase):\n",
    "    def test_suma_dos_positivos(self):\n",
    "        num_1 = 10\n",
    "        num_2 = 5\n",
    "        resultado = suma(num_1, num_2)\n",
    "        self.assertEqual(resultado, 15)\n",
    "\n",
    "    def test_suma_dos_negativos(self):\n",
    "        num_1 = -10\n",
    "        num_2 = -7\n",
    "        resultado = suma(num_1, num_2)\n",
    "        self.assertEqual(resultado, -17)"
   ],
   "outputs": [],
   "execution_count": 14
  },
  {
   "metadata": {
    "ExecuteTime": {
     "end_time": "2024-07-04T19:55:03.755170Z",
     "start_time": "2024-07-04T19:55:03.725448Z"
    }
   },
   "cell_type": "code",
   "source": [
    "unittest.main(argv=[''], verbosity=2, exit=False)\n",
    "test_suma_dos_positivos(__main__.CajaNegraTest)\n",
    "test_suma_dos_negativos(__main__.CajaNegraTest)"
   ],
   "outputs": [
    {
     "name": "stderr",
     "output_type": "stream",
     "text": [
      "test_suma_dos_negativos (__main__.CajaNegraTest.test_suma_dos_negativos) ... ok\n",
      "test_suma_dos_positivos (__main__.CajaNegraTest.test_suma_dos_positivos) ... ok\n",
      "\n",
      "----------------------------------------------------------------------\n",
      "Ran 2 tests in 0.002s\n",
      "\n",
      "OK\n"
     ]
    },
    {
     "ename": "NameError",
     "evalue": "name 'test_suma_dos_positivos' is not defined",
     "output_type": "error",
     "traceback": [
      "\u001B[1;31m---------------------------------------------------------------------------\u001B[0m",
      "\u001B[1;31mNameError\u001B[0m                                 Traceback (most recent call last)",
      "Cell \u001B[1;32mIn[15], line 2\u001B[0m\n\u001B[0;32m      1\u001B[0m unittest\u001B[38;5;241m.\u001B[39mmain(argv\u001B[38;5;241m=\u001B[39m[\u001B[38;5;124m'\u001B[39m\u001B[38;5;124m'\u001B[39m], verbosity\u001B[38;5;241m=\u001B[39m\u001B[38;5;241m2\u001B[39m, exit\u001B[38;5;241m=\u001B[39m\u001B[38;5;28;01mFalse\u001B[39;00m)\n\u001B[1;32m----> 2\u001B[0m \u001B[43mtest_suma_dos_positivos\u001B[49m(__main__\u001B[38;5;241m.\u001B[39mCajaNegraTest)\n\u001B[0;32m      3\u001B[0m test_suma_dos_negativos(__main__\u001B[38;5;241m.\u001B[39mCajaNegraTest)\n",
      "\u001B[1;31mNameError\u001B[0m: name 'test_suma_dos_positivos' is not defined"
     ]
    }
   ],
   "execution_count": 15
  },
  {
   "metadata": {
    "ExecuteTime": {
     "end_time": "2024-07-04T20:38:08.274143Z",
     "start_time": "2024-07-04T20:38:08.269381Z"
    }
   },
   "cell_type": "code",
   "source": "import unittest",
   "outputs": [],
   "execution_count": 16
  },
  {
   "metadata": {
    "ExecuteTime": {
     "end_time": "2024-07-04T20:39:22.863431Z",
     "start_time": "2024-07-04T20:39:22.858946Z"
    }
   },
   "cell_type": "code",
   "source": [
    "def es_mayor_de_edad(edad):\n",
    "    if edad >= 18:\n",
    "        return True\n",
    "    else:\n",
    "        return False"
   ],
   "outputs": [],
   "execution_count": 17
  },
  {
   "metadata": {
    "ExecuteTime": {
     "end_time": "2024-07-04T20:43:13.924354Z",
     "start_time": "2024-07-04T20:43:13.919866Z"
    }
   },
   "cell_type": "code",
   "source": [
    "class PruebaCristalTest(unittest.TestCase):\n",
    "    \n",
    "    def test_es_mayor_de_edad(self):\n",
    "        edad = 20\n",
    "        resultado = es_mayor_de_edad(edad)\n",
    "        self.assertEqual(resultado, True)\n",
    "    \n",
    "    def test_es_menor_de_edad(self):\n",
    "        edad = 10\n",
    "        resultado = es_mayor_de_edad(edad)\n",
    "        self.assertEqual(resultado, False)"
   ],
   "outputs": [],
   "execution_count": 18
  },
  {
   "metadata": {
    "ExecuteTime": {
     "end_time": "2024-07-04T20:44:54.013300Z",
     "start_time": "2024-07-04T20:44:53.953475Z"
    }
   },
   "cell_type": "code",
   "source": "unittest.main(argv=[''], verbosity=2, exit=False)",
   "outputs": [
    {
     "name": "stderr",
     "output_type": "stream",
     "text": [
      "test_suma_dos_negativos (__main__.CajaNegraTest.test_suma_dos_negativos) ... ok\n",
      "test_suma_dos_positivos (__main__.CajaNegraTest.test_suma_dos_positivos) ... ok\n",
      "test_es_mayor_de_edad (__main__.PruebaCristalTest.test_es_mayor_de_edad) ... ok\n",
      "test_es_menor_de_edad (__main__.PruebaCristalTest.test_es_menor_de_edad) ... ok\n",
      "\n",
      "----------------------------------------------------------------------\n",
      "Ran 4 tests in 0.037s\n",
      "\n",
      "OK\n"
     ]
    },
    {
     "data": {
      "text/plain": [
       "<unittest.main.TestProgram at 0x19c071a0860>"
      ]
     },
     "execution_count": 19,
     "metadata": {},
     "output_type": "execute_result"
    }
   ],
   "execution_count": 19
  },
  {
   "metadata": {},
   "cell_type": "markdown",
   "source": "Debugging"
  },
  {
   "metadata": {
    "ExecuteTime": {
     "end_time": "2024-07-04T23:46:15.023941Z",
     "start_time": "2024-07-04T23:46:15.016506Z"
    }
   },
   "cell_type": "code",
   "source": [
    "def multiplicar_por_dos(lista):\n",
    "    lista_multiplicada = []\n",
    "    for num in lista:\n",
    "        lista_multiplicada.append(num*2)\n",
    "    return lista_multiplicada\n",
    "\n",
    "numeros = [1,2,3,4,5,6,7,8,9,10,11,12,13,14,15]\n",
    "resultado = multiplicar_por_dos(numeros)\n",
    "print(resultado)"
   ],
   "outputs": [
    {
     "name": "stdout",
     "output_type": "stream",
     "text": [
      "[2, 4, 6, 8, 10, 12, 14, 16, 18, 20, 22, 24, 26, 28, 30]\n"
     ]
    }
   ],
   "execution_count": 22
  },
  {
   "metadata": {
    "ExecuteTime": {
     "end_time": "2024-07-04T23:48:26.145120Z",
     "start_time": "2024-07-04T23:48:26.136608Z"
    }
   },
   "cell_type": "code",
   "source": [
    "def divide_elementos_de_lista(lista, divisor):\n",
    "    '''\n",
    "    Cada elemento de una lista es dividida por un divisor definido.\n",
    "    En caso de error de tipo ZeroDivisionError que\n",
    "    significa error al dividir en cero\n",
    "    la función devuelve la lista inicial\n",
    "    '''\n",
    "\n",
    "    try:\n",
    "        return [i / divisor for i in lista]\n",
    "\n",
    "    except ZeroDivisionError as e:\n",
    "        print(e)\n",
    "        return lista"
   ],
   "outputs": [],
   "execution_count": 23
  },
  {
   "metadata": {
    "ExecuteTime": {
     "end_time": "2024-07-04T23:50:09.227576Z",
     "start_time": "2024-07-04T23:50:09.207374Z"
    }
   },
   "cell_type": "code",
   "source": [
    "lista = list(range(10))\n",
    "divisor = 0\n",
    "\n",
    "print(divide_elementos_de_lista(lista, divisor))"
   ],
   "outputs": [
    {
     "name": "stdout",
     "output_type": "stream",
     "text": [
      "division by zero\n",
      "[0, 1, 2, 3, 4, 5, 6, 7, 8, 9]\n"
     ]
    }
   ],
   "execution_count": 24
  },
  {
   "metadata": {
    "ExecuteTime": {
     "end_time": "2024-07-04T23:55:44.373494Z",
     "start_time": "2024-07-04T23:55:44.364828Z"
    }
   },
   "cell_type": "code",
   "source": [
    "def dividir(num1, num2):\n",
    "    try:\n",
    "        resultado = num1 / num2\n",
    "        return resultado\n",
    "    except ZeroDivisionError:\n",
    "        print(\"No se puede dividir por cero.\")\n",
    "        return None"
   ],
   "outputs": [],
   "execution_count": 26
  },
  {
   "metadata": {
    "ExecuteTime": {
     "end_time": "2024-07-04T23:55:45.807303Z",
     "start_time": "2024-07-04T23:55:45.803747Z"
    }
   },
   "cell_type": "code",
   "source": "dividir(18,0)",
   "outputs": [
    {
     "name": "stdout",
     "output_type": "stream",
     "text": [
      "No se puede dividir por cero.\n"
     ]
    }
   ],
   "execution_count": 27
  },
  {
   "metadata": {
    "ExecuteTime": {
     "end_time": "2024-07-04T23:55:50.761610Z",
     "start_time": "2024-07-04T23:55:50.754076Z"
    }
   },
   "cell_type": "code",
   "source": [
    "try:\n",
    "    with open(\"archivo.txt\", \"r\") as f:\n",
    "        contenido = f.read()\n",
    "except FileNotFoundError:\n",
    "    print(\"El archivo no existe.\")\n"
   ],
   "outputs": [
    {
     "name": "stdout",
     "output_type": "stream",
     "text": [
      "El archivo no existe.\n"
     ]
    }
   ],
   "execution_count": 28
  },
  {
   "metadata": {
    "ExecuteTime": {
     "end_time": "2024-07-04T23:55:53.273433Z",
     "start_time": "2024-07-04T23:55:53.268423Z"
    }
   },
   "cell_type": "code",
   "source": [
    "def primera_letra(lista_de_palabras):\n",
    "  primeras_letras = []\n",
    "\n",
    "  for palabra in lista_de_palabras:\n",
    "    assert type(palabra) == str, f'{palabra} no es str'\n",
    "    assert len(palabra) > 0, 'No se permiten str vacíos'\n",
    "\n",
    "    primeras_letras.append(palabra[0])\n",
    "  return primeras_letras"
   ],
   "outputs": [],
   "execution_count": 29
  },
  {
   "metadata": {
    "ExecuteTime": {
     "end_time": "2024-07-05T00:00:34.140970Z",
     "start_time": "2024-07-05T00:00:34.090092Z"
    }
   },
   "cell_type": "code",
   "source": [
    "palabras = ['Hola', 'mundo', 42]\n",
    "primera_letra(palabras)"
   ],
   "outputs": [
    {
     "ename": "AssertionError",
     "evalue": "42 no es str",
     "output_type": "error",
     "traceback": [
      "\u001B[1;31m---------------------------------------------------------------------------\u001B[0m",
      "\u001B[1;31mAssertionError\u001B[0m                            Traceback (most recent call last)",
      "Cell \u001B[1;32mIn[30], line 2\u001B[0m\n\u001B[0;32m      1\u001B[0m palabras \u001B[38;5;241m=\u001B[39m [\u001B[38;5;124m'\u001B[39m\u001B[38;5;124mHola\u001B[39m\u001B[38;5;124m'\u001B[39m, \u001B[38;5;124m'\u001B[39m\u001B[38;5;124mmundo\u001B[39m\u001B[38;5;124m'\u001B[39m, \u001B[38;5;241m42\u001B[39m]\n\u001B[1;32m----> 2\u001B[0m \u001B[43mprimera_letra\u001B[49m\u001B[43m(\u001B[49m\u001B[43mpalabras\u001B[49m\u001B[43m)\u001B[49m\n",
      "Cell \u001B[1;32mIn[29], line 5\u001B[0m, in \u001B[0;36mprimera_letra\u001B[1;34m(lista_de_palabras)\u001B[0m\n\u001B[0;32m      2\u001B[0m primeras_letras \u001B[38;5;241m=\u001B[39m []\n\u001B[0;32m      4\u001B[0m \u001B[38;5;28;01mfor\u001B[39;00m palabra \u001B[38;5;129;01min\u001B[39;00m lista_de_palabras:\n\u001B[1;32m----> 5\u001B[0m   \u001B[38;5;28;01massert\u001B[39;00m \u001B[38;5;28mtype\u001B[39m(palabra) \u001B[38;5;241m==\u001B[39m \u001B[38;5;28mstr\u001B[39m, \u001B[38;5;124mf\u001B[39m\u001B[38;5;124m'\u001B[39m\u001B[38;5;132;01m{\u001B[39;00mpalabra\u001B[38;5;132;01m}\u001B[39;00m\u001B[38;5;124m no es str\u001B[39m\u001B[38;5;124m'\u001B[39m\n\u001B[0;32m      6\u001B[0m   \u001B[38;5;28;01massert\u001B[39;00m \u001B[38;5;28mlen\u001B[39m(palabra) \u001B[38;5;241m>\u001B[39m \u001B[38;5;241m0\u001B[39m, \u001B[38;5;124m'\u001B[39m\u001B[38;5;124mNo se permiten str vacíos\u001B[39m\u001B[38;5;124m'\u001B[39m\n\u001B[0;32m      8\u001B[0m   primeras_letras\u001B[38;5;241m.\u001B[39mappend(palabra[\u001B[38;5;241m0\u001B[39m])\n",
      "\u001B[1;31mAssertionError\u001B[0m: 42 no es str"
     ]
    }
   ],
   "execution_count": 30
  },
  {
   "attachments": {},
   "cell_type": "markdown",
   "metadata": {},
   "source": [
    "1) Con la clase creada en el módulo 7, tener en cuenta diferentes casos en que el código pudiera arrojar error. Por ejemplo, en la creación del objeto recibimos una lista de números enteros pero ¿qué pasa si se envía otro tipo de dato?"
   ]
  },
  {
   "cell_type": "code",
   "metadata": {
    "ExecuteTime": {
     "end_time": "2024-07-04T19:44:07.228738Z",
     "start_time": "2024-07-04T19:44:07.226261Z"
    }
   },
   "source": [
    "import sys\n",
    "sys.path.append(r'/C:/Users/lopez/Documents/Henry/Repos/Python-Prep/07 - Classes & OOP/herramientas.py') # Agrega la ruta al archivo 'herramientas.py' al sys.path"
   ],
   "outputs": [],
   "execution_count": 8
  },
  {
   "attachments": {},
   "cell_type": "markdown",
   "metadata": {},
   "source": [
    "2) En la función que hace la conversión de grados, validar que los parámetros enviados sean los esperados, de no serlo, informar cuáles son los valores esperados."
   ]
  },
  {
   "cell_type": "code",
   "metadata": {
    "ExecuteTime": {
     "end_time": "2024-07-04T19:44:07.245391Z",
     "start_time": "2024-07-04T19:44:07.242667Z"
    }
   },
   "source": [],
   "outputs": [],
   "execution_count": 8
  },
  {
   "attachments": {},
   "cell_type": "markdown",
   "metadata": {},
   "source": [
    "3) Importar el modulo \"unittest\" y crear los siguientes casos de pruebas sobre la clase utilizada en el punto 2<br>\n",
    "Creacion del objeto incorrecta<br>\n",
    "Creacion correcta del objeto<br>\n",
    "Metodo valor_modal()<br>\n",
    "\n",
    "Se puede usar \"raise ValueError()\" en la creación de la clase para verificar el error. Investigar sobre esta funcionalidad."
   ]
  },
  {
   "cell_type": "code",
   "metadata": {
    "ExecuteTime": {
     "end_time": "2024-07-04T19:44:07.252444Z",
     "start_time": "2024-07-04T19:44:07.245391Z"
    }
   },
   "source": [],
   "outputs": [],
   "execution_count": 8
  },
  {
   "attachments": {},
   "cell_type": "markdown",
   "metadata": {},
   "source": [
    "4) Probar una creación incorrecta y visualizar la salida del \"raise\""
   ]
  },
  {
   "cell_type": "code",
   "metadata": {
    "ExecuteTime": {
     "end_time": "2024-07-04T19:44:07.263201Z",
     "start_time": "2024-07-04T19:44:07.260085Z"
    }
   },
   "source": [],
   "outputs": [],
   "execution_count": 8
  },
  {
   "attachments": {},
   "cell_type": "markdown",
   "metadata": {},
   "source": [
    "6) Agregar casos de pruebas para el método verifica_primos() realizando el cambio en la clase, para que devuelva una lista de True o False en función de que el elemento en la posisicón sea o no primo"
   ]
  },
  {
   "cell_type": "code",
   "metadata": {
    "ExecuteTime": {
     "end_time": "2024-07-04T19:44:07.312278Z",
     "start_time": "2024-07-04T19:44:07.308029Z"
    }
   },
   "source": [],
   "outputs": [],
   "execution_count": 8
  },
  {
   "attachments": {},
   "cell_type": "markdown",
   "metadata": {},
   "source": [
    "7) Agregar casos de pruebas para el método conversion_grados()"
   ]
  },
  {
   "cell_type": "code",
   "metadata": {
    "ExecuteTime": {
     "end_time": "2024-07-04T19:44:07.327237Z",
     "start_time": "2024-07-04T19:44:07.322490Z"
    }
   },
   "source": [],
   "outputs": [],
   "execution_count": 8
  },
  {
   "attachments": {},
   "cell_type": "markdown",
   "metadata": {},
   "source": [
    "8) Agregar casos de pruebas para el método factorial()"
   ]
  },
  {
   "cell_type": "code",
   "metadata": {
    "ExecuteTime": {
     "end_time": "2024-07-04T19:44:07.341234Z",
     "start_time": "2024-07-04T19:44:07.337221Z"
    }
   },
   "source": [],
   "outputs": [],
   "execution_count": 8
  }
 ],
 "metadata": {
  "interpreter": {
   "hash": "c85384e4cb51c8b72350f3a8712cc8351fdc3955e32a27f9b60c6242ab125f01"
  },
  "kernelspec": {
   "display_name": "Python 3 (ipykernel)",
   "language": "python",
   "name": "python3"
  },
  "language_info": {
   "codemirror_mode": {
    "name": "ipython",
    "version": 3
   },
   "file_extension": ".py",
   "mimetype": "text/x-python",
   "name": "python",
   "nbconvert_exporter": "python",
   "pygments_lexer": "ipython3",
   "version": "3.9.7"
  }
 },
 "nbformat": 4,
 "nbformat_minor": 4
}
