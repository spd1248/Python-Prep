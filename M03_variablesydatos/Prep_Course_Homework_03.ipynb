{
 "cells": [
  {
   "attachments": {},
   "cell_type": "markdown",
   "metadata": {},
   "source": [
    "## Variables"
   ]
  },
  {
   "attachments": {},
   "cell_type": "markdown",
   "metadata": {},
   "source": [
    "1) Crear una variable que contenga un elemento del conjunto de números enteros y luego imprimir por pantalla"
   ]
  },
  {
   "cell_type": "code",
   "metadata": {
    "ExecuteTime": {
     "end_time": "2024-06-26T19:46:45.610909Z",
     "start_time": "2024-06-26T19:46:45.598865Z"
    }
   },
   "source": [
    "numero_entero = 5\n",
    "print(numero_entero)"
   ],
   "outputs": [
    {
     "name": "stdout",
     "output_type": "stream",
     "text": [
      "5\n"
     ]
    }
   ],
   "execution_count": 1
  },
  {
   "attachments": {},
   "cell_type": "markdown",
   "metadata": {},
   "source": [
    "2) Imprimir el tipo de dato de la constante 8.5"
   ]
  },
  {
   "cell_type": "code",
   "metadata": {
    "ExecuteTime": {
     "end_time": "2024-04-23T22:09:45.270432Z",
     "start_time": "2024-04-23T22:09:45.254439Z"
    }
   },
   "source": "print(type(8.5))",
   "outputs": [
    {
     "name": "stdout",
     "output_type": "stream",
     "text": [
      "<class 'float'>\n"
     ]
    }
   ],
   "execution_count": 88
  },
  {
   "attachments": {},
   "cell_type": "markdown",
   "metadata": {},
   "source": [
    "3) Imprimir el tipo de dato de la variable creada en el punto 1"
   ]
  },
  {
   "cell_type": "code",
   "metadata": {
    "ExecuteTime": {
     "end_time": "2024-04-23T22:09:45.301185Z",
     "start_time": "2024-04-23T22:09:45.282975Z"
    }
   },
   "source": "print(type(numero_entero))",
   "outputs": [
    {
     "name": "stdout",
     "output_type": "stream",
     "text": [
      "<class 'int'>\n"
     ]
    }
   ],
   "execution_count": 89
  },
  {
   "attachments": {},
   "cell_type": "markdown",
   "metadata": {},
   "source": [
    "4) Crear una variable que contenga tu nombre"
   ]
  },
  {
   "cell_type": "code",
   "metadata": {
    "ExecuteTime": {
     "end_time": "2024-04-23T22:09:45.310365Z",
     "start_time": "2024-04-23T22:09:45.304456Z"
    }
   },
   "source": "nombre = 'Sergio'",
   "outputs": [],
   "execution_count": 90
  },
  {
   "attachments": {},
   "cell_type": "markdown",
   "metadata": {},
   "source": [
    "5) Crear una variable que contenga un número complejo"
   ]
  },
  {
   "cell_type": "code",
   "metadata": {
    "ExecuteTime": {
     "end_time": "2024-04-23T22:09:45.359590Z",
     "start_time": "2024-04-23T22:09:45.351117Z"
    }
   },
   "source": "numero_complejo = 3 + 4j",
   "outputs": [],
   "execution_count": 91
  },
  {
   "attachments": {},
   "cell_type": "markdown",
   "metadata": {},
   "source": [
    "6) Mostrar el tipo de dato de la variable crada en el punto 5"
   ]
  },
  {
   "cell_type": "code",
   "metadata": {
    "ExecuteTime": {
     "end_time": "2024-04-23T22:09:45.402473Z",
     "start_time": "2024-04-23T22:09:45.394233Z"
    }
   },
   "source": "print(type(numero_complejo))",
   "outputs": [
    {
     "name": "stdout",
     "output_type": "stream",
     "text": [
      "<class 'complex'>\n"
     ]
    }
   ],
   "execution_count": 92
  },
  {
   "attachments": {},
   "cell_type": "markdown",
   "metadata": {},
   "source": [
    "7) Crear una variable que contenga el valor del número Pi redondeado a 4 decimales"
   ]
  },
  {
   "cell_type": "code",
   "metadata": {
    "ExecuteTime": {
     "end_time": "2024-04-23T22:09:45.463843Z",
     "start_time": "2024-04-23T22:09:45.457428Z"
    }
   },
   "source": "pi_redondeado = 3.1416",
   "outputs": [],
   "execution_count": 93
  },
  {
   "attachments": {},
   "cell_type": "markdown",
   "metadata": {},
   "source": [
    "8) Crear una variable que contenga el valor 'True' y otra que contenga el valor True. ¿Se trata de lo mismo?"
   ]
  },
  {
   "cell_type": "code",
   "metadata": {
    "ExecuteTime": {
     "end_time": "2024-04-23T22:09:45.499329Z",
     "start_time": "2024-04-23T22:09:45.489352Z"
    }
   },
   "source": [
    "var_str = 'True'\n",
    "var_bool = True\n",
    "# No son lo mismo, uno es un string y el otro es un booleano\n"
   ],
   "outputs": [],
   "execution_count": 94
  },
  {
   "attachments": {},
   "cell_type": "markdown",
   "metadata": {},
   "source": [
    "9) Imprimir el tipo de dato correspondientes a las variables creadas en el punto 8"
   ]
  },
  {
   "cell_type": "code",
   "metadata": {
    "ExecuteTime": {
     "end_time": "2024-04-23T22:09:45.541629Z",
     "start_time": "2024-04-23T22:09:45.536871Z"
    }
   },
   "source": "print(type(var_str), type(var_bool))\n",
   "outputs": [
    {
     "name": "stdout",
     "output_type": "stream",
     "text": [
      "<class 'str'> <class 'bool'>\n"
     ]
    }
   ],
   "execution_count": 95
  },
  {
   "attachments": {},
   "cell_type": "markdown",
   "metadata": {},
   "source": [
    "10) Asignar a una variable, la suma de un número entero y otro decimal"
   ]
  },
  {
   "cell_type": "code",
   "metadata": {
    "ExecuteTime": {
     "end_time": "2024-04-23T22:09:45.557658Z",
     "start_time": "2024-04-23T22:09:45.552640Z"
    }
   },
   "source": "suma = 5 + 3.2\n",
   "outputs": [],
   "execution_count": 96
  },
  {
   "attachments": {},
   "cell_type": "markdown",
   "metadata": {},
   "source": [
    "11) Realizar una operación de suma de números complejos"
   ]
  },
  {
   "cell_type": "code",
   "metadata": {
    "ExecuteTime": {
     "end_time": "2024-04-23T22:09:45.578522Z",
     "start_time": "2024-04-23T22:09:45.568548Z"
    }
   },
   "source": "resultado_complejos = (3 + 2j) + (1 + 7j)\n",
   "outputs": [],
   "execution_count": 97
  },
  {
   "attachments": {},
   "cell_type": "markdown",
   "metadata": {},
   "source": [
    "12) Realizar una operación de suma de un número real y otro complejo"
   ]
  },
  {
   "cell_type": "code",
   "metadata": {
    "ExecuteTime": {
     "end_time": "2024-04-23T22:09:45.631667Z",
     "start_time": "2024-04-23T22:09:45.615578Z"
    }
   },
   "source": "suma_real_complejo = 5.5 + (4 + 3j)\n",
   "outputs": [],
   "execution_count": 98
  },
  {
   "attachments": {},
   "cell_type": "markdown",
   "metadata": {},
   "source": [
    "13) Realizar una operación de multiplicación"
   ]
  },
  {
   "cell_type": "code",
   "metadata": {
    "ExecuteTime": {
     "end_time": "2024-04-23T22:09:45.650350Z",
     "start_time": "2024-04-23T22:09:45.647256Z"
    }
   },
   "source": "multiplicacion = 6 * 7\n",
   "outputs": [],
   "execution_count": 99
  },
  {
   "attachments": {},
   "cell_type": "markdown",
   "metadata": {},
   "source": [
    "14) Mostrar el resultado de elevar 2 a la octava potencia"
   ]
  },
  {
   "cell_type": "code",
   "metadata": {
    "ExecuteTime": {
     "end_time": "2024-04-23T22:09:45.657349Z",
     "start_time": "2024-04-23T22:09:45.650350Z"
    }
   },
   "source": [
    "potencia = 2 ** 8\n",
    "print(potencia)\n"
   ],
   "outputs": [
    {
     "name": "stdout",
     "output_type": "stream",
     "text": [
      "256\n"
     ]
    }
   ],
   "execution_count": 100
  },
  {
   "attachments": {},
   "cell_type": "markdown",
   "metadata": {},
   "source": [
    "15) Obtener el cociente de la división de 27 entre 4 en una variable y luego mostrarla"
   ]
  },
  {
   "cell_type": "code",
   "metadata": {
    "ExecuteTime": {
     "end_time": "2024-04-23T22:09:45.667914Z",
     "start_time": "2024-04-23T22:09:45.663361Z"
    }
   },
   "source": [
    "cociente = 27 / 4\n",
    "print(cociente)\n"
   ],
   "outputs": [
    {
     "name": "stdout",
     "output_type": "stream",
     "text": [
      "6.75\n"
     ]
    }
   ],
   "execution_count": 101
  },
  {
   "attachments": {},
   "cell_type": "markdown",
   "metadata": {},
   "source": [
    "16) De la división anterior solamente mostrar la parte entera"
   ]
  },
  {
   "cell_type": "code",
   "metadata": {
    "ExecuteTime": {
     "end_time": "2024-04-23T22:09:45.744746Z",
     "start_time": "2024-04-23T22:09:45.738674Z"
    }
   },
   "source": [
    "parte_entera = 27 // 4\n",
    "print(parte_entera)\n"
   ],
   "outputs": [
    {
     "name": "stdout",
     "output_type": "stream",
     "text": [
      "6\n"
     ]
    }
   ],
   "execution_count": 102
  },
  {
   "attachments": {},
   "cell_type": "markdown",
   "metadata": {},
   "source": [
    "17) De la división de 27 entre 4 mostrar solamente el resto"
   ]
  },
  {
   "cell_type": "code",
   "metadata": {
    "ExecuteTime": {
     "end_time": "2024-04-23T22:09:45.775459Z",
     "start_time": "2024-04-23T22:09:45.770165Z"
    }
   },
   "source": [
    "resto = 27 % 4\n",
    "print(resto)\n"
   ],
   "outputs": [
    {
     "name": "stdout",
     "output_type": "stream",
     "text": [
      "3\n"
     ]
    }
   ],
   "execution_count": 103
  },
  {
   "attachments": {},
   "cell_type": "markdown",
   "metadata": {},
   "source": [
    "18) Utilizando como operandos el número 4 y los resultados obtenidos en los puntos 16 y 17. Obtener 27 como resultado"
   ]
  },
  {
   "cell_type": "code",
   "metadata": {
    "ExecuteTime": {
     "end_time": "2024-04-23T22:09:45.831084Z",
     "start_time": "2024-04-23T22:09:45.815772Z"
    }
   },
   "source": [
    "resultado = parte_entera * 4 + resto\n",
    "print(resultado)\n"
   ],
   "outputs": [
    {
     "name": "stdout",
     "output_type": "stream",
     "text": [
      "27\n"
     ]
    }
   ],
   "execution_count": 104
  },
  {
   "attachments": {},
   "cell_type": "markdown",
   "metadata": {},
   "source": [
    "19) Utilizar el operador \"+\" en una operación donde intervengan solo variables alfanuméricas"
   ]
  },
  {
   "cell_type": "code",
   "metadata": {
    "ExecuteTime": {
     "end_time": "2024-04-23T22:09:45.868022Z",
     "start_time": "2024-04-23T22:09:45.862169Z"
    }
   },
   "source": [
    "alfanumerico1 = '2x'\n",
    "alfanumerico2 = '4y'\n",
    "resultado_alfanumerico = alfanumerico1 + alfanumerico2\n",
    "print(resultado_alfanumerico)\n"
   ],
   "outputs": [
    {
     "name": "stdout",
     "output_type": "stream",
     "text": [
      "2x4y\n"
     ]
    }
   ],
   "execution_count": 105
  },
  {
   "attachments": {},
   "cell_type": "markdown",
   "metadata": {},
   "source": [
    "20) Evaluar si \"2\" es igual a 2. ¿Por qué ocurre eso?"
   ]
  },
  {
   "cell_type": "code",
   "metadata": {
    "ExecuteTime": {
     "end_time": "2024-04-23T22:09:45.929085Z",
     "start_time": "2024-04-23T22:09:45.925097Z"
    }
   },
   "source": [
    "resultado_comparacion = \"2\" == 2\n",
    "print(resultado_comparacion)\n",
    "# Ocurre porque uno es un string y el otro un entero, por lo que son de tipos diferentes.\n"
   ],
   "outputs": [
    {
     "name": "stdout",
     "output_type": "stream",
     "text": [
      "False\n"
     ]
    }
   ],
   "execution_count": 106
  },
  {
   "attachments": {},
   "cell_type": "markdown",
   "metadata": {},
   "source": [
    "21) Utilizar las funciones de cambio de tipo de dato, para que la validación del punto 20 resulte verdadera"
   ]
  },
  {
   "cell_type": "code",
   "metadata": {
    "ExecuteTime": {
     "end_time": "2024-04-23T22:09:45.961550Z",
     "start_time": "2024-04-23T22:09:45.956591Z"
    }
   },
   "source": [
    "resultado_true = int(\"2\") == 2\n",
    "print(resultado_true)\n"
   ],
   "outputs": [
    {
     "name": "stdout",
     "output_type": "stream",
     "text": [
      "True\n"
     ]
    }
   ],
   "execution_count": 107
  },
  {
   "attachments": {},
   "cell_type": "markdown",
   "metadata": {},
   "source": [
    "22) ¿Por qué arroja error el siguiente cambio de tipo de datos? a = float('3,8')"
   ]
  },
  {
   "cell_type": "code",
   "metadata": {
    "ExecuteTime": {
     "end_time": "2024-04-23T22:09:45.977486Z",
     "start_time": "2024-04-23T22:09:45.972348Z"
    }
   },
   "source": "# Esto arroja error porque Python espera un punto decimal en lugar de una coma para convertir a float.\n",
   "outputs": [],
   "execution_count": 108
  },
  {
   "attachments": {},
   "cell_type": "markdown",
   "metadata": {},
   "source": [
    "23) Crear una variable con el valor 3, y utilizar el operador '-=' para modificar su contenido y que de como resultado 2."
   ]
  },
  {
   "cell_type": "code",
   "metadata": {
    "ExecuteTime": {
     "end_time": "2024-04-23T22:09:46.021529Z",
     "start_time": "2024-04-23T22:09:46.003670Z"
    }
   },
   "source": [
    "variable = 3\n",
    "variable -= 1\n",
    "print(variable)\n"
   ],
   "outputs": [
    {
     "name": "stdout",
     "output_type": "stream",
     "text": [
      "2\n"
     ]
    }
   ],
   "execution_count": 109
  },
  {
   "attachments": {},
   "cell_type": "markdown",
   "metadata": {},
   "source": [
    "24) Realizar la operacion 1 << 2 ¿Por qué da ese resultado? ¿Qué es el sistema de numeración binario?"
   ]
  },
  {
   "cell_type": "code",
   "metadata": {
    "ExecuteTime": {
     "end_time": "2024-04-23T22:09:46.051409Z",
     "start_time": "2024-04-23T22:09:46.035036Z"
    }
   },
   "source": [
    "resultado_shift = 1 << 2\n",
    "print(resultado_shift)\n",
    "# Da 4 porque desplaza los bits de 1, dos lugares a la izquierda (en binario, de '0001' a '0100'). El sistema binario usa dos símbolos, 0 y 1.\n"
   ],
   "outputs": [
    {
     "name": "stdout",
     "output_type": "stream",
     "text": [
      "4\n"
     ]
    }
   ],
   "execution_count": 110
  },
  {
   "attachments": {},
   "cell_type": "markdown",
   "metadata": {},
   "source": [
    "25) Realizar la operación 2 + '2' ¿Por qué no está permitido? ¿Si los dos operandos serían del mismo tipo, siempre arrojaría el mismo resultado?"
   ]
  },
  {
   "cell_type": "code",
   "metadata": {
    "ExecuteTime": {
     "end_time": "2024-04-23T22:09:46.094486Z",
     "start_time": "2024-04-23T22:09:46.082265Z"
    }
   },
   "source": "# No está permitido porque no se puede sumar directamente enteros con strings. Si ambos fueran del mismo tipo (ambos strings o ambos enteros), sí se podría realizar la operación.\n",
   "outputs": [],
   "execution_count": 111
  },
  {
   "attachments": {},
   "cell_type": "markdown",
   "metadata": {},
   "source": [
    "26) Realizar una operación válida entre valores de tipo entero y string"
   ]
  },
  {
   "cell_type": "code",
   "metadata": {
    "ExecuteTime": {
     "end_time": "2024-04-23T22:09:46.117467Z",
     "start_time": "2024-04-23T22:09:46.098026Z"
    }
   },
   "source": [
    "resultado_valido = 'Número: ' + str(2)\n",
    "print(resultado_valido)\n"
   ],
   "outputs": [
    {
     "name": "stdout",
     "output_type": "stream",
     "text": [
      "Número: 2\n"
     ]
    }
   ],
   "execution_count": 112
  }
 ],
 "metadata": {
  "interpreter": {
   "hash": "c85384e4cb51c8b72350f3a8712cc8351fdc3955e32a27f9b60c6242ab125f01"
  },
  "kernelspec": {
   "display_name": "Python 3 (ipykernel)",
   "language": "python",
   "name": "python3"
  },
  "language_info": {
   "codemirror_mode": {
    "name": "ipython",
    "version": 3
   },
   "file_extension": ".py",
   "mimetype": "text/x-python",
   "name": "python",
   "nbconvert_exporter": "python",
   "pygments_lexer": "ipython3",
   "version": "3.10.11"
  }
 },
 "nbformat": 4,
 "nbformat_minor": 4
}
