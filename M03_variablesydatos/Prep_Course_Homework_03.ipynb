{
 "cells": [
  {
   "attachments": {},
   "cell_type": "markdown",
   "metadata": {},
   "source": [
    "## Variables"
   ]
  },
  {
   "attachments": {},
   "cell_type": "markdown",
   "metadata": {},
   "source": [
    "1) Crear una variable que contenga un elemento del conjunto de números enteros y luego imprimir por pantalla"
   ]
  },
  {
   "cell_type": "code",
   "metadata": {
    "ExecuteTime": {
     "end_time": "2024-07-03T19:27:36.037822Z",
     "start_time": "2024-07-03T19:27:36.030279Z"
    }
   },
   "source": [
    "# Crear la variable y asignarle el valor 5\n",
    "numero = 5\n",
    "\n",
    "# Imprimir el valor de la variable\n",
    "print(numero)\n"
   ],
   "outputs": [
    {
     "name": "stdout",
     "output_type": "stream",
     "text": [
      "5\n"
     ]
    }
   ],
   "execution_count": 1
  },
  {
   "attachments": {},
   "cell_type": "markdown",
   "metadata": {},
   "source": [
    "2) Imprimir el tipo de dato de la constante 8.5"
   ]
  },
  {
   "cell_type": "code",
   "metadata": {
    "ExecuteTime": {
     "end_time": "2024-07-03T19:29:05.252284Z",
     "start_time": "2024-07-03T19:29:05.243457Z"
    }
   },
   "source": [
    "# Imprimir el tipo de dato de la constante 8.5\n",
    "print(type(8.5))"
   ],
   "outputs": [
    {
     "name": "stdout",
     "output_type": "stream",
     "text": [
      "<class 'float'>\n"
     ]
    }
   ],
   "execution_count": 2
  },
  {
   "attachments": {},
   "cell_type": "markdown",
   "metadata": {},
   "source": [
    "3) Imprimir el tipo de dato de la variable creada en el punto 1"
   ]
  },
  {
   "metadata": {
    "ExecuteTime": {
     "end_time": "2024-07-03T19:34:02.553187Z",
     "start_time": "2024-07-03T19:34:02.543197Z"
    }
   },
   "cell_type": "code",
   "source": [
    "# Crear la variable y asignarle el valor 5\n",
    "numero = 5\n",
    "\n",
    "# Imprimir el tipo de dato de la variable\n",
    "print(type(numero))\n"
   ],
   "outputs": [
    {
     "name": "stdout",
     "output_type": "stream",
     "text": [
      "<class 'int'>\n"
     ]
    }
   ],
   "execution_count": 3
  },
  {
   "metadata": {},
   "cell_type": "markdown",
   "source": "4) Crear una variable que contenga tu nombre\n"
  },
  {
   "metadata": {
    "ExecuteTime": {
     "end_time": "2024-07-03T19:34:45.993360Z",
     "start_time": "2024-07-03T19:34:45.979062Z"
    }
   },
   "cell_type": "code",
   "source": [
    "# Crear la variable y asignarle el nombre\n",
    "mi_nombre = \"Sergio\"\n",
    "\n",
    "# Imprimir la variable para verificar\n",
    "print(mi_nombre)\n"
   ],
   "outputs": [
    {
     "name": "stdout",
     "output_type": "stream",
     "text": [
      "Sergio\n"
     ]
    }
   ],
   "execution_count": 4
  },
  {
   "attachments": {},
   "cell_type": "markdown",
   "metadata": {},
   "source": [
    "5) Crear una variable que contenga un número complejo"
   ]
  },
  {
   "metadata": {
    "ExecuteTime": {
     "end_time": "2024-07-03T19:35:40.383727Z",
     "start_time": "2024-07-03T19:35:40.376953Z"
    }
   },
   "cell_type": "code",
   "source": [
    "# Crear la variable y asignarle un número complejo\n",
    "numero_complejo = 3 + 4j\n",
    "\n",
    "# Imprimir la variable para verificar\n",
    "print(numero_complejo)\n"
   ],
   "outputs": [
    {
     "name": "stdout",
     "output_type": "stream",
     "text": [
      "(3+4j)\n"
     ]
    }
   ],
   "execution_count": 5
  },
  {
   "attachments": {},
   "cell_type": "markdown",
   "metadata": {},
   "source": [
    "6) Mostrar el tipo de dato de la variable crada en el punto 5"
   ]
  },
  {
   "metadata": {
    "ExecuteTime": {
     "end_time": "2024-07-03T19:46:49.981014Z",
     "start_time": "2024-07-03T19:46:49.970977Z"
    }
   },
   "cell_type": "code",
   "source": [
    "# Crear la variable y asignarle un número complejo\n",
    "numero_complejo = 3 + 4j\n",
    "\n",
    "# Mostrar el tipo de dato de la variable\n",
    "print(type(numero_complejo))\n"
   ],
   "outputs": [
    {
     "name": "stdout",
     "output_type": "stream",
     "text": [
      "<class 'complex'>\n"
     ]
    }
   ],
   "execution_count": 6
  },
  {
   "attachments": {},
   "cell_type": "markdown",
   "metadata": {},
   "source": [
    "7) Crear una variable que contenga el valor del número Pi redondeado a 4 decimales"
   ]
  },
  {
   "metadata": {
    "ExecuteTime": {
     "end_time": "2024-07-03T19:47:41.619776Z",
     "start_time": "2024-07-03T19:47:41.609139Z"
    }
   },
   "cell_type": "code",
   "source": [
    "import math\n",
    "\n",
    "# Crear la variable y asignarle el valor de Pi redondeado a 4 decimales\n",
    "pi_redondeado = round(math.pi, 4)\n",
    "\n",
    "# Imprimir la variable para verificar\n",
    "print(pi_redondeado)\n"
   ],
   "outputs": [
    {
     "name": "stdout",
     "output_type": "stream",
     "text": [
      "3.1416\n"
     ]
    }
   ],
   "execution_count": 7
  },
  {
   "attachments": {},
   "cell_type": "markdown",
   "metadata": {},
   "source": [
    "8) Crear una variable que contenga el valor 'True' y otra que contenga el valor True. ¿Se trata de lo mismo?"
   ]
  },
  {
   "metadata": {
    "ExecuteTime": {
     "end_time": "2024-07-03T19:52:41.158502Z",
     "start_time": "2024-07-03T19:52:41.153773Z"
    }
   },
   "cell_type": "code",
   "source": [
    "# Variable que contiene la cadena de texto 'True'\n",
    "cadena_true = 'True'\n",
    "\n",
    "# Variable que contiene el valor booleano True\n",
    "booleano_true = True\n"
   ],
   "outputs": [],
   "execution_count": 9
  },
  {
   "attachments": {},
   "cell_type": "markdown",
   "metadata": {},
   "source": [
    "9) Imprimir el tipo de dato correspondientes a las variables creadas en el punto 8"
   ]
  },
  {
   "metadata": {
    "ExecuteTime": {
     "end_time": "2024-07-03T19:52:43.117575Z",
     "start_time": "2024-07-03T19:52:43.112763Z"
    }
   },
   "cell_type": "code",
   "source": [
    "# Imprimir los valores y tipos de datos\n",
    "print(cadena_true, type(cadena_true))\n",
    "print(booleano_true, type(booleano_true))"
   ],
   "outputs": [
    {
     "name": "stdout",
     "output_type": "stream",
     "text": [
      "True <class 'str'>\n",
      "True <class 'bool'>\n"
     ]
    }
   ],
   "execution_count": 10
  },
  {
   "attachments": {},
   "cell_type": "markdown",
   "metadata": {},
   "source": [
    "10) Asignar a una variable, la suma de un número entero y otro decimal"
   ]
  },
  {
   "metadata": {
    "ExecuteTime": {
     "end_time": "2024-07-03T19:53:15.924602Z",
     "start_time": "2024-07-03T19:53:15.917598Z"
    }
   },
   "cell_type": "code",
   "source": [
    "# Asignar valores a las variables\n",
    "entero = 5\n",
    "decimal = 3.7\n",
    "\n",
    "# Sumar el número entero y el número decimal\n",
    "suma = entero + decimal\n",
    "\n",
    "# Imprimir el resultado\n",
    "print(suma)\n"
   ],
   "outputs": [
    {
     "name": "stdout",
     "output_type": "stream",
     "text": [
      "8.7\n"
     ]
    }
   ],
   "execution_count": 11
  },
  {
   "attachments": {},
   "cell_type": "markdown",
   "metadata": {},
   "source": [
    "11) Realizar una operación de suma de números complejos"
   ]
  },
  {
   "metadata": {
    "ExecuteTime": {
     "end_time": "2024-07-03T19:54:24.682216Z",
     "start_time": "2024-07-03T19:54:24.674270Z"
    }
   },
   "cell_type": "code",
   "source": [
    "# Asignar valores a las variables\n",
    "numero_complejo1 = 2 + 3j\n",
    "numero_complejo2 = 4 + 5j\n",
    "\n",
    "# Sumar los números complejos\n",
    "suma_complejos = numero_complejo1 + numero_complejo2\n",
    "\n",
    "# Imprimir el resultado\n",
    "print(suma_complejos)\n"
   ],
   "outputs": [
    {
     "name": "stdout",
     "output_type": "stream",
     "text": [
      "(6+8j)\n"
     ]
    }
   ],
   "execution_count": 12
  },
  {
   "attachments": {},
   "cell_type": "markdown",
   "metadata": {},
   "source": [
    "12) Realizar una operación de suma de un número real y otro complejo"
   ]
  },
  {
   "metadata": {
    "ExecuteTime": {
     "end_time": "2024-07-03T19:55:32.480192Z",
     "start_time": "2024-07-03T19:55:32.466278Z"
    }
   },
   "cell_type": "code",
   "source": [
    "# Asignar valores a las variables\n",
    "numero_real = 5.5\n",
    "numero_complejo = 2 + 3j\n",
    "\n",
    "# Sumar el número real y el número complejo\n",
    "suma = numero_real + numero_complejo\n",
    "\n",
    "# Imprimir el resultado\n",
    "print(suma)\n"
   ],
   "outputs": [
    {
     "name": "stdout",
     "output_type": "stream",
     "text": [
      "(7.5+3j)\n"
     ]
    }
   ],
   "execution_count": 13
  },
  {
   "attachments": {},
   "cell_type": "markdown",
   "metadata": {},
   "source": [
    "13) Realizar una operación de multiplicación"
   ]
  },
  {
   "metadata": {
    "ExecuteTime": {
     "end_time": "2024-07-03T19:56:15.923141Z",
     "start_time": "2024-07-03T19:56:15.911034Z"
    }
   },
   "cell_type": "code",
   "source": [
    "# Asignar valores a las variables\n",
    "numero1 = 6\n",
    "numero2 = 7\n",
    "\n",
    "# Multiplicar los números\n",
    "multiplicacion = numero1 * numero2\n",
    "\n",
    "# Imprimir el resultado\n",
    "print(multiplicacion)\n"
   ],
   "outputs": [
    {
     "name": "stdout",
     "output_type": "stream",
     "text": [
      "42\n"
     ]
    }
   ],
   "execution_count": 14
  },
  {
   "attachments": {},
   "cell_type": "markdown",
   "metadata": {},
   "source": [
    "14) Mostrar el resultado de elevar 2 a la octava potencia"
   ]
  },
  {
   "metadata": {
    "ExecuteTime": {
     "end_time": "2024-07-03T19:56:39.737333Z",
     "start_time": "2024-07-03T19:56:39.726194Z"
    }
   },
   "cell_type": "code",
   "source": [
    "# Elevar 2 a la octava potencia\n",
    "resultado = 2 ** 8\n",
    "\n",
    "# Imprimir el resultado\n",
    "print(resultado)\n"
   ],
   "outputs": [
    {
     "name": "stdout",
     "output_type": "stream",
     "text": [
      "256\n"
     ]
    }
   ],
   "execution_count": 15
  },
  {
   "attachments": {},
   "cell_type": "markdown",
   "metadata": {},
   "source": [
    "15) Obtener el cociente de la división de 27 entre 4 en una variable y luego mostrarla"
   ]
  },
  {
   "metadata": {
    "ExecuteTime": {
     "end_time": "2024-07-03T19:57:46.074621Z",
     "start_time": "2024-07-03T19:57:46.066583Z"
    }
   },
   "cell_type": "code",
   "source": [
    "# Obtener el cociente de la división de 27 entre 4\n",
    "cociente = 27 // 4\n",
    "\n",
    "# Imprimir el resultado\n",
    "print(cociente)\n"
   ],
   "outputs": [
    {
     "name": "stdout",
     "output_type": "stream",
     "text": [
      "6\n"
     ]
    }
   ],
   "execution_count": 16
  },
  {
   "attachments": {},
   "cell_type": "markdown",
   "metadata": {},
   "source": [
    "16) De la división anterior solamente mostrar la parte entera"
   ]
  },
  {
   "metadata": {
    "ExecuteTime": {
     "end_time": "2024-07-03T19:58:48.521490Z",
     "start_time": "2024-07-03T19:58:48.516992Z"
    }
   },
   "cell_type": "code",
   "source": [
    "# Obtener el cociente de la división de 27 entre 4\n",
    "parte_entera = 27 // 4\n",
    "\n",
    "# Imprimir solo la parte entera\n",
    "print(parte_entera)\n"
   ],
   "outputs": [
    {
     "name": "stdout",
     "output_type": "stream",
     "text": [
      "6\n"
     ]
    }
   ],
   "execution_count": 17
  },
  {
   "attachments": {},
   "cell_type": "markdown",
   "metadata": {},
   "source": [
    "17) De la división de 27 entre 4 mostrar solamente el resto"
   ]
  },
  {
   "metadata": {
    "ExecuteTime": {
     "end_time": "2024-07-03T19:59:14.833154Z",
     "start_time": "2024-07-03T19:59:14.825294Z"
    }
   },
   "cell_type": "code",
   "source": [
    "# Obtener el resto de la división de 27 entre 4\n",
    "resto = 27 % 4\n",
    "\n",
    "# Imprimir el resto\n",
    "print(resto)\n"
   ],
   "outputs": [
    {
     "name": "stdout",
     "output_type": "stream",
     "text": [
      "3\n"
     ]
    }
   ],
   "execution_count": 18
  },
  {
   "attachments": {},
   "cell_type": "markdown",
   "metadata": {},
   "source": [
    "18) Utilizando como operandos el número 4 y los resultados obtenidos en los puntos 16 y 17. Obtener 27 como resultado"
   ]
  },
  {
   "metadata": {
    "ExecuteTime": {
     "end_time": "2024-07-03T19:59:50.781160Z",
     "start_time": "2024-07-03T19:59:50.773936Z"
    }
   },
   "cell_type": "code",
   "source": [
    "# Operandos\n",
    "parte_entera = 6  # Resultado del punto 16\n",
    "resto = 3        # Resultado del punto 17\n",
    "numero = 4       # Número utilizado como operando\n",
    "\n",
    "# Obtener 27 usando los operandos\n",
    "resultado = (parte_entera * numero) + resto\n",
    "\n",
    "# Imprimir el resultado\n",
    "print(resultado)\n"
   ],
   "outputs": [
    {
     "name": "stdout",
     "output_type": "stream",
     "text": [
      "27\n"
     ]
    }
   ],
   "execution_count": 19
  },
  {
   "attachments": {},
   "cell_type": "markdown",
   "metadata": {},
   "source": [
    "19) Utilizar el operador \"+\" en una operación donde intervengan solo variables alfanuméricas"
   ]
  },
  {
   "metadata": {
    "ExecuteTime": {
     "end_time": "2024-07-03T20:02:58.133896Z",
     "start_time": "2024-07-03T20:02:58.123860Z"
    }
   },
   "cell_type": "code",
   "source": [
    "# Asignar valores a las variables alfanuméricas\n",
    "cadena1 = \"Hola\"\n",
    "cadena2 = \"Mundo\"\n",
    "\n",
    "# Concatenar las cadenas usando el operador \"+\"\n",
    "resultado = cadena1 + \" \" + cadena2\n",
    "\n",
    "# Imprimir el resultado\n",
    "print(resultado)\n"
   ],
   "outputs": [
    {
     "name": "stdout",
     "output_type": "stream",
     "text": [
      "Hola Mundo\n"
     ]
    }
   ],
   "execution_count": 20
  },
  {
   "attachments": {},
   "cell_type": "markdown",
   "metadata": {},
   "source": [
    "20) Evaluar si \"2\" es igual a 2. ¿Por qué ocurre eso?"
   ]
  },
  {
   "metadata": {
    "ExecuteTime": {
     "end_time": "2024-07-03T20:04:23.482596Z",
     "start_time": "2024-07-03T20:04:23.478456Z"
    }
   },
   "cell_type": "code",
   "source": [
    "# Evaluar si \"2\" es igual a 2\n",
    "resultado = \"2\" == 2\n",
    "\n",
    "# Imprimir el resultado\n",
    "print(resultado)\n"
   ],
   "outputs": [
    {
     "name": "stdout",
     "output_type": "stream",
     "text": [
      "False\n"
     ]
    }
   ],
   "execution_count": 21
  },
  {
   "attachments": {},
   "cell_type": "markdown",
   "metadata": {},
   "source": [
    "21) Utilizar las funciones de cambio de tipo de dato, para que la validación del punto 20 resulte verdadera"
   ]
  },
  {
   "metadata": {
    "ExecuteTime": {
     "end_time": "2024-07-03T20:05:08.439372Z",
     "start_time": "2024-07-03T20:05:08.427985Z"
    }
   },
   "cell_type": "code",
   "source": [
    "# Convertir la cadena \"2\" en un entero\n",
    "resultado = int(\"2\") == 2\n",
    "\n",
    "# Imprimir el resultado\n",
    "print(resultado)\n"
   ],
   "outputs": [
    {
     "name": "stdout",
     "output_type": "stream",
     "text": [
      "True\n"
     ]
    }
   ],
   "execution_count": 22
  },
  {
   "metadata": {
    "ExecuteTime": {
     "end_time": "2024-07-03T20:05:18.017152Z",
     "start_time": "2024-07-03T20:05:18.008520Z"
    }
   },
   "cell_type": "code",
   "source": [
    "# Convertir el entero 2 en una cadena\n",
    "resultado = \"2\" == str(2)\n",
    "\n",
    "# Imprimir el resultado\n",
    "print(resultado)\n"
   ],
   "outputs": [
    {
     "name": "stdout",
     "output_type": "stream",
     "text": [
      "True\n"
     ]
    }
   ],
   "execution_count": 23
  },
  {
   "attachments": {},
   "cell_type": "markdown",
   "metadata": {},
   "source": [
    "22) ¿Por qué arroja error el siguiente cambio de tipo de datos? a = float('3,8')"
   ]
  },
  {
   "metadata": {
    "ExecuteTime": {
     "end_time": "2024-07-03T20:06:30.715674Z",
     "start_time": "2024-07-03T20:06:30.704732Z"
    }
   },
   "cell_type": "code",
   "source": [
    "# El error ocurre porque en Python, el separador decimal en números flotantes debe ser un punto (.) y no una coma (,). Por lo tanto, '3,8' no es un formato válido para convertirlo directamente a un número flotante.\n",
    "\n",
    "# Reemplazar la coma con un punto y luego convertir a float\n",
    "a = float('3.8')\n",
    "\n",
    "# Imprimir el resultado\n",
    "print(a)\n"
   ],
   "outputs": [
    {
     "name": "stdout",
     "output_type": "stream",
     "text": [
      "3.8\n"
     ]
    }
   ],
   "execution_count": 24
  },
  {
   "attachments": {},
   "cell_type": "markdown",
   "metadata": {},
   "source": [
    "23) Crear una variable con el valor 3, y utilizar el operador '-=' para modificar su contenido y que de como resultado 2."
   ]
  },
  {
   "metadata": {
    "ExecuteTime": {
     "end_time": "2024-07-03T20:07:36.032301Z",
     "start_time": "2024-07-03T20:07:36.022984Z"
    }
   },
   "cell_type": "code",
   "source": [
    "# Crear la variable con el valor 3\n",
    "variable = 3\n",
    "\n",
    "# Utilizar el operador '-=' para restar 1\n",
    "variable -= 1\n",
    "\n",
    "# Imprimir el resultado\n",
    "print(variable)\n"
   ],
   "outputs": [
    {
     "name": "stdout",
     "output_type": "stream",
     "text": [
      "2\n"
     ]
    }
   ],
   "execution_count": 25
  },
  {
   "attachments": {},
   "cell_type": "markdown",
   "metadata": {},
   "source": [
    "24) Realizar la operacion 1 << 2 ¿Por qué da ese resultado? ¿Qué es el sistema de numeración binario?"
   ]
  },
  {
   "metadata": {
    "ExecuteTime": {
     "end_time": "2024-07-03T20:08:52.418403Z",
     "start_time": "2024-07-03T20:08:52.402860Z"
    }
   },
   "cell_type": "code",
   "source": [
    "'''La operación 1 << 2 es una operación de desplazamiento a la izquierda en binario. Vamos a descomponerla paso a paso.\n",
    "\n",
    "Sistema de numeración binario: Es un sistema de numeración que utiliza solo dos dígitos, 0 y 1. Cada dígito en un número binario se llama bit. Por ejemplo, el número decimal 1 se representa como 1 en binario, y el número decimal 2 se representa como 10 en binario.\n",
    "\n",
    "Desplazamiento a la izquierda (<<): Esta operación toma el número binario y desplaza todos sus bits a la izquierda por un número especificado de posiciones. Los lugares vacíos a la derecha se rellenan con ceros.\n",
    "\n",
    "Vamos a ver qué ocurre con 1 << 2:\n",
    "\n",
    "El número 1 en binario es 0001.\n",
    "Desplazar 0001 dos posiciones a la izquierda se convierte en 0100.\n",
    "En binario, 0100 es el número decimal 4.'''\n",
    "\n",
    "# Realizar la operación de desplazamiento a la izquierda\n",
    "resultado = 1 << 2\n",
    "\n",
    "# Imprimir el resultado\n",
    "print(resultado)\n"
   ],
   "outputs": [
    {
     "name": "stdout",
     "output_type": "stream",
     "text": [
      "4\n"
     ]
    }
   ],
   "execution_count": 26
  },
  {
   "attachments": {},
   "cell_type": "markdown",
   "metadata": {},
   "source": [
    "25) Realizar la operación 2 + '2' ¿Por qué no está permitido? ¿Si los dos operandos serían del mismo tipo, siempre arrojaría el mismo resultado?"
   ]
  },
  {
   "metadata": {
    "ExecuteTime": {
     "end_time": "2024-07-03T20:16:51.260894Z",
     "start_time": "2024-07-03T20:16:51.198329Z"
    }
   },
   "cell_type": "code",
   "source": "'''La operación 2 + '2' no está permitida porque se intenta sumar un número entero (int) con una cadena de texto (str), lo cual genera un error de tipo en Python. Los tipos de datos no coinciden y no se pueden combinar de esta manera directamente.'''\n",
   "outputs": [
    {
     "data": {
      "text/plain": [
       "\"La operación 2 + '2' no está permitida porque se intenta sumar un número entero (int) con una cadena de texto (str), lo cual genera un error de tipo en Python. Los tipos de datos no coinciden y no se pueden combinar de esta manera directamente.\""
      ]
     },
     "execution_count": 31,
     "metadata": {},
     "output_type": "execute_result"
    }
   ],
   "execution_count": 31
  },
  {
   "attachments": {},
   "cell_type": "markdown",
   "metadata": {},
   "source": [
    "26) Realizar una operación válida entre valores de tipo entero y string"
   ]
  },
  {
   "metadata": {
    "ExecuteTime": {
     "end_time": "2024-07-03T20:14:41.373675Z",
     "start_time": "2024-07-03T20:14:41.364425Z"
    }
   },
   "cell_type": "code",
   "source": [
    "resultado = 2 + int('2')\n",
    "print(resultado)\n",
    "\n",
    "resultado = str(2) + '2'\n",
    "print(resultado)"
   ],
   "outputs": [
    {
     "name": "stdout",
     "output_type": "stream",
     "text": [
      "4\n",
      "22\n"
     ]
    }
   ],
   "execution_count": 30
  }
 ],
 "metadata": {
  "interpreter": {
   "hash": "c85384e4cb51c8b72350f3a8712cc8351fdc3955e32a27f9b60c6242ab125f01"
  },
  "kernelspec": {
   "display_name": "Python 3 (ipykernel)",
   "language": "python",
   "name": "python3"
  },
  "language_info": {
   "codemirror_mode": {
    "name": "ipython",
    "version": 3
   },
   "file_extension": ".py",
   "mimetype": "text/x-python",
   "name": "python",
   "nbconvert_exporter": "python",
   "pygments_lexer": "ipython3",
   "version": "3.10.11"
  }
 },
 "nbformat": 4,
 "nbformat_minor": 4
}
