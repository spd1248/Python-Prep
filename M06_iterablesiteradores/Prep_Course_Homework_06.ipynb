{
 "cells": [
  {
   "attachments": {},
   "cell_type": "markdown",
   "metadata": {},
   "source": [
    "## Iteradores e iterables"
   ]
  },
  {
   "attachments": {},
   "cell_type": "markdown",
   "metadata": {},
   "source": [
    "1) A partir de una lista vacía, utilizar un ciclo while para cargar allí números negativos del -15 al -1"
   ]
  },
  {
   "metadata": {
    "ExecuteTime": {
     "end_time": "2024-04-23T23:58:56.132505Z",
     "start_time": "2024-04-23T23:58:56.126983Z"
    }
   },
   "cell_type": "code",
   "source": [
    "# 1) A partir de una lista vacía, utilizar un ciclo while para cargar allí números negativos del -15 al -1\n",
    "lista_numeros_negativos = []\n",
    "num = -15\n",
    "while num < 0:\n",
    "    lista_numeros_negativos.append(num)\n",
    "    num += 1\n",
    "print(lista_numeros_negativos)\n"
   ],
   "outputs": [
    {
     "name": "stdout",
     "output_type": "stream",
     "text": [
      "[-15, -14, -13, -12, -11, -10, -9, -8, -7, -6, -5, -4, -3, -2, -1]\n"
     ]
    }
   ],
   "execution_count": 27
  },
  {
   "attachments": {},
   "cell_type": "markdown",
   "metadata": {},
   "source": [
    "2) ¿Con un ciclo while sería posible recorrer la lista para imprimir sólo los números pares?"
   ]
  },
  {
   "cell_type": "code",
   "metadata": {
    "ExecuteTime": {
     "end_time": "2024-04-23T23:58:56.184233Z",
     "start_time": "2024-04-23T23:58:56.177396Z"
    }
   },
   "source": [
    "# 2) ¿Con un ciclo while sería posible recorrer la lista para imprimir sólo los números pares?\n",
    "# Sí, es posible.\n",
    "i = 0\n",
    "while i < len(lista_numeros_negativos):\n",
    "    if lista_numeros_negativos[i] % 2 == 0:\n",
    "        print(lista_numeros_negativos[i])\n",
    "    i += 1\n"
   ],
   "outputs": [
    {
     "name": "stdout",
     "output_type": "stream",
     "text": [
      "-14\n",
      "-12\n",
      "-10\n",
      "-8\n",
      "-6\n",
      "-4\n",
      "-2\n"
     ]
    }
   ],
   "execution_count": 28
  },
  {
   "attachments": {},
   "cell_type": "markdown",
   "metadata": {},
   "source": [
    "3) Resolver el punto anterior sin utilizar un ciclo while"
   ]
  },
  {
   "cell_type": "code",
   "metadata": {
    "ExecuteTime": {
     "end_time": "2024-04-23T23:58:56.200202Z",
     "start_time": "2024-04-23T23:58:56.193246Z"
    }
   },
   "source": [
    "# 3) Resolver el punto anterior sin utilizar un ciclo while\n",
    "for num in lista_numeros_negativos:\n",
    "    if num % 2 == 0:\n",
    "        print(num)\n"
   ],
   "outputs": [
    {
     "name": "stdout",
     "output_type": "stream",
     "text": [
      "-14\n",
      "-12\n",
      "-10\n",
      "-8\n",
      "-6\n",
      "-4\n",
      "-2\n"
     ]
    }
   ],
   "execution_count": 29
  },
  {
   "attachments": {},
   "cell_type": "markdown",
   "metadata": {},
   "source": [
    "4) Utilizar el iterable para recorrer sólo los primeros 3 elementos"
   ]
  },
  {
   "cell_type": "code",
   "metadata": {
    "ExecuteTime": {
     "end_time": "2024-04-23T23:58:56.226464Z",
     "start_time": "2024-04-23T23:58:56.209208Z"
    }
   },
   "source": [
    "# 4) Utilizar el iterable para recorrer sólo los primeros 3 elementos\n",
    "for num in lista_numeros_negativos[:3]:\n",
    "    print(num)\n"
   ],
   "outputs": [
    {
     "name": "stdout",
     "output_type": "stream",
     "text": [
      "-15\n",
      "-14\n",
      "-13\n"
     ]
    }
   ],
   "execution_count": 30
  },
  {
   "attachments": {},
   "cell_type": "markdown",
   "metadata": {},
   "source": [
    "5) Utilizar la función **enumerate** para obtener dentro del iterable, tambien el índice al que corresponde el elemento"
   ]
  },
  {
   "cell_type": "code",
   "metadata": {
    "ExecuteTime": {
     "end_time": "2024-04-23T23:58:56.260243Z",
     "start_time": "2024-04-23T23:58:56.240838Z"
    }
   },
   "source": [
    "# 5) Utilizar la función enumerate para obtener dentro del iterable, también el índice al que corresponde el elemento\n",
    "for indice, num in enumerate(lista_numeros_negativos):\n",
    "    print(\"Índice:\", indice, \"Número:\", num)\n"
   ],
   "outputs": [
    {
     "name": "stdout",
     "output_type": "stream",
     "text": [
      "Índice: 0 Número: -15\n",
      "Índice: 1 Número: -14\n",
      "Índice: 2 Número: -13\n",
      "Índice: 3 Número: -12\n",
      "Índice: 4 Número: -11\n",
      "Índice: 5 Número: -10\n",
      "Índice: 6 Número: -9\n",
      "Índice: 7 Número: -8\n",
      "Índice: 8 Número: -7\n",
      "Índice: 9 Número: -6\n",
      "Índice: 10 Número: -5\n",
      "Índice: 11 Número: -4\n",
      "Índice: 12 Número: -3\n",
      "Índice: 13 Número: -2\n",
      "Índice: 14 Número: -1\n"
     ]
    }
   ],
   "execution_count": 31
  },
  {
   "attachments": {},
   "cell_type": "markdown",
   "metadata": {},
   "source": [
    "6) Dada la siguiente lista de números enteros entre 1 y 20, crear un ciclo donde se completen los valores faltantes: lista = [1,2,5,7,8,10,13,14,15,17,20]"
   ]
  },
  {
   "cell_type": "code",
   "metadata": {
    "ExecuteTime": {
     "end_time": "2024-04-23T23:58:56.268439Z",
     "start_time": "2024-04-23T23:58:56.260243Z"
    }
   },
   "source": [
    "# 6) Dada la siguiente lista de números enteros entre 1 y 20, crear un ciclo donde se completen los valores faltantes: lista = [1,2,5,7,8,10,13,14,15,17,20]\n",
    "lista = [1, 2, 5, 7, 8, 10, 13, 14, 15, 17, 20]\n",
    "numeros_faltantes = []\n",
    "for i in range(1, 21):\n",
    "    if i not in lista:\n",
    "        numeros_faltantes.append(i)\n",
    "print(\"Números faltantes:\", numeros_faltantes)\n"
   ],
   "outputs": [
    {
     "name": "stdout",
     "output_type": "stream",
     "text": [
      "Números faltantes: [3, 4, 6, 9, 11, 12, 16, 18, 19]\n"
     ]
    }
   ],
   "execution_count": 32
  },
  {
   "attachments": {},
   "cell_type": "markdown",
   "metadata": {},
   "source": [
    "7) La sucesión de Fibonacci es un listado de números que sigue la fórmula: <br>\n",
    "n<sub>0</sub> = 0<br>\n",
    "n<sub>1</sub> = 1<br>\n",
    "n<sub>i</sub> = n<sub>i-1</sub> + n<sub>i-2</sub><br>\n",
    "Crear una lista con los primeros treinta números de la sucesión.<br>"
   ]
  },
  {
   "cell_type": "code",
   "metadata": {
    "ExecuteTime": {
     "end_time": "2024-04-23T23:58:56.282656Z",
     "start_time": "2024-04-23T23:58:56.272470Z"
    }
   },
   "source": [
    "# Definir una función para generar la sucesión de Fibonacci hasta n elementos.\n",
    "def fibonacci(n):\n",
    "    sequence = [0, 1]\n",
    "    while len(sequence) < n:\n",
    "        sequence.append(sequence[-1] + sequence[-2])\n",
    "    return sequence\n",
    "\n",
    "# Crear una lista con los primeros treinta números de la sucesión de Fibonacci.\n",
    "fibonacci_30 = fibonacci(30)\n",
    "fibonacci_30\n"
   ],
   "outputs": [
    {
     "data": {
      "text/plain": [
       "[0,\n",
       " 1,\n",
       " 1,\n",
       " 2,\n",
       " 3,\n",
       " 5,\n",
       " 8,\n",
       " 13,\n",
       " 21,\n",
       " 34,\n",
       " 55,\n",
       " 89,\n",
       " 144,\n",
       " 233,\n",
       " 377,\n",
       " 610,\n",
       " 987,\n",
       " 1597,\n",
       " 2584,\n",
       " 4181,\n",
       " 6765,\n",
       " 10946,\n",
       " 17711,\n",
       " 28657,\n",
       " 46368,\n",
       " 75025,\n",
       " 121393,\n",
       " 196418,\n",
       " 317811,\n",
       " 514229]"
      ]
     },
     "execution_count": 33,
     "metadata": {},
     "output_type": "execute_result"
    }
   ],
   "execution_count": 33
  },
  {
   "attachments": {},
   "cell_type": "markdown",
   "metadata": {},
   "source": [
    "8) Realizar la suma de todos elementos de la lista del punto anterior"
   ]
  },
  {
   "cell_type": "code",
   "metadata": {
    "ExecuteTime": {
     "end_time": "2024-04-23T23:58:56.293899Z",
     "start_time": "2024-04-23T23:58:56.288865Z"
    }
   },
   "source": "print(sum (fibonacci_30))",
   "outputs": [
    {
     "name": "stdout",
     "output_type": "stream",
     "text": [
      "1346268\n"
     ]
    }
   ],
   "execution_count": 34
  },
  {
   "attachments": {},
   "cell_type": "markdown",
   "metadata": {},
   "source": [
    "9) La proporción aurea se expresa con una proporción matemática que nace el número irracional Phi= 1,618… que los griegos llamaron número áureo. El cuál se puede aproximar con la sucesión de Fibonacci. Con la lista del ejercicio anterior, imprimir el cociente de los últimos 5 pares de dos números contiguos:<br>\n",
    "Donde i es la cantidad total de elementos<br>\n",
    "n<sub>i-1</sub> / n<sub>i</sub><br>\n",
    "n<sub>i-2</sub> / n<sub>i-1</sub><br>\n",
    "n<sub>i-3</sub> / n<sub>i-2</sub><br>\n",
    "n<sub>i-4</sub> / n<sub>i-3</sub><br>\n",
    "n<sub>i-5</sub> / n<sub>i-4</sub><br>\n",
    " "
   ]
  },
  {
   "cell_type": "code",
   "metadata": {
    "ExecuteTime": {
     "end_time": "2024-04-23T23:58:56.377663Z",
     "start_time": "2024-04-23T23:58:56.366378Z"
    }
   },
   "source": [
    "# La lista ya ha sido generada en el paso anterior, ahora calcularemos los cocientes.\n",
    "cocientes = [fibonacci_30[-i-1] / fibonacci_30[-i-2] for i in range(1, 6)]\n",
    "cocientes\n"
   ],
   "outputs": [
    {
     "data": {
      "text/plain": [
       "[1.618033988738303,\n",
       " 1.6180339887802426,\n",
       " 1.6180339886704431,\n",
       " 1.618033988957902,\n",
       " 1.618033988205325]"
      ]
     },
     "execution_count": 35,
     "metadata": {},
     "output_type": "execute_result"
    }
   ],
   "execution_count": 35
  },
  {
   "attachments": {},
   "cell_type": "markdown",
   "metadata": {},
   "source": [
    "10) A partir de la variable cadena ya dada, mostrar en qué posiciones aparece la letra \"n\"<br>\n",
    "cadena = 'Hola Mundo. Esto es una practica del lenguaje de programación Python'"
   ]
  },
  {
   "cell_type": "code",
   "metadata": {
    "ExecuteTime": {
     "end_time": "2024-04-23T23:58:56.396966Z",
     "start_time": "2024-04-23T23:58:56.385021Z"
    }
   },
   "source": [
    "cadena = 'Hola Mundo. Esto es una practica del lenguaje de programación Python'\n",
    "posiciones = [i for i, char in enumerate(cadena) if char == 'n']\n",
    "print(\"Posiciones de 'n':\", posiciones)\n"
   ],
   "outputs": [
    {
     "name": "stdout",
     "output_type": "stream",
     "text": [
      "Posiciones de 'n': [7, 21, 39, 60, 67]\n"
     ]
    }
   ],
   "execution_count": 36
  },
  {
   "attachments": {},
   "cell_type": "markdown",
   "metadata": {},
   "source": [
    "11) Crear un diccionario e imprimir sus claves utilizando un iterador"
   ]
  },
  {
   "cell_type": "code",
   "metadata": {
    "ExecuteTime": {
     "end_time": "2024-04-23T23:58:56.403262Z",
     "start_time": "2024-04-23T23:58:56.397613Z"
    }
   },
   "source": [
    "diccionario = {'nombre': 'Juan', 'edad': 30, 'ciudad': 'Buenos Aires'}\n",
    "for clave in diccionario:\n",
    "    print(clave)\n"
   ],
   "outputs": [
    {
     "name": "stdout",
     "output_type": "stream",
     "text": [
      "nombre\n",
      "edad\n",
      "ciudad\n"
     ]
    }
   ],
   "execution_count": 37
  },
  {
   "attachments": {},
   "cell_type": "markdown",
   "metadata": {},
   "source": [
    "12) Convertir en una lista la variable \"cadena\" del punto 10 y luego recorrerla con un iterador "
   ]
  },
  {
   "cell_type": "code",
   "metadata": {
    "ExecuteTime": {
     "end_time": "2024-04-23T23:58:56.449884Z",
     "start_time": "2024-04-23T23:58:56.444800Z"
    }
   },
   "source": [
    "lista_cadena = list(cadena)\n",
    "iterador = iter(lista_cadena)\n",
    "while True:\n",
    "    try:\n",
    "        print(next(iterador))\n",
    "    except StopIteration:\n",
    "        break\n"
   ],
   "outputs": [
    {
     "name": "stdout",
     "output_type": "stream",
     "text": [
      "H\n",
      "o\n",
      "l\n",
      "a\n",
      " \n",
      "M\n",
      "u\n",
      "n\n",
      "d\n",
      "o\n",
      ".\n",
      " \n",
      "E\n",
      "s\n",
      "t\n",
      "o\n",
      " \n",
      "e\n",
      "s\n",
      " \n",
      "u\n",
      "n\n",
      "a\n",
      " \n",
      "p\n",
      "r\n",
      "a\n",
      "c\n",
      "t\n",
      "i\n",
      "c\n",
      "a\n",
      " \n",
      "d\n",
      "e\n",
      "l\n",
      " \n",
      "l\n",
      "e\n",
      "n\n",
      "g\n",
      "u\n",
      "a\n",
      "j\n",
      "e\n",
      " \n",
      "d\n",
      "e\n",
      " \n",
      "p\n",
      "r\n",
      "o\n",
      "g\n",
      "r\n",
      "a\n",
      "m\n",
      "a\n",
      "c\n",
      "i\n",
      "ó\n",
      "n\n",
      " \n",
      "P\n",
      "y\n",
      "t\n",
      "h\n",
      "o\n",
      "n\n"
     ]
    }
   ],
   "execution_count": 38
  },
  {
   "attachments": {},
   "cell_type": "markdown",
   "metadata": {},
   "source": [
    "13) Crear dos listas y unirlas en una tupla utilizando la función zip"
   ]
  },
  {
   "cell_type": "code",
   "metadata": {
    "ExecuteTime": {
     "end_time": "2024-04-23T23:58:56.481532Z",
     "start_time": "2024-04-23T23:58:56.476139Z"
    }
   },
   "source": [
    "lista1 = [1, 2, 3]\n",
    "lista2 = ['uno', 'dos', 'tres']\n",
    "tupla_unida = list(zip(lista1, lista2))\n",
    "print(tupla_unida)\n"
   ],
   "outputs": [
    {
     "name": "stdout",
     "output_type": "stream",
     "text": [
      "[(1, 'uno'), (2, 'dos'), (3, 'tres')]\n"
     ]
    }
   ],
   "execution_count": 39
  },
  {
   "attachments": {},
   "cell_type": "markdown",
   "metadata": {},
   "source": [
    "14) A partir de la siguiente lista de números, crear una nueva sólo si el número es divisible por 7<br>\n",
    "lis = [18,21,29,32,35,42,56,60,63,71,84,90,91,100]"
   ]
  },
  {
   "cell_type": "code",
   "metadata": {
    "ExecuteTime": {
     "end_time": "2024-04-23T23:58:56.524892Z",
     "start_time": "2024-04-23T23:58:56.507727Z"
    }
   },
   "source": [
    "lis = [18,21,29,32,35,42,56,60,63,71,84,90,91,100]\n",
    "divisibles_por_7 = [num for num in lis if num % 7 == 0]\n",
    "print(\"Números divisibles por 7:\", divisibles_por_7)\n"
   ],
   "outputs": [
    {
     "name": "stdout",
     "output_type": "stream",
     "text": [
      "Números divisibles por 7: [21, 35, 42, 56, 63, 84, 91]\n"
     ]
    }
   ],
   "execution_count": 40
  },
  {
   "attachments": {},
   "cell_type": "markdown",
   "metadata": {},
   "source": [
    "15) A partir de la lista de a continuación, contar la cantidad total de elementos que contiene, teniendo en cuenta que un elemento de la lista podría ser otra lista:<br>\n",
    "lis = [[1,2,3,4],'rojo','verde',[True,False,False],['uno','dos','tres']]"
   ]
  },
  {
   "cell_type": "code",
   "metadata": {
    "ExecuteTime": {
     "end_time": "2024-04-23T23:58:56.532393Z",
     "start_time": "2024-04-23T23:58:56.526420Z"
    }
   },
   "source": [
    "lis = [[1,2,3,4],'rojo','verde',[True,False,False],['uno','dos','tres']]\n",
    "total_elementos = sum(len(item) if isinstance(item, list) else 1 for item in lis)\n",
    "print(\"Cantidad total de elementos:\", total_elementos)\n"
   ],
   "outputs": [
    {
     "name": "stdout",
     "output_type": "stream",
     "text": [
      "Cantidad total de elementos: 12\n"
     ]
    }
   ],
   "execution_count": 41
  },
  {
   "attachments": {},
   "cell_type": "markdown",
   "metadata": {},
   "source": [
    "16) Tomar la lista del punto anterior y convertir cada elemento en una lista si no lo es"
   ]
  },
  {
   "cell_type": "code",
   "metadata": {
    "ExecuteTime": {
     "end_time": "2024-04-23T23:58:56.544248Z",
     "start_time": "2024-04-23T23:58:56.532393Z"
    }
   },
   "source": [
    "lis_modificada = [item if isinstance(item, list) else [item] for item in lis]\n",
    "print(\"Lista modificada:\", lis_modificada)\n"
   ],
   "outputs": [
    {
     "name": "stdout",
     "output_type": "stream",
     "text": [
      "Lista modificada: [[1, 2, 3, 4], ['rojo'], ['verde'], [True, False, False], ['uno', 'dos', 'tres']]\n"
     ]
    }
   ],
   "execution_count": 42
  }
 ],
 "metadata": {
  "interpreter": {
   "hash": "c85384e4cb51c8b72350f3a8712cc8351fdc3955e32a27f9b60c6242ab125f01"
  },
  "kernelspec": {
   "display_name": "Python 3 (ipykernel)",
   "language": "python",
   "name": "python3"
  },
  "language_info": {
   "codemirror_mode": {
    "name": "ipython",
    "version": 3
   },
   "file_extension": ".py",
   "mimetype": "text/x-python",
   "name": "python",
   "nbconvert_exporter": "python",
   "pygments_lexer": "ipython3",
   "version": "3.9.7"
  }
 },
 "nbformat": 4,
 "nbformat_minor": 4
}
