{
 "cells": [
  {
   "attachments": {},
   "cell_type": "markdown",
   "metadata": {},
   "source": [
    "## Iteradores e iterables"
   ]
  },
  {
   "metadata": {},
   "cell_type": "markdown",
   "source": "Pruebas"
  },
  {
   "metadata": {
    "ExecuteTime": {
     "end_time": "2024-06-29T19:38:20.459457Z",
     "start_time": "2024-06-29T19:38:20.446144Z"
    }
   },
   "cell_type": "code",
   "source": "print(list)",
   "outputs": [
    {
     "name": "stdout",
     "output_type": "stream",
     "text": [
      "<class 'list'>\n"
     ]
    }
   ],
   "execution_count": 4
  },
  {
   "metadata": {
    "ExecuteTime": {
     "end_time": "2024-06-29T19:40:11.413645Z",
     "start_time": "2024-06-29T19:40:11.406550Z"
    }
   },
   "cell_type": "code",
   "source": [
    "lista = [5, 4, 9, 2]\n",
    "i = 0\n",
    "while i < len(lista):\n",
    "    elemento = lista[i]\n",
    "    print(elemento)\n",
    "    i += 1"
   ],
   "outputs": [
    {
     "name": "stdout",
     "output_type": "stream",
     "text": [
      "5\n",
      "4\n",
      "9\n",
      "2\n"
     ]
    }
   ],
   "execution_count": 5
  },
  {
   "metadata": {
    "ExecuteTime": {
     "end_time": "2024-06-30T02:28:06.976199Z",
     "start_time": "2024-06-30T02:28:06.970591Z"
    }
   },
   "cell_type": "code",
   "source": "print(len(lista))",
   "outputs": [
    {
     "name": "stdout",
     "output_type": "stream",
     "text": [
      "4\n"
     ]
    }
   ],
   "execution_count": 31
  },
  {
   "metadata": {
    "ExecuteTime": {
     "end_time": "2024-06-29T19:40:41.202079Z",
     "start_time": "2024-06-29T19:40:41.197518Z"
    }
   },
   "cell_type": "code",
   "source": [
    "lista = [5, 4, 9, 2]\n",
    "\n",
    "for elemento in lista:\n",
    "    print(elemento)"
   ],
   "outputs": [
    {
     "name": "stdout",
     "output_type": "stream",
     "text": [
      "5\n",
      "4\n",
      "9\n",
      "2\n"
     ]
    }
   ],
   "execution_count": 6
  },
  {
   "metadata": {
    "ExecuteTime": {
     "end_time": "2024-06-29T19:41:07.758116Z",
     "start_time": "2024-06-29T19:41:07.745553Z"
    }
   },
   "cell_type": "code",
   "source": [
    "cadena = \"Henry\"\n",
    "for c in cadena:\n",
    "    print(c)"
   ],
   "outputs": [
    {
     "name": "stdout",
     "output_type": "stream",
     "text": [
      "H\n",
      "e\n",
      "n\n",
      "r\n",
      "y\n"
     ]
    }
   ],
   "execution_count": 7
  },
  {
   "metadata": {
    "ExecuteTime": {
     "end_time": "2024-06-29T19:41:19.118523Z",
     "start_time": "2024-06-29T19:41:19.113628Z"
    }
   },
   "cell_type": "code",
   "source": [
    "cadena = \"Henry\"\n",
    "for c in enumerate(cadena):\n",
    "    print(c)"
   ],
   "outputs": [
    {
     "name": "stdout",
     "output_type": "stream",
     "text": [
      "(0, 'H')\n",
      "(1, 'e')\n",
      "(2, 'n')\n",
      "(3, 'r')\n",
      "(4, 'y')\n"
     ]
    }
   ],
   "execution_count": 8
  },
  {
   "metadata": {
    "ExecuteTime": {
     "end_time": "2024-06-29T19:43:27.695729Z",
     "start_time": "2024-06-29T19:43:27.688900Z"
    }
   },
   "cell_type": "code",
   "source": [
    "from collections.abc import Iterable\n",
    "\n",
    "cadena = \"Henry\"\n",
    "numero = 9\n",
    "\n",
    "# Verificar si 'cadena' es iterable\n",
    "es_iterable = isinstance(cadena, Iterable)\n",
    "print(f\"¿'{cadena}' es iterable? {es_iterable}\")\n",
    "\n",
    "# Verificar si 'numero' es un número entero\n",
    "es_entero = isinstance(numero, int)\n",
    "print(f\"¿'{numero}' es un número entero? {es_entero}\")\n"
   ],
   "outputs": [
    {
     "name": "stdout",
     "output_type": "stream",
     "text": [
      "¿'Henry' es iterable? True\n",
      "¿'9' es un número entero? True\n"
     ]
    }
   ],
   "execution_count": 12
  },
  {
   "metadata": {
    "ExecuteTime": {
     "end_time": "2024-06-29T19:42:13.260450Z",
     "start_time": "2024-06-29T19:42:13.252106Z"
    }
   },
   "cell_type": "code",
   "source": [
    "mi_dict = {'a':1, 'b':2, 'c':3}\n",
    "for i in mi_dict:\n",
    "    print(i)"
   ],
   "outputs": [
    {
     "name": "stdout",
     "output_type": "stream",
     "text": [
      "a\n",
      "b\n",
      "c\n"
     ]
    }
   ],
   "execution_count": 11
  },
  {
   "metadata": {
    "ExecuteTime": {
     "end_time": "2024-06-30T02:17:01.624250Z",
     "start_time": "2024-06-30T02:17:01.618019Z"
    }
   },
   "cell_type": "code",
   "source": [
    "libro = ['página1', 'página2', 'página3', 'página4']\n",
    "marcapaginas = iter(libro)\n",
    "print(type(marcapaginas))"
   ],
   "outputs": [
    {
     "name": "stdout",
     "output_type": "stream",
     "text": [
      "<class 'list_iterator'>\n"
     ]
    }
   ],
   "execution_count": 19
  },
  {
   "metadata": {
    "ExecuteTime": {
     "end_time": "2024-06-30T02:17:54.459253Z",
     "start_time": "2024-06-30T02:17:54.450025Z"
    }
   },
   "cell_type": "code",
   "source": "print(next(marcapaginas))",
   "outputs": [
    {
     "name": "stdout",
     "output_type": "stream",
     "text": [
      "página1\n"
     ]
    }
   ],
   "execution_count": 20
  },
  {
   "metadata": {
    "ExecuteTime": {
     "end_time": "2024-06-30T02:18:13.718039Z",
     "start_time": "2024-06-30T02:18:13.715017Z"
    }
   },
   "cell_type": "code",
   "source": "print(next(marcapaginas))",
   "outputs": [
    {
     "name": "stdout",
     "output_type": "stream",
     "text": [
      "página2\n"
     ]
    }
   ],
   "execution_count": 22
  },
  {
   "metadata": {
    "ExecuteTime": {
     "end_time": "2024-06-30T02:18:25.675608Z",
     "start_time": "2024-06-30T02:18:25.672739Z"
    }
   },
   "cell_type": "code",
   "source": "print(next(marcapaginas))",
   "outputs": [
    {
     "name": "stdout",
     "output_type": "stream",
     "text": [
      "página3\n"
     ]
    }
   ],
   "execution_count": 23
  },
  {
   "metadata": {
    "ExecuteTime": {
     "end_time": "2024-06-30T02:18:42.015788Z",
     "start_time": "2024-06-30T02:18:42.011522Z"
    }
   },
   "cell_type": "code",
   "source": "print(next(marcapaginas))",
   "outputs": [
    {
     "name": "stdout",
     "output_type": "stream",
     "text": [
      "página4\n"
     ]
    }
   ],
   "execution_count": 25
  },
  {
   "metadata": {
    "ExecuteTime": {
     "end_time": "2024-06-30T02:18:59.304728Z",
     "start_time": "2024-06-30T02:18:59.291272Z"
    }
   },
   "cell_type": "code",
   "source": "print(next(marcapaginas))",
   "outputs": [
    {
     "ename": "StopIteration",
     "evalue": "",
     "output_type": "error",
     "traceback": [
      "\u001B[1;31m---------------------------------------------------------------------------\u001B[0m",
      "\u001B[1;31mStopIteration\u001B[0m                             Traceback (most recent call last)",
      "Cell \u001B[1;32mIn[26], line 1\u001B[0m\n\u001B[1;32m----> 1\u001B[0m \u001B[38;5;28mprint\u001B[39m(\u001B[38;5;28;43mnext\u001B[39;49m\u001B[43m(\u001B[49m\u001B[43mmarcapaginas\u001B[49m\u001B[43m)\u001B[49m)\n",
      "\u001B[1;31mStopIteration\u001B[0m: "
     ]
    }
   ],
   "execution_count": 26
  },
  {
   "metadata": {
    "ExecuteTime": {
     "end_time": "2024-06-30T02:22:43.871792Z",
     "start_time": "2024-06-30T02:22:43.864956Z"
    }
   },
   "cell_type": "code",
   "source": [
    "lista_1 = [1, 2, 3]\n",
    "lista_2 = ['a', 'b', 'c']\n",
    "combinacion = zip(lista_1, lista_2)"
   ],
   "outputs": [],
   "execution_count": 27
  },
  {
   "metadata": {
    "ExecuteTime": {
     "end_time": "2024-06-30T02:22:53.065757Z",
     "start_time": "2024-06-30T02:22:53.061247Z"
    }
   },
   "cell_type": "code",
   "source": "print(combinacion)",
   "outputs": [
    {
     "name": "stdout",
     "output_type": "stream",
     "text": [
      "<zip object at 0x0000016286A13480>\n"
     ]
    }
   ],
   "execution_count": 28
  },
  {
   "metadata": {
    "ExecuteTime": {
     "end_time": "2024-06-30T02:24:46.553784Z",
     "start_time": "2024-06-30T02:24:46.543479Z"
    }
   },
   "cell_type": "code",
   "source": [
    "numeros = [1, 2, 3, 4, 5, 6]\n",
    "pares_por_dos = [x * 2 for x in numeros if x % 2 == 0]\n",
    "print(pares_por_dos)"
   ],
   "outputs": [
    {
     "name": "stdout",
     "output_type": "stream",
     "text": [
      "[4, 8, 12]\n"
     ]
    }
   ],
   "execution_count": 29
  },
  {
   "metadata": {
    "ExecuteTime": {
     "end_time": "2024-06-30T02:25:35.132030Z",
     "start_time": "2024-06-30T02:25:35.128151Z"
    }
   },
   "cell_type": "code",
   "source": [
    "frase = \"El perro de san roque no tiene rabo\"\n",
    "erres = [i for i in frase if i == 'r']\n",
    "print(erres)"
   ],
   "outputs": [
    {
     "name": "stdout",
     "output_type": "stream",
     "text": [
      "['r', 'r', 'r', 'r']\n"
     ]
    }
   ],
   "execution_count": 30
  },
  {
   "attachments": {},
   "cell_type": "markdown",
   "metadata": {},
   "source": [
    "1) A partir de una lista vacía, utilizar un ciclo while para cargar allí números negativos del -15 al -1"
   ]
  },
  {
   "metadata": {
    "ExecuteTime": {
     "end_time": "2024-06-29T19:47:58.212820Z",
     "start_time": "2024-06-29T19:47:58.196165Z"
    }
   },
   "cell_type": "code",
   "source": [
    "# Crear una lista vacía\n",
    "numeros_negativos = []\n",
    "\n",
    "# Inicializar la variable con el valor -15\n",
    "numero = -15\n",
    "\n",
    "# Utilizar un ciclo while para agregar los números negativos a la lista\n",
    "while numero <= -1:\n",
    "    numeros_negativos.append(numero)\n",
    "    numero += 1  # Incrementar el número en 1\n",
    "\n",
    "# Imprimir la lista resultante\n",
    "print(numeros_negativos)\n"
   ],
   "outputs": [
    {
     "name": "stdout",
     "output_type": "stream",
     "text": [
      "[-15, -14, -13, -12, -11, -10, -9, -8, -7, -6, -5, -4, -3, -2, -1]\n"
     ]
    }
   ],
   "execution_count": 15
  },
  {
   "attachments": {},
   "cell_type": "markdown",
   "metadata": {},
   "source": "2) ¿Con un ciclo while sería posible recorrer la lista para imprimir sólo los números pares?"
  },
  {
   "metadata": {
    "ExecuteTime": {
     "end_time": "2024-06-29T19:52:17.661959Z",
     "start_time": "2024-06-29T19:52:17.655308Z"
    }
   },
   "cell_type": "code",
   "source": [
    "numeros_negativos = [-15, -14, -13, -12, -11, -10, -9, -8, -7, -6, -5, -4, -3, -2, -1]\n",
    "\n",
    "indice = 0\n",
    "\n",
    "while indice < len(numeros_negativos):\n",
    "    if numeros_negativos[indice] % 2 == 0:\n",
    "        print(numeros_negativos[indice])\n",
    "    indice += 1\n",
    "    "
   ],
   "outputs": [
    {
     "name": "stdout",
     "output_type": "stream",
     "text": [
      "-14\n",
      "-12\n",
      "-10\n",
      "-8\n",
      "-6\n",
      "-4\n",
      "-2\n"
     ]
    }
   ],
   "execution_count": 17
  },
  {
   "attachments": {},
   "cell_type": "markdown",
   "metadata": {},
   "source": [
    "3) Resolver el punto anterior sin utilizar un ciclo while"
   ]
  },
  {
   "metadata": {
    "ExecuteTime": {
     "end_time": "2024-06-30T02:37:21.849259Z",
     "start_time": "2024-06-30T02:37:21.838796Z"
    }
   },
   "cell_type": "code",
   "source": [
    "# Lista de números negativos del -15 al -1\n",
    "numeros_negativos = [-15, -14, -13, -12, -11, -10, -9, -8, -7, -6, -5, -4, -3, -2, -1]\n",
    "\n",
    "# Utilizar un ciclo for para recorrer la lista\n",
    "for numero in numeros_negativos:\n",
    "    # Verificar si el número es par\n",
    "    if numero % 2 == 0:\n",
    "        print(numero)\n"
   ],
   "outputs": [
    {
     "name": "stdout",
     "output_type": "stream",
     "text": [
      "-14\n",
      "-12\n",
      "-10\n",
      "-8\n",
      "-6\n",
      "-4\n",
      "-2\n"
     ]
    }
   ],
   "execution_count": 32
  },
  {
   "attachments": {},
   "cell_type": "markdown",
   "metadata": {},
   "source": [
    "4) Utilizar el iterable para recorrer sólo los primeros 3 elementos"
   ]
  },
  {
   "metadata": {
    "ExecuteTime": {
     "end_time": "2024-06-30T02:39:15.978995Z",
     "start_time": "2024-06-30T02:39:15.972461Z"
    }
   },
   "cell_type": "code",
   "source": [
    "numeros_negativos = [-15, -14, -13, -12, -11, -10, -9, -8, -7, -6, -5, -4, -3, -2, -1]\n",
    "\n",
    "for i in range(3):\n",
    "    print(numeros_negativos[i])"
   ],
   "outputs": [
    {
     "name": "stdout",
     "output_type": "stream",
     "text": [
      "-15\n",
      "-14\n",
      "-13\n"
     ]
    }
   ],
   "execution_count": 33
  },
  {
   "attachments": {},
   "cell_type": "markdown",
   "metadata": {},
   "source": [
    "5) Utilizar la función **enumerate** para obtener dentro del iterable, tambien el índice al que corresponde el elemento"
   ]
  },
  {
   "metadata": {
    "ExecuteTime": {
     "end_time": "2024-06-30T02:40:31.825364Z",
     "start_time": "2024-06-30T02:40:31.819297Z"
    }
   },
   "cell_type": "code",
   "source": [
    "numeros_negativos = [-15, -14, -13, -12, -11, -10, -9, -8, -7, -6, -5, -4, -3, -2, -1]\n",
    "\n",
    "for i, numero in enumerate(numeros_negativos[:3]):\n",
    "    print(f\"Índice: {i}, Número: {numero}\")"
   ],
   "outputs": [
    {
     "name": "stdout",
     "output_type": "stream",
     "text": [
      "Índice: 0, Número: -15\n",
      "Índice: 1, Número: -14\n",
      "Índice: 2, Número: -13\n"
     ]
    }
   ],
   "execution_count": 36
  },
  {
   "attachments": {},
   "cell_type": "markdown",
   "metadata": {},
   "source": [
    "6) Dada la siguiente lista de números enteros entre 1 y 20, crear un ciclo donde se completen los valores faltantes: lista = [1,2,5,7,8,10,13,14,15,17,20]"
   ]
  },
  {
   "metadata": {
    "ExecuteTime": {
     "end_time": "2024-06-30T02:43:31.601648Z",
     "start_time": "2024-06-30T02:43:31.587115Z"
    }
   },
   "cell_type": "code",
   "source": [
    "# Lista inicial\n",
    "lista = [1, 2, 5, 7, 8, 10, 13, 14, 15, 17, 20]\n",
    "\n",
    "# Crear un conjunto con todos los números del 1 al 20\n",
    "todos_los_numeros = set(range(1, 21))\n",
    "\n",
    "# Crear un conjunto con los números de la lista\n",
    "numeros_en_lista = set(lista)\n",
    "\n",
    "# Encontrar los números que faltan\n",
    "numeros_faltantes = todos_los_numeros - numeros_en_lista\n",
    "\n",
    "# Agregar los números faltantes a la lista original\n",
    "lista_completa = lista + list(numeros_faltantes)\n",
    "\n",
    "# Ordenar la lista completa\n",
    "lista_completa.sort()\n",
    "\n",
    "# Mostrar la lista completa\n",
    "print(lista_completa)\n"
   ],
   "outputs": [
    {
     "name": "stdout",
     "output_type": "stream",
     "text": [
      "[1, 2, 3, 4, 5, 6, 7, 8, 9, 10, 11, 12, 13, 14, 15, 16, 17, 18, 19, 20]\n"
     ]
    }
   ],
   "execution_count": 37
  },
  {
   "metadata": {
    "ExecuteTime": {
     "end_time": "2024-06-30T02:44:17.796031Z",
     "start_time": "2024-06-30T02:44:17.790352Z"
    }
   },
   "cell_type": "code",
   "source": "print(numeros_en_lista)",
   "outputs": [
    {
     "name": "stdout",
     "output_type": "stream",
     "text": [
      "{1, 2, 5, 7, 8, 10, 13, 14, 15, 17, 20}\n"
     ]
    }
   ],
   "execution_count": 38
  },
  {
   "attachments": {},
   "cell_type": "markdown",
   "metadata": {},
   "source": [
    "7) La sucesión de Fibonacci es un listado de números que sigue la fórmula: <br>\n",
    "n<sub>0</sub> = 0<br>\n",
    "n<sub>1</sub> = 1<br>\n",
    "n<sub>i</sub> = n<sub>i-1</sub> + n<sub>i-2</sub><br>\n",
    "Crear una lista con los primeros treinta números de la sucesión.<br>"
   ]
  },
  {
   "metadata": {
    "ExecuteTime": {
     "end_time": "2024-06-30T02:58:01.521262Z",
     "start_time": "2024-06-30T02:58:01.491712Z"
    }
   },
   "cell_type": "code",
   "source": [
    "# Crear una lista con los primeros treinta números de la sucesión de Fibonacci\n",
    "def fibonacci_sequence(n):\n",
    "    fib_sequence = [0, 1]\n",
    "    while len(fib_sequence) < n:\n",
    "        fib_sequence.append(fib_sequence[-1] + fib_sequence[-2])\n",
    "    return fib_sequence\n",
    "\n",
    "# Obtener los primeros 30 números de la sucesión de Fibonacci\n",
    "fibonacci_30 = fibonacci_sequence(30)\n",
    "fibonacci_30\n"
   ],
   "outputs": [
    {
     "data": {
      "text/plain": [
       "[0,\n",
       " 1,\n",
       " 1,\n",
       " 2,\n",
       " 3,\n",
       " 5,\n",
       " 8,\n",
       " 13,\n",
       " 21,\n",
       " 34,\n",
       " 55,\n",
       " 89,\n",
       " 144,\n",
       " 233,\n",
       " 377,\n",
       " 610,\n",
       " 987,\n",
       " 1597,\n",
       " 2584,\n",
       " 4181,\n",
       " 6765,\n",
       " 10946,\n",
       " 17711,\n",
       " 28657,\n",
       " 46368,\n",
       " 75025,\n",
       " 121393,\n",
       " 196418,\n",
       " 317811,\n",
       " 514229]"
      ]
     },
     "execution_count": 41,
     "metadata": {},
     "output_type": "execute_result"
    }
   ],
   "execution_count": 41
  },
  {
   "attachments": {},
   "cell_type": "markdown",
   "metadata": {},
   "source": [
    "8) Realizar la suma de todos elementos de la lista del punto anterior"
   ]
  },
  {
   "metadata": {
    "ExecuteTime": {
     "end_time": "2024-06-30T02:58:04.369357Z",
     "start_time": "2024-06-30T02:58:04.363855Z"
    }
   },
   "cell_type": "code",
   "source": [
    "# Sumar todos los elementos de la lista fibonacci_30\n",
    "suma_fibonacci_30 = sum(fibonacci_30)\n",
    "suma_fibonacci_30\n"
   ],
   "outputs": [
    {
     "data": {
      "text/plain": [
       "1346268"
      ]
     },
     "execution_count": 42,
     "metadata": {},
     "output_type": "execute_result"
    }
   ],
   "execution_count": 42
  },
  {
   "attachments": {},
   "cell_type": "markdown",
   "metadata": {},
   "source": [
    "9) La proporción aurea se expresa con una proporción matemática que nace el número irracional Phi= 1,618… que los griegos llamaron número áureo. El cuál se puede aproximar con la sucesión de Fibonacci. Con la lista del ejercicio anterior, imprimir el cociente de los últimos 5 pares de dos números contiguos:<br>\n",
    "Donde i es la cantidad total de elementos<br>\n",
    "n<sub>i-1</sub> / n<sub>i</sub><br>\n",
    "n<sub>i-2</sub> / n<sub>i-1</sub><br>\n",
    "n<sub>i-3</sub> / n<sub>i-2</sub><br>\n",
    "n<sub>i-4</sub> / n<sub>i-3</sub><br>\n",
    "n<sub>i-5</sub> / n<sub>i-4</sub><br>\n",
    " "
   ]
  },
  {
   "metadata": {
    "ExecuteTime": {
     "end_time": "2024-06-30T02:58:07.409579Z",
     "start_time": "2024-06-30T02:58:07.405517Z"
    }
   },
   "cell_type": "code",
   "source": [
    "# Calcular el cociente de los últimos 5 pares de dos números contiguos en la lista fibonacci_30\n",
    "cocientes = []\n",
    "for i in range(1, 6):\n",
    "    cociente = fibonacci_30[-i] / fibonacci_30[-(i+1)]\n",
    "    cocientes.append(cociente)\n",
    "\n",
    "cocientes\n"
   ],
   "outputs": [
    {
     "data": {
      "text/plain": [
       "[1.6180339887543225,\n",
       " 1.618033988738303,\n",
       " 1.6180339887802426,\n",
       " 1.6180339886704431,\n",
       " 1.618033988957902]"
      ]
     },
     "execution_count": 43,
     "metadata": {},
     "output_type": "execute_result"
    }
   ],
   "execution_count": 43
  },
  {
   "attachments": {},
   "cell_type": "markdown",
   "metadata": {},
   "source": [
    "10) A partir de la variable cadena ya dada, mostrar en qué posiciones aparece la letra \"n\"<br>\n",
    "cadena = 'Hola Mundo. Esto es una practica del lenguaje de programación Python'"
   ]
  },
  {
   "metadata": {
    "ExecuteTime": {
     "end_time": "2024-06-30T03:02:39.314018Z",
     "start_time": "2024-06-30T03:02:39.305435Z"
    }
   },
   "cell_type": "code",
   "source": [
    "cadena = 'Hola Mundo. Esto es una practica del lenguaje de programación Python'\n",
    "\n",
    "# Lista para almacenar las posiciones\n",
    "posiciones = []\n",
    "\n",
    "# Recorrer la cadena y almacenar las posiciones de las letras 'n'\n",
    "for i, letra in enumerate(cadena):\n",
    "    if letra == 'n':\n",
    "        posiciones.append(i)\n",
    "\n",
    "print(\"Las posiciones de la letra 'n' son:\", posiciones)\n"
   ],
   "outputs": [
    {
     "name": "stdout",
     "output_type": "stream",
     "text": [
      "Las posiciones de la letra 'n' son: [7, 21, 39, 60, 67]\n"
     ]
    }
   ],
   "execution_count": 48
  },
  {
   "metadata": {
    "ExecuteTime": {
     "end_time": "2024-06-30T03:02:32.819816Z",
     "start_time": "2024-06-30T03:02:32.815481Z"
    }
   },
   "cell_type": "code",
   "source": [
    "cadena = 'Hola Mundo. Esto es una práctica del lenguaje de programación Python'\n",
    "for c, letra in enumerate(cadena):\n",
    "    if letra == 'n':\n",
    "        print(c)"
   ],
   "outputs": [
    {
     "name": "stdout",
     "output_type": "stream",
     "text": [
      "7\n",
      "21\n",
      "39\n",
      "60\n",
      "67\n"
     ]
    }
   ],
   "execution_count": 47
  },
  {
   "attachments": {},
   "cell_type": "markdown",
   "metadata": {},
   "source": [
    "11) Crear un diccionario e imprimir sus claves utilizando un iterador"
   ]
  },
  {
   "metadata": {
    "ExecuteTime": {
     "end_time": "2024-06-30T03:03:23.766460Z",
     "start_time": "2024-06-30T03:03:23.758472Z"
    }
   },
   "cell_type": "code",
   "source": [
    "# Crear un diccionario\n",
    "mi_diccionario = {\n",
    "    'nombre': 'Sergio',\n",
    "    'edad': 30,\n",
    "    'profesion': 'Psicólogo',\n",
    "    'pasatiempo': 'Tenis'\n",
    "}\n",
    "\n",
    "# Crear un iterador para las claves del diccionario\n",
    "iterador_claves = iter(mi_diccionario.keys())\n",
    "\n",
    "# Imprimir las claves utilizando el iterador\n",
    "for clave in iterador_claves:\n",
    "    print(clave)\n"
   ],
   "outputs": [
    {
     "name": "stdout",
     "output_type": "stream",
     "text": [
      "nombre\n",
      "edad\n",
      "profesion\n",
      "pasatiempo\n"
     ]
    }
   ],
   "execution_count": 49
  },
  {
   "attachments": {},
   "cell_type": "markdown",
   "metadata": {},
   "source": [
    "12) Convertir en una lista la variable \"cadena\" del punto 10 y luego recorrerla con un iterador "
   ]
  },
  {
   "metadata": {
    "ExecuteTime": {
     "end_time": "2024-06-30T03:04:21.027056Z",
     "start_time": "2024-06-30T03:04:21.021544Z"
    }
   },
   "cell_type": "code",
   "source": [
    "cadena = 'Hola Mundo. Esto es una práctica del lenguaje de programación Python'\n",
    "cadena_lista = list(cadena)\n",
    "print(cadena_lista)"
   ],
   "outputs": [
    {
     "name": "stdout",
     "output_type": "stream",
     "text": [
      "['H', 'o', 'l', 'a', ' ', 'M', 'u', 'n', 'd', 'o', '.', ' ', 'E', 's', 't', 'o', ' ', 'e', 's', ' ', 'u', 'n', 'a', ' ', 'p', 'r', 'á', 'c', 't', 'i', 'c', 'a', ' ', 'd', 'e', 'l', ' ', 'l', 'e', 'n', 'g', 'u', 'a', 'j', 'e', ' ', 'd', 'e', ' ', 'p', 'r', 'o', 'g', 'r', 'a', 'm', 'a', 'c', 'i', 'ó', 'n', ' ', 'P', 'y', 't', 'h', 'o', 'n']\n"
     ]
    }
   ],
   "execution_count": 50
  },
  {
   "metadata": {
    "ExecuteTime": {
     "end_time": "2024-06-30T03:04:39.582624Z",
     "start_time": "2024-06-30T03:04:39.578715Z"
    }
   },
   "cell_type": "code",
   "source": [
    "for elemento in cadena_lista:\n",
    "    print(elemento)"
   ],
   "outputs": [
    {
     "name": "stdout",
     "output_type": "stream",
     "text": [
      "H\n",
      "o\n",
      "l\n",
      "a\n",
      " \n",
      "M\n",
      "u\n",
      "n\n",
      "d\n",
      "o\n",
      ".\n",
      " \n",
      "E\n",
      "s\n",
      "t\n",
      "o\n",
      " \n",
      "e\n",
      "s\n",
      " \n",
      "u\n",
      "n\n",
      "a\n",
      " \n",
      "p\n",
      "r\n",
      "á\n",
      "c\n",
      "t\n",
      "i\n",
      "c\n",
      "a\n",
      " \n",
      "d\n",
      "e\n",
      "l\n",
      " \n",
      "l\n",
      "e\n",
      "n\n",
      "g\n",
      "u\n",
      "a\n",
      "j\n",
      "e\n",
      " \n",
      "d\n",
      "e\n",
      " \n",
      "p\n",
      "r\n",
      "o\n",
      "g\n",
      "r\n",
      "a\n",
      "m\n",
      "a\n",
      "c\n",
      "i\n",
      "ó\n",
      "n\n",
      " \n",
      "P\n",
      "y\n",
      "t\n",
      "h\n",
      "o\n",
      "n\n"
     ]
    }
   ],
   "execution_count": 51
  },
  {
   "attachments": {},
   "cell_type": "markdown",
   "metadata": {},
   "source": [
    "13) Crear dos listas y unirlas en una tupla utilizando la función zip"
   ]
  },
  {
   "metadata": {
    "ExecuteTime": {
     "end_time": "2024-06-30T03:05:06.927978Z",
     "start_time": "2024-06-30T03:05:06.922336Z"
    }
   },
   "cell_type": "code",
   "source": [
    "# Crear dos listas\n",
    "lista1 = [1, 2, 3, 4, 5]\n",
    "lista2 = ['a', 'b', 'c', 'd', 'e']\n",
    "\n",
    "# Unir las listas en una tupla utilizando zip\n",
    "resultado = list(zip(lista1, lista2))\n",
    "\n",
    "# Imprimir el resultado\n",
    "print(resultado)\n"
   ],
   "outputs": [
    {
     "name": "stdout",
     "output_type": "stream",
     "text": [
      "[(1, 'a'), (2, 'b'), (3, 'c'), (4, 'd'), (5, 'e')]\n"
     ]
    }
   ],
   "execution_count": 52
  },
  {
   "attachments": {},
   "cell_type": "markdown",
   "metadata": {},
   "source": [
    "14) A partir de la siguiente lista de números, crear una nueva sólo si el número es divisible por 7<br>\n",
    "lis = [18,21,29,32,35,42,56,60,63,71,84,90,91,100]"
   ]
  },
  {
   "metadata": {
    "ExecuteTime": {
     "end_time": "2024-06-30T03:06:56.529655Z",
     "start_time": "2024-06-30T03:06:56.525311Z"
    }
   },
   "cell_type": "code",
   "source": [
    "lis = [18,21,29,32,35,42,56,60,63,71,84,90,91,100]\n",
    "lis_divisible = []\n",
    "\n",
    "for elemento in lis:\n",
    "    if elemento % 7 == 0:\n",
    "        lis_divisible.append(elemento)\n",
    "\n",
    "print(lis_divisible)"
   ],
   "outputs": [
    {
     "name": "stdout",
     "output_type": "stream",
     "text": [
      "[21, 35, 42, 56, 63, 84, 91]\n"
     ]
    }
   ],
   "execution_count": 54
  },
  {
   "metadata": {
    "ExecuteTime": {
     "end_time": "2024-06-30T03:07:46.002223Z",
     "start_time": "2024-06-30T03:07:45.997561Z"
    }
   },
   "cell_type": "code",
   "source": [
    "# Lista original\n",
    "lis = [18, 21, 29, 32, 35, 42, 56, 60, 63, 71, 84, 90, 91, 100]\n",
    "\n",
    "# Crear una nueva lista con los números que son divisibles por 7\n",
    "nueva_lista = [numero for numero in lis if numero % 7 == 0]\n",
    "\n",
    "# Imprimir la nueva lista\n",
    "print(nueva_lista)\n"
   ],
   "outputs": [
    {
     "name": "stdout",
     "output_type": "stream",
     "text": [
      "[21, 35, 42, 56, 63, 84, 91]\n"
     ]
    }
   ],
   "execution_count": 56
  },
  {
   "attachments": {},
   "cell_type": "markdown",
   "metadata": {},
   "source": [
    "15) A partir de la lista de a continuación, contar la cantidad total de elementos que contiene, teniendo en cuenta que un elemento de la lista podría ser otra lista:<br>\n",
    "lis = [[1,2,3,4],'rojo','verde',[True,False,False],['uno','dos','tres']]"
   ]
  },
  {
   "metadata": {
    "ExecuteTime": {
     "end_time": "2024-06-30T03:14:59.887949Z",
     "start_time": "2024-06-30T03:14:59.874805Z"
    }
   },
   "cell_type": "code",
   "source": [
    "def contar_elementos(lista):\n",
    "    # Inicializa el contador de elementos en 0\n",
    "    total = 0\n",
    "    \n",
    "    # Recorre cada elemento en la lista proporcionada\n",
    "    for elemento in lista:\n",
    "        # Si el elemento es una lista, llama recursivamente a contar_elementos\n",
    "        # para contar los elementos dentro de esa lista anidada\n",
    "        if isinstance(elemento, list):\n",
    "            total += contar_elementos(elemento)\n",
    "        else:\n",
    "            # Si el elemento no es una lista, incrementa el contador en 1\n",
    "            total += 1\n",
    "    \n",
    "    # Retorna el total de elementos contados\n",
    "    return total\n",
    "\n",
    "# Definición de la lista que contiene varios tipos de elementos, incluyendo listas anidadas\n",
    "lis = [[1, 2, 3, 4], 'rojo', 'verde', [True, False, False], ['uno', 'dos', 'tres']]\n",
    "\n",
    "# Llama a la función contar_elementos con la lista definida\n",
    "total_elementos = contar_elementos(lis)\n",
    "\n",
    "# Imprime el total de elementos contados en la lista, incluyendo los elementos dentro de listas anidadas\n",
    "print(total_elementos)  # Debería imprimir 12\n",
    "\n",
    "\n"
   ],
   "outputs": [
    {
     "name": "stdout",
     "output_type": "stream",
     "text": [
      "12\n"
     ]
    }
   ],
   "execution_count": 59
  },
  {
   "attachments": {},
   "cell_type": "markdown",
   "metadata": {},
   "source": [
    "16) Tomar la lista del punto anterior y convertir cada elemento en una lista si no lo es"
   ]
  },
  {
   "metadata": {
    "ExecuteTime": {
     "end_time": "2024-06-30T03:19:34.084570Z",
     "start_time": "2024-06-30T03:19:34.074104Z"
    }
   },
   "cell_type": "code",
   "source": [
    "# Lista original\n",
    "lis = [[1, 2, 3, 4], 'rojo', 'verde', [True, False, False], ['uno', 'dos', 'tres']]\n",
    "\n",
    "# Función para convertir elementos en listas si no lo son\n",
    "def convertir_a_lista(elemento):\n",
    "    if not isinstance(elemento, list):\n",
    "        return [elemento]\n",
    "    return elemento\n",
    "\n",
    "# Aplicamos la función a cada elemento de la lista original\n",
    "lis_convertida = [convertir_a_lista(elemento) for elemento in lis]\n",
    "\n",
    "# Resultado\n",
    "print(lis_convertida)\n"
   ],
   "outputs": [
    {
     "name": "stdout",
     "output_type": "stream",
     "text": [
      "[[1, 2, 3, 4], ['rojo'], ['verde'], [True, False, False], ['uno', 'dos', 'tres']]\n"
     ]
    }
   ],
   "execution_count": 60
  },
  {
   "metadata": {},
   "cell_type": "code",
   "outputs": [],
   "execution_count": null,
   "source": ""
  }
 ],
 "metadata": {
  "interpreter": {
   "hash": "c85384e4cb51c8b72350f3a8712cc8351fdc3955e32a27f9b60c6242ab125f01"
  },
  "kernelspec": {
   "display_name": "Python 3 (ipykernel)",
   "language": "python",
   "name": "python3"
  },
  "language_info": {
   "codemirror_mode": {
    "name": "ipython",
    "version": 3
   },
   "file_extension": ".py",
   "mimetype": "text/x-python",
   "name": "python",
   "nbconvert_exporter": "python",
   "pygments_lexer": "ipython3",
   "version": "3.9.7"
  }
 },
 "nbformat": 4,
 "nbformat_minor": 4
}
