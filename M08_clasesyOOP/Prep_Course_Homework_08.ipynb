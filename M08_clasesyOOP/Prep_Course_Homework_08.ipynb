{
 "cells": [
  {
   "attachments": {},
   "cell_type": "markdown",
   "metadata": {},
   "source": [
    "## Clases y Programación Orientada a Objetos"
   ]
  },
  {
   "metadata": {},
   "cell_type": "markdown",
   "source": "Pruebas"
  },
  {
   "metadata": {
    "ExecuteTime": {
     "end_time": "2024-07-02T16:27:12.718312Z",
     "start_time": "2024-07-02T16:27:12.712555Z"
    }
   },
   "cell_type": "code",
   "source": [
    "class Gato:\n",
    "    def __init__(self, nombre, edad, raza, sexo):\n",
    "        self.nombre = nombre\n",
    "        self.edad = edad\n",
    "        self.raza = raza\n",
    "        self.sexo = sexo\n",
    "   #Creamos el método presentar\n",
    "    def presentar(self):\n",
    "        print(\"Mi Nombre: \", self.nombre)\n",
    "        print(\"Edad: \", self.edad,\"años\")\n",
    "        print(\"Raza: \", self.raza)\n",
    "        print(\"Sexo: \", self.sexo)"
   ],
   "outputs": [],
   "execution_count": 8
  },
  {
   "metadata": {
    "ExecuteTime": {
     "end_time": "2024-07-02T16:28:34.975945Z",
     "start_time": "2024-07-02T16:28:34.961831Z"
    }
   },
   "cell_type": "code",
   "source": [
    "gato1 = Gato('Chato', '3', 'Callejero', 'Macho')\n",
    "gato1.presentar()"
   ],
   "outputs": [
    {
     "name": "stdout",
     "output_type": "stream",
     "text": [
      "Mi Nombre:  Chato\n",
      "Edad:  3 años\n",
      "Raza:  Callejero\n",
      "Sexo:  Macho\n"
     ]
    }
   ],
   "execution_count": 10
  },
  {
   "metadata": {
    "ExecuteTime": {
     "end_time": "2024-07-02T16:53:19.950501Z",
     "start_time": "2024-07-02T16:53:19.945819Z"
    }
   },
   "cell_type": "code",
   "source": [
    "gato2= Gato(\"Nina\",3,\"Mezcla\",\"hembra\") \n",
    "gato2.presentar()"
   ],
   "outputs": [
    {
     "name": "stdout",
     "output_type": "stream",
     "text": [
      "Mi Nombre:  Nina\n",
      "Edad:  3 años\n",
      "Raza:  Mezcla\n",
      "Sexo:  hembra\n"
     ]
    }
   ],
   "execution_count": 13
  },
  {
   "metadata": {
    "ExecuteTime": {
     "end_time": "2024-07-02T16:52:33.826612Z",
     "start_time": "2024-07-02T16:52:33.808914Z"
    }
   },
   "cell_type": "code",
   "source": [
    "class CuentaBancaria:\n",
    "    def __init__(self, saldo):\n",
    "        self.__saldo = saldo  # el atributo saldo está encapsulado con __\n",
    "\n",
    "    def depositar(self, monto):\n",
    "        self.__saldo += monto\n",
    "\n",
    "    def retirar(self, monto):\n",
    "        if self.__saldo >= monto:\n",
    "            self.__saldo -= monto\n",
    "        else:\n",
    "            print(\"Saldo insuficiente\")\n",
    "\n",
    "    def obtener_saldo(self):\n",
    "        return self.__saldo"
   ],
   "outputs": [],
   "execution_count": 11
  },
  {
   "metadata": {
    "ExecuteTime": {
     "end_time": "2024-07-02T16:53:53.171340Z",
     "start_time": "2024-07-02T16:53:53.162447Z"
    }
   },
   "cell_type": "code",
   "source": [
    "class Animal:\n",
    "    def __init__(self, especie, edad, color):\n",
    "        self.especie = especie\n",
    "        self.edad = edad\n",
    "        self.color = color\n",
    "    def mePresento(self):\n",
    "        print('Hola, soy ', self.especie, ', de color', self.color, ' y tengo ', self.edad, ' años')\n",
    "    def cumplirAños(self):\n",
    "        self.edad = self.edad + 1"
   ],
   "outputs": [],
   "execution_count": 14
  },
  {
   "metadata": {
    "ExecuteTime": {
     "end_time": "2024-07-02T16:58:54.427739Z",
     "start_time": "2024-07-02T16:58:54.418465Z"
    }
   },
   "cell_type": "code",
   "source": [
    "a1 = Animal('Ratón', 2, 'Marron')\n",
    "a2 = Animal('Liebre', 3, 'Gris')"
   ],
   "outputs": [],
   "execution_count": 15
  },
  {
   "metadata": {
    "ExecuteTime": {
     "end_time": "2024-07-02T16:59:47.903740Z",
     "start_time": "2024-07-02T16:59:47.897086Z"
    }
   },
   "cell_type": "code",
   "source": [
    "print(a1.especie, a1.edad, a1.color)\n",
    "print(a2.especie, a2.edad, a2.color)"
   ],
   "outputs": [
    {
     "name": "stdout",
     "output_type": "stream",
     "text": [
      "Ratón 2 Marron\n",
      "Liebre 3 Gris\n"
     ]
    }
   ],
   "execution_count": 16
  },
  {
   "metadata": {
    "ExecuteTime": {
     "end_time": "2024-07-02T17:00:40.545371Z",
     "start_time": "2024-07-02T17:00:40.542163Z"
    }
   },
   "cell_type": "code",
   "source": "a1.mePresento()",
   "outputs": [
    {
     "name": "stdout",
     "output_type": "stream",
     "text": [
      "Hola, soy  Ratón , de color Marron  y tengo  2  años\n"
     ]
    }
   ],
   "execution_count": 17
  },
  {
   "metadata": {
    "ExecuteTime": {
     "end_time": "2024-07-02T17:00:50.930688Z",
     "start_time": "2024-07-02T17:00:50.925767Z"
    }
   },
   "cell_type": "code",
   "source": "a2.mePresento()",
   "outputs": [
    {
     "name": "stdout",
     "output_type": "stream",
     "text": [
      "Hola, soy  Liebre , de color Gris  y tengo  3  años\n"
     ]
    }
   ],
   "execution_count": 18
  },
  {
   "metadata": {
    "ExecuteTime": {
     "end_time": "2024-07-02T17:01:44.041045Z",
     "start_time": "2024-07-02T17:01:44.026881Z"
    }
   },
   "cell_type": "code",
   "source": [
    "a1.cumplirAños()\n",
    "a1.cumplirAños()"
   ],
   "outputs": [],
   "execution_count": 19
  },
  {
   "metadata": {
    "ExecuteTime": {
     "end_time": "2024-07-02T17:03:16.566011Z",
     "start_time": "2024-07-02T17:03:16.558373Z"
    }
   },
   "cell_type": "code",
   "source": "a2.cumplirAños()",
   "outputs": [],
   "execution_count": 22
  },
  {
   "metadata": {
    "ExecuteTime": {
     "end_time": "2024-07-02T17:03:17.780462Z",
     "start_time": "2024-07-02T17:03:17.767130Z"
    }
   },
   "cell_type": "code",
   "source": "a1.mePresento()",
   "outputs": [
    {
     "name": "stdout",
     "output_type": "stream",
     "text": [
      "Hola, soy  Ratón , de color Marron  y tengo  4  años\n"
     ]
    }
   ],
   "execution_count": 23
  },
  {
   "metadata": {
    "ExecuteTime": {
     "end_time": "2024-07-02T17:03:19.015594Z",
     "start_time": "2024-07-02T17:03:19.005158Z"
    }
   },
   "cell_type": "code",
   "source": "a2.mePresento()",
   "outputs": [
    {
     "name": "stdout",
     "output_type": "stream",
     "text": [
      "Hola, soy  Liebre , de color Gris  y tengo  4  años\n"
     ]
    }
   ],
   "execution_count": 24
  },
  {
   "metadata": {
    "ExecuteTime": {
     "end_time": "2024-07-02T17:19:13.577244Z",
     "start_time": "2024-07-02T17:19:13.566612Z"
    }
   },
   "cell_type": "code",
   "source": [
    "class Animal:\n",
    "    def __init__(self, especie, edad):\n",
    "        self.especie = especie\n",
    "        self.edad = edad\n",
    "\n",
    "    # Método genérico pero con implementación particular\n",
    "    def hablar(self):\n",
    "        # Método vacío\n",
    "        pass\n",
    "\n",
    "    # Método genérico pero con implementación particular\n",
    "    def moverse(self):\n",
    "        # Método vacío\n",
    "        pass\n",
    "\n",
    "    # Método genérico con la misma implementación\n",
    "    def describeme(self):\n",
    "        print(\"Soy un Animal del tipo\", type(self).__name__)"
   ],
   "outputs": [],
   "execution_count": 25
  },
  {
   "metadata": {
    "ExecuteTime": {
     "end_time": "2024-07-02T17:19:40.064996Z",
     "start_time": "2024-07-02T17:19:40.060296Z"
    }
   },
   "cell_type": "code",
   "source": [
    "# Perro hereda de Animal\n",
    "class Perro(Animal):\n",
    "    pass"
   ],
   "outputs": [],
   "execution_count": 26
  },
  {
   "metadata": {
    "ExecuteTime": {
     "end_time": "2024-07-02T17:19:53.935761Z",
     "start_time": "2024-07-02T17:19:53.926776Z"
    }
   },
   "cell_type": "code",
   "source": [
    "mi_perro = Perro('mamífero', 10)\n",
    "mi_perro.describeme()"
   ],
   "outputs": [
    {
     "name": "stdout",
     "output_type": "stream",
     "text": [
      "Soy un Animal del tipo Perro\n"
     ]
    }
   ],
   "execution_count": 27
  },
  {
   "metadata": {
    "ExecuteTime": {
     "end_time": "2024-07-02T17:20:10.959613Z",
     "start_time": "2024-07-02T17:20:10.938727Z"
    }
   },
   "cell_type": "code",
   "source": [
    "class Perro(Animal):\n",
    "    def hablar(self):\n",
    "        print(\"Guau!\")\n",
    "    def moverse(self):\n",
    "        print(\"Caminando con 4 patas\")\n",
    "\n",
    "class Vaca(Animal):\n",
    "    def hablar(self):\n",
    "        print(\"Muuu!\")\n",
    "    def moverse(self):\n",
    "        print(\"Caminando con 4 patas\")\n",
    "\n",
    "class Abeja(Animal):\n",
    "    def hablar(self):\n",
    "        print(\"Bzzzz!\")\n",
    "    def moverse(self):\n",
    "        print(\"Volando\")\n",
    "\n",
    "    # Nuevo método\n",
    "    def picar(self):\n",
    "        print(\"Picar!\")"
   ],
   "outputs": [],
   "execution_count": 28
  },
  {
   "metadata": {
    "ExecuteTime": {
     "end_time": "2024-07-02T17:20:25.198181Z",
     "start_time": "2024-07-02T17:20:25.184219Z"
    }
   },
   "cell_type": "code",
   "source": [
    "class Animal:\n",
    "    def __init__(self, especie, edad):\n",
    "        self.especie = especie\n",
    "        self.edad = edad        \n",
    "    def hablar(self):\n",
    "        pass\n",
    "\n",
    "    def moverse(self):\n",
    "        pass\n",
    "\n",
    "    def describeme(self):\n",
    "        print(\"Soy un Animal del tipo\", type(self).__name__)"
   ],
   "outputs": [],
   "execution_count": 29
  },
  {
   "metadata": {
    "ExecuteTime": {
     "end_time": "2024-07-03T18:12:49.433728Z",
     "start_time": "2024-07-03T18:12:49.425726Z"
    }
   },
   "cell_type": "code",
   "source": [
    "import mimodulo\n",
    "\n",
    "print(mimodulo.suma(4,3))\n",
    "print(mimodulo.resta(4,3))"
   ],
   "outputs": [
    {
     "name": "stdout",
     "output_type": "stream",
     "text": [
      "7\n",
      "1\n"
     ]
    }
   ],
   "execution_count": 1
  },
  {
   "metadata": {
    "ExecuteTime": {
     "end_time": "2024-07-03T18:26:36.289930Z",
     "start_time": "2024-07-03T18:26:36.285638Z"
    }
   },
   "cell_type": "code",
   "source": [
    "import sys\n",
    "print(sys.path)"
   ],
   "outputs": [
    {
     "name": "stdout",
     "output_type": "stream",
     "text": [
      "['C:\\\\Program Files\\\\JetBrains\\\\PyCharm 2024.1.4\\\\plugins\\\\python\\\\helpers-pro\\\\jupyter_debug', 'C:\\\\Program Files\\\\JetBrains\\\\PyCharm 2024.1.4\\\\plugins\\\\python\\\\helpers\\\\pydev', 'C:\\\\Users\\\\spd12\\\\OneDrive\\\\Documentos\\\\GitHub\\\\Python-Prep', 'C:\\\\Users\\\\spd12\\\\AppData\\\\Local\\\\Programs\\\\Python\\\\Python312\\\\python312.zip', 'C:\\\\Users\\\\spd12\\\\AppData\\\\Local\\\\Programs\\\\Python\\\\Python312\\\\DLLs', 'C:\\\\Users\\\\spd12\\\\AppData\\\\Local\\\\Programs\\\\Python\\\\Python312\\\\Lib', 'C:\\\\Users\\\\spd12\\\\AppData\\\\Local\\\\Programs\\\\Python\\\\Python312', 'C:\\\\Users\\\\spd12\\\\.virtualenvs\\\\Python-Prep', '', 'C:\\\\Users\\\\spd12\\\\.virtualenvs\\\\Python-Prep\\\\Lib\\\\site-packages', 'C:\\\\Users\\\\spd12\\\\.virtualenvs\\\\Python-Prep\\\\Lib\\\\site-packages\\\\win32', 'C:\\\\Users\\\\spd12\\\\.virtualenvs\\\\Python-Prep\\\\Lib\\\\site-packages\\\\win32\\\\lib', 'C:\\\\Users\\\\spd12\\\\.virtualenvs\\\\Python-Prep\\\\Lib\\\\site-packages\\\\Pythonwin']\n"
     ]
    }
   ],
   "execution_count": 5
  },
  {
   "attachments": {},
   "cell_type": "markdown",
   "metadata": {},
   "source": [
    "1) Crear la clase vehículo que contenga los atributos:<br>\n",
    "Color<br>\n",
    "Si es moto, auto, camioneta ó camión<br>\n",
    "Cilindrada del motor"
   ]
  },
  {
   "metadata": {
    "ExecuteTime": {
     "end_time": "2024-07-03T18:46:36.302063Z",
     "start_time": "2024-07-03T18:46:36.281507Z"
    }
   },
   "cell_type": "code",
   "source": [
    "class Vehículo:\n",
    "    def __init__(self, color, tipo, cilindrada):\n",
    "        self.color = color\n",
    "        self.tipo = tipo\n",
    "        self.cilindrada = cilindrada\n",
    "\n",
    "    def __str__(self):\n",
    "        return f\"Vehículo: {self.tipo}, Color: {self.color}, Cilindrada: {self.cilindrada} cc\"\n",
    "\n",
    "# Ejemplo de uso\n",
    "vehículo1 = Vehículo(\"Rojo\", \"Auto\", 1600)\n",
    "print(vehículo1)\n",
    "\n",
    "vehículo2 = Vehículo(\"Azul\", \"Moto\", 250)\n",
    "print(vehículo2)\n"
   ],
   "outputs": [
    {
     "name": "stdout",
     "output_type": "stream",
     "text": [
      "Vehículo: Auto, Color: Rojo, Cilindrada: 1600 cc\n",
      "Vehículo: Moto, Color: Azul, Cilindrada: 250 cc\n"
     ]
    }
   ],
   "execution_count": 6
  },
  {
   "attachments": {},
   "cell_type": "markdown",
   "metadata": {},
   "source": [
    "2) A la clase Vehiculo creada en el punto 1, agregar los siguientes métodos:<br>\n",
    "Acelerar<br>\n",
    "Frenar<br>\n",
    "Doblar<br>"
   ]
  },
  {
   "metadata": {
    "ExecuteTime": {
     "end_time": "2024-07-03T18:47:14.840037Z",
     "start_time": "2024-07-03T18:47:14.828491Z"
    }
   },
   "cell_type": "code",
   "source": [
    "class Vehículo:\n",
    "    def __init__(self, color, tipo, cilindrada):\n",
    "        self.color = color\n",
    "        self.tipo = tipo\n",
    "        self.cilindrada = cilindrada\n",
    "\n",
    "    def acelerar(self):\n",
    "        print(f\"El {self.tipo} está acelerando.\")\n",
    "\n",
    "    def frenar(self):\n",
    "        print(f\"El {self.tipo} está frenando.\")\n",
    "\n",
    "    def doblar(self, direccion):\n",
    "        print(f\"El {self.tipo} está doblando hacia {direccion}.\")\n",
    "\n",
    "    def __str__(self):\n",
    "        return f\"Vehículo: {self.tipo}, Color: {self.color}, Cilindrada: {self.cilindrada} cc\"\n",
    "\n",
    "# Ejemplo de uso\n",
    "vehículo1 = Vehículo(\"Rojo\", \"Auto\", 1600)\n",
    "print(vehículo1)\n",
    "vehículo1.acelerar()\n",
    "vehículo1.frenar()\n",
    "vehículo1.doblar(\"la izquierda\")\n",
    "\n",
    "vehículo2 = Vehículo(\"Azul\", \"Moto\", 250)\n",
    "print(vehículo2)\n",
    "vehículo2.acelerar()\n",
    "vehículo2.frenar()\n",
    "vehículo2.doblar(\"la derecha\")\n"
   ],
   "outputs": [
    {
     "name": "stdout",
     "output_type": "stream",
     "text": [
      "Vehículo: Auto, Color: Rojo, Cilindrada: 1600 cc\n",
      "El Auto está acelerando.\n",
      "El Auto está frenando.\n",
      "El Auto está doblando hacia la izquierda.\n",
      "Vehículo: Moto, Color: Azul, Cilindrada: 250 cc\n",
      "El Moto está acelerando.\n",
      "El Moto está frenando.\n",
      "El Moto está doblando hacia la derecha.\n"
     ]
    }
   ],
   "execution_count": 7
  },
  {
   "attachments": {},
   "cell_type": "markdown",
   "metadata": {},
   "source": [
    "3) Instanciar 3 objetos de la clase vehículo y ejecutar sus métodos, probar luego el resultado"
   ]
  },
  {
   "metadata": {
    "ExecuteTime": {
     "end_time": "2024-07-03T18:49:05.078494Z",
     "start_time": "2024-07-03T18:49:05.065972Z"
    }
   },
   "cell_type": "code",
   "source": [
    "class Vehículo:\n",
    "    def __init__(self, color, tipo, cilindrada):\n",
    "        self.color = color\n",
    "        self.tipo = tipo\n",
    "        self.cilindrada = cilindrada\n",
    "\n",
    "    def acelerar(self):\n",
    "        print(f\"El {self.tipo} de color {self.color} está acelerando.\")\n",
    "\n",
    "    def frenar(self):\n",
    "        print(f\"El {self.tipo} de color {self.color} está frenando.\")\n",
    "\n",
    "    def doblar(self, direccion):\n",
    "        print(f\"El {self.tipo} de color {self.color} está doblando hacia {direccion}.\")\n",
    "\n",
    "    def __str__(self):\n",
    "        return f\"Vehículo: {self.tipo}, Color: {self.color}, Cilindrada: {self.cilindrada} cc\"\n",
    "\n",
    "# Instanciando 3 objetos de la clase Vehículo\n",
    "vehículo1 = Vehículo(\"Rojo\", \"Auto\", 1600)\n",
    "vehículo2 = Vehículo(\"Azul\", \"Moto\", 250)\n",
    "vehículo3 = Vehículo(\"Verde\", \"Camioneta\", 3000)\n",
    "\n",
    "# Ejecutando sus métodos\n",
    "print(vehículo1)\n",
    "vehículo1.acelerar()\n",
    "vehículo1.frenar()\n",
    "vehículo1.doblar(\"la izquierda\")\n",
    "\n",
    "print(vehículo2)\n",
    "vehículo2.acelerar()\n",
    "vehículo2.frenar()\n",
    "vehículo2.doblar(\"la derecha\")\n",
    "\n",
    "print(vehículo3)\n",
    "vehículo3.acelerar()\n",
    "vehículo3.frenar()\n",
    "vehículo3.doblar(\"hacia adelante\")\n"
   ],
   "outputs": [
    {
     "name": "stdout",
     "output_type": "stream",
     "text": [
      "Vehículo: Auto, Color: Rojo, Cilindrada: 1600 cc\n",
      "El Auto de color Rojo está acelerando.\n",
      "El Auto de color Rojo está frenando.\n",
      "El Auto de color Rojo está doblando hacia la izquierda.\n",
      "Vehículo: Moto, Color: Azul, Cilindrada: 250 cc\n",
      "El Moto de color Azul está acelerando.\n",
      "El Moto de color Azul está frenando.\n",
      "El Moto de color Azul está doblando hacia la derecha.\n",
      "Vehículo: Camioneta, Color: Verde, Cilindrada: 3000 cc\n",
      "El Camioneta de color Verde está acelerando.\n",
      "El Camioneta de color Verde está frenando.\n",
      "El Camioneta de color Verde está doblando hacia hacia adelante.\n"
     ]
    }
   ],
   "execution_count": 8
  },
  {
   "attachments": {},
   "cell_type": "markdown",
   "metadata": {},
   "source": [
    "4) Agregar a la clase Vehiculo, un método que muestre su estado, es decir, a que velocidad se encuentra y su dirección. Y otro método que muestre color, tipo y cilindrada"
   ]
  },
  {
   "metadata": {
    "ExecuteTime": {
     "end_time": "2024-07-03T18:50:40.424194Z",
     "start_time": "2024-07-03T18:50:40.410822Z"
    }
   },
   "cell_type": "code",
   "source": [
    "class Vehículo:\n",
    "    def __init__(self, color, tipo, cilindrada):\n",
    "        self.color = color\n",
    "        self.tipo = tipo\n",
    "        self.cilindrada = cilindrada\n",
    "        self.velocidad = 0\n",
    "        self.direccion = \"recto\"\n",
    "\n",
    "    def acelerar(self):\n",
    "        self.velocidad += 10\n",
    "        print(f\"El {self.tipo} de color {self.color} está acelerando. Velocidad actual: {self.velocidad} km/h\")\n",
    "\n",
    "    def frenar(self):\n",
    "        if self.velocidad >= 10:\n",
    "            self.velocidad -= 10\n",
    "        else:\n",
    "            self.velocidad = 0\n",
    "        print(f\"El {self.tipo} de color {self.color} está frenando. Velocidad actual: {self.velocidad} km/h\")\n",
    "\n",
    "    def doblar(self, direccion):\n",
    "        self.direccion = direccion\n",
    "        print(f\"El {self.tipo} de color {self.color} está doblando hacia {direccion}.\")\n",
    "\n",
    "    def mostrar_estado(self):\n",
    "        print(f\"El {self.tipo} de color {self.color} está a {self.velocidad} km/h y va {self.direccion}.\")\n",
    "\n",
    "    def mostrar_características(self):\n",
    "        print(f\"Vehículo: {self.tipo}, Color: {self.color}, Cilindrada: {self.cilindrada} cc\")\n",
    "\n",
    "    def __str__(self):\n",
    "        return f\"Vehículo: {self.tipo}, Color: {self.color}, Cilindrada: {self.cilindrada} cc\"\n",
    "\n",
    "# Instanciando 3 objetos de la clase Vehículo\n",
    "vehículo1 = Vehículo(\"Rojo\", \"Auto\", 1600)\n",
    "vehículo2 = Vehículo(\"Azul\", \"Moto\", 250)\n",
    "vehículo3 = Vehículo(\"Verde\", \"Camioneta\", 3000)\n",
    "\n",
    "# Ejecutando sus métodos\n",
    "print(vehículo1)\n",
    "vehículo1.mostrar_características()\n",
    "vehículo1.acelerar()\n",
    "vehículo1.doblar(\"la izquierda\")\n",
    "vehículo1.mostrar_estado()\n",
    "vehículo1.frenar()\n",
    "vehículo1.mostrar_estado()\n",
    "\n",
    "print()\n",
    "\n",
    "print(vehículo2)\n",
    "vehículo2.mostrar_características()\n",
    "vehículo2.acelerar()\n",
    "vehículo2.doblar(\"la derecha\")\n",
    "vehículo2.mostrar_estado()\n",
    "vehículo2.frenar()\n",
    "vehículo2.mostrar_estado()\n",
    "\n",
    "print()\n",
    "\n",
    "print(vehículo3)\n",
    "vehículo3.mostrar_características()\n",
    "vehículo3.acelerar()\n",
    "vehículo3.doblar(\"hacia adelante\")\n",
    "vehículo3.mostrar_estado()\n",
    "vehículo3.frenar()\n",
    "vehículo3.mostrar_estado()\n"
   ],
   "outputs": [
    {
     "name": "stdout",
     "output_type": "stream",
     "text": [
      "Vehículo: Auto, Color: Rojo, Cilindrada: 1600 cc\n",
      "Vehículo: Auto, Color: Rojo, Cilindrada: 1600 cc\n",
      "El Auto de color Rojo está acelerando. Velocidad actual: 10 km/h\n",
      "El Auto de color Rojo está doblando hacia la izquierda.\n",
      "El Auto de color Rojo está a 10 km/h y va la izquierda.\n",
      "El Auto de color Rojo está frenando. Velocidad actual: 0 km/h\n",
      "El Auto de color Rojo está a 0 km/h y va la izquierda.\n",
      "\n",
      "Vehículo: Moto, Color: Azul, Cilindrada: 250 cc\n",
      "Vehículo: Moto, Color: Azul, Cilindrada: 250 cc\n",
      "El Moto de color Azul está acelerando. Velocidad actual: 10 km/h\n",
      "El Moto de color Azul está doblando hacia la derecha.\n",
      "El Moto de color Azul está a 10 km/h y va la derecha.\n",
      "El Moto de color Azul está frenando. Velocidad actual: 0 km/h\n",
      "El Moto de color Azul está a 0 km/h y va la derecha.\n",
      "\n",
      "Vehículo: Camioneta, Color: Verde, Cilindrada: 3000 cc\n",
      "Vehículo: Camioneta, Color: Verde, Cilindrada: 3000 cc\n",
      "El Camioneta de color Verde está acelerando. Velocidad actual: 10 km/h\n",
      "El Camioneta de color Verde está doblando hacia hacia adelante.\n",
      "El Camioneta de color Verde está a 10 km/h y va hacia adelante.\n",
      "El Camioneta de color Verde está frenando. Velocidad actual: 0 km/h\n",
      "El Camioneta de color Verde está a 0 km/h y va hacia adelante.\n"
     ]
    }
   ],
   "execution_count": 9
  },
  {
   "attachments": {},
   "cell_type": "markdown",
   "metadata": {},
   "source": [
    "5) Crear una clase que permita utilizar las funciones creadas en la práctica del módulo 7<br>\n",
    "Verificar Primo<br>\n",
    "Valor modal<br>\n",
    "Conversión grados<br>\n",
    "Factorial<br>"
   ]
  },
  {
   "metadata": {
    "ExecuteTime": {
     "end_time": "2024-07-03T18:58:04.778527Z",
     "start_time": "2024-07-03T18:58:04.750116Z"
    }
   },
   "cell_type": "code",
   "source": [
    "class Herramientas:\n",
    "    def __init__(self, lista_numeros):\n",
    "        self.lista = lista_numeros\n",
    "\n",
    "    def verifica_primo(self):\n",
    "        '''\n",
    "        Verifica si los números en la lista son primos.\n",
    "        '''\n",
    "        for i in self.lista:\n",
    "            if self.__verifica_primo(i):\n",
    "                print(f'El elemento {i} SÍ es un número primo')\n",
    "            else:\n",
    "                print(f'El elemento {i} NO es un número primo')\n",
    "\n",
    "    def conversion_grados(self, origen, destino):\n",
    "        '''\n",
    "        Convierte los grados de la lista de un origen a un destino específico.\n",
    "        '''\n",
    "        for i in self.lista:\n",
    "            conversion = self.__conversion_grados(i, origen, destino)\n",
    "            if conversion is not None:\n",
    "                print(f'{i} grados {origen} son {conversion} grados {destino}')\n",
    "    \n",
    "    def factorial(self):\n",
    "        '''\n",
    "        Calcula el factorial de los números en la lista.\n",
    "        '''\n",
    "        for i in self.lista:\n",
    "            print(f'El factorial de {i} es {self.__factorial(i)}')\n",
    "\n",
    "    def __verifica_primo(self, nro):\n",
    "        if nro < 2:\n",
    "            return False\n",
    "        for i in range(2, int(nro ** 0.5) + 1):\n",
    "            if nro % i == 0:\n",
    "                return False\n",
    "        return True\n",
    "\n",
    "    def valor_modal(self, menor=True):\n",
    "        '''\n",
    "        Encuentra el valor modal (el más frecuente) en la lista.\n",
    "        '''\n",
    "        if len(self.lista) == 0:\n",
    "            return None\n",
    "\n",
    "        from collections import Counter\n",
    "        conteo = Counter(self.lista)\n",
    "        moda, maximo = conteo.most_common(1)[0]\n",
    "\n",
    "        if menor:\n",
    "            for elemento in conteo:\n",
    "                if conteo[elemento] == maximo and elemento < moda:\n",
    "                    moda = elemento\n",
    "        else:\n",
    "            for elemento in conteo:\n",
    "                if conteo[elemento] == maximo and elemento > moda:\n",
    "                    moda = elemento\n",
    "        \n",
    "        return moda, maximo\n",
    "\n",
    "    def __conversion_grados(self, valor, origen, destino):\n",
    "        if origen == destino:\n",
    "            return valor\n",
    "\n",
    "        if origen == 'celsius':\n",
    "            if destino == 'farenheit':\n",
    "                return (valor * 9 / 5) + 32\n",
    "            elif destino == 'kelvin':\n",
    "                return valor + 273.15\n",
    "        elif origen == 'farenheit':\n",
    "            if destino == 'celsius':\n",
    "                return (valor - 32) * 5 / 9\n",
    "            elif destino == 'kelvin':\n",
    "                return ((valor - 32) * 5 / 9) + 273.15\n",
    "        elif origen == 'kelvin':\n",
    "            if destino == 'celsius':\n",
    "                return valor - 273.15\n",
    "            elif destino == 'farenheit':\n",
    "                return ((valor - 273.15) * 9 / 5) + 32\n",
    "        else:\n",
    "            print('Parámetro de Origen incorrecto')\n",
    "            return None\n",
    "\n",
    "        print('Parámetro de Destino incorrecto')\n",
    "        return None\n",
    "\n",
    "    def __factorial(self, numero):\n",
    "        if not isinstance(numero, int):\n",
    "            return 'El número debe ser un entero'\n",
    "        if numero < 0:\n",
    "            return 'El número debe ser positivo'\n",
    "        if numero == 0 or numero == 1:\n",
    "            return 1\n",
    "        return numero * self.__factorial(numero - 1)\n"
   ],
   "outputs": [],
   "execution_count": 12
  },
  {
   "attachments": {},
   "cell_type": "markdown",
   "metadata": {},
   "source": [
    "6) Probar las funciones incorporadas en la clase del punto 5"
   ]
  },
  {
   "metadata": {
    "ExecuteTime": {
     "end_time": "2024-07-03T18:59:29.020576Z",
     "start_time": "2024-07-03T18:59:29.012981Z"
    }
   },
   "cell_type": "code",
   "source": [
    "# Ejemplo de uso de la clase Herramientas\n",
    "\n",
    "# Proporciona una lista de números al instanciar la clase\n",
    "h = Herramientas([1, 2, 3, 4, 5])\n",
    "\n",
    "# Verifica si los números en la lista son primos\n",
    "h.verifica_primo()\n",
    "\n",
    "# Convierte los grados de Celsius a Fahrenheit\n",
    "h.conversion_grados('celsius', 'farenheit')\n",
    "\n",
    "# Calcula el factorial de los números en la lista\n",
    "h.factorial()\n",
    "\n",
    "# Encuentra el valor modal en la lista\n",
    "moda, maximo = h.valor_modal()\n",
    "print(f'El valor modal es {moda} y se repite {maximo} veces')\n"
   ],
   "outputs": [
    {
     "name": "stdout",
     "output_type": "stream",
     "text": [
      "El elemento 1 NO es un número primo\n",
      "El elemento 2 SÍ es un número primo\n",
      "El elemento 3 SÍ es un número primo\n",
      "El elemento 4 NO es un número primo\n",
      "El elemento 5 SÍ es un número primo\n",
      "1 grados celsius son 33.8 grados farenheit\n",
      "2 grados celsius son 35.6 grados farenheit\n",
      "3 grados celsius son 37.4 grados farenheit\n",
      "4 grados celsius son 39.2 grados farenheit\n",
      "5 grados celsius son 41.0 grados farenheit\n",
      "El factorial de 1 es 1\n",
      "El factorial de 2 es 2\n",
      "El factorial de 3 es 6\n",
      "El factorial de 4 es 24\n",
      "El factorial de 5 es 120\n",
      "El valor modal es 1 y se repite 1 veces\n"
     ]
    }
   ],
   "execution_count": 14
  },
  {
   "attachments": {},
   "cell_type": "markdown",
   "metadata": {},
   "source": [
    "7) Es necesario que la clase creada en el punto 5 contenga una lista, sobre la cual se apliquen las funciones incorporadas"
   ]
  },
  {
   "attachments": {},
   "cell_type": "markdown",
   "metadata": {},
   "source": [
    "8) Crear un archivo .py aparte y ubicar allí la clase generada en el punto anterior. Luego realizar la importación del módulo y probar alguna de sus funciones"
   ]
  },
  {
   "metadata": {
    "ExecuteTime": {
     "end_time": "2024-07-03T19:05:03.974365Z",
     "start_time": "2024-07-03T19:05:03.971331Z"
    }
   },
   "cell_type": "code",
   "source": "from mimodulo import *",
   "outputs": [],
   "execution_count": 17
  },
  {
   "metadata": {
    "ExecuteTime": {
     "end_time": "2024-07-03T19:05:21.936052Z",
     "start_time": "2024-07-03T19:05:21.930661Z"
    }
   },
   "cell_type": "code",
   "source": [
    "h = Herramientas([1, 2, 3, 4, 5])\n",
    "h.verifica_primo()"
   ],
   "outputs": [
    {
     "name": "stdout",
     "output_type": "stream",
     "text": [
      "El elemento 1 NO es un número primo\n",
      "El elemento 2 SÍ es un número primo\n",
      "El elemento 3 SÍ es un número primo\n",
      "El elemento 4 NO es un número primo\n",
      "El elemento 5 SÍ es un número primo\n"
     ]
    }
   ],
   "execution_count": 18
  },
  {
   "metadata": {},
   "cell_type": "code",
   "outputs": [],
   "execution_count": null,
   "source": ""
  }
 ],
 "metadata": {
  "interpreter": {
   "hash": "c85384e4cb51c8b72350f3a8712cc8351fdc3955e32a27f9b60c6242ab125f01"
  },
  "kernelspec": {
   "display_name": "Python 3 (ipykernel)",
   "language": "python",
   "name": "python3"
  },
  "language_info": {
   "codemirror_mode": {
    "name": "ipython",
    "version": 3
   },
   "file_extension": ".py",
   "mimetype": "text/x-python",
   "name": "python",
   "nbconvert_exporter": "python",
   "pygments_lexer": "ipython3",
   "version": "3.9.7"
  }
 },
 "nbformat": 4,
 "nbformat_minor": 4
}
