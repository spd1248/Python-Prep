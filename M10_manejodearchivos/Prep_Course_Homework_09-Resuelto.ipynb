{
 "cells": [
  {
   "cell_type": "markdown",
   "metadata": {},
   "source": [
    "## Entrada / Salida"
   ]
  },
  {
   "metadata": {},
   "cell_type": "markdown",
   "source": "Pruebas"
  },
  {
   "metadata": {
    "ExecuteTime": {
     "end_time": "2024-07-08T17:24:40.180511Z",
     "start_time": "2024-07-08T17:24:40.162448Z"
    }
   },
   "cell_type": "code",
   "source": [
    "import os\n",
    "\n",
    "ingredientes = ['Cebolla', 'Tomate', 'Aceite']"
   ],
   "outputs": [],
   "execution_count": 5
  },
  {
   "metadata": {
    "ExecuteTime": {
     "end_time": "2024-07-08T17:25:16.201914Z",
     "start_time": "2024-07-08T17:25:16.190096Z"
    }
   },
   "cell_type": "code",
   "source": "archivo = open('datos.txt', 'w')",
   "outputs": [],
   "execution_count": 6
  },
  {
   "metadata": {
    "ExecuteTime": {
     "end_time": "2024-07-08T17:26:47.923180Z",
     "start_time": "2024-07-08T17:26:47.914400Z"
    }
   },
   "cell_type": "code",
   "source": [
    "for elemento in ingredientes:\n",
    "    archivo.write(elemento + '\\n')"
   ],
   "outputs": [],
   "execution_count": 7
  },
  {
   "metadata": {
    "ExecuteTime": {
     "end_time": "2024-07-08T17:26:52.778275Z",
     "start_time": "2024-07-08T17:26:52.758684Z"
    }
   },
   "cell_type": "code",
   "source": "archivo.close()",
   "outputs": [],
   "execution_count": 8
  },
  {
   "metadata": {
    "ExecuteTime": {
     "end_time": "2024-07-08T17:30:31.290353Z",
     "start_time": "2024-07-08T17:30:31.283632Z"
    }
   },
   "cell_type": "code",
   "source": [
    "import os\n",
    "\n",
    "archivo = open('datos.txt', 'r')"
   ],
   "outputs": [],
   "execution_count": 13
  },
  {
   "metadata": {
    "ExecuteTime": {
     "end_time": "2024-07-08T17:30:32.521897Z",
     "start_time": "2024-07-08T17:30:32.513500Z"
    }
   },
   "cell_type": "code",
   "source": [
    "for linea in archivo:\n",
    "    print(linea)\n"
   ],
   "outputs": [
    {
     "name": "stdout",
     "output_type": "stream",
     "text": [
      "Cebolla\n",
      "\n",
      "Tomate\n",
      "\n",
      "Aceite\n",
      "\n"
     ]
    }
   ],
   "execution_count": 14
  },
  {
   "metadata": {
    "ExecuteTime": {
     "end_time": "2024-07-08T17:30:33.476024Z",
     "start_time": "2024-07-08T17:30:33.470794Z"
    }
   },
   "cell_type": "code",
   "source": "archivo.close()",
   "outputs": [],
   "execution_count": 15
  },
  {
   "metadata": {
    "ExecuteTime": {
     "end_time": "2024-07-08T17:34:45.607162Z",
     "start_time": "2024-07-08T17:34:45.415171Z"
    }
   },
   "cell_type": "code",
   "source": [
    "from bs4 import BeautifulSoup\n",
    "import urllib.request"
   ],
   "outputs": [],
   "execution_count": 16
  },
  {
   "metadata": {
    "ExecuteTime": {
     "end_time": "2024-07-08T17:36:19.061773Z",
     "start_time": "2024-07-08T17:36:18.694174Z"
    }
   },
   "cell_type": "code",
   "source": [
    "response = urllib.request.urlopen('https://es.khanacademy.org/profile/me/courses')\n",
    "html = response.read()"
   ],
   "outputs": [],
   "execution_count": 17
  },
  {
   "metadata": {
    "ExecuteTime": {
     "end_time": "2024-07-08T17:37:06.820468Z",
     "start_time": "2024-07-08T17:37:06.810621Z"
    }
   },
   "cell_type": "code",
   "source": [
    "soup = BeautifulSoup(html, 'html.parser')\n",
    "text = soup.get_text()"
   ],
   "outputs": [],
   "execution_count": 18
  },
  {
   "metadata": {
    "ExecuteTime": {
     "end_time": "2024-07-08T17:37:39.215818Z",
     "start_time": "2024-07-08T17:37:39.212997Z"
    }
   },
   "cell_type": "code",
   "source": "links = soup.find_all('a')",
   "outputs": [],
   "execution_count": 19
  },
  {
   "cell_type": "markdown",
   "metadata": {},
   "source": [
    "1) Crear un script con el nombre \"clase09_ej1.py\" que reciba 3 parametros a elección, verificando que sean exactamente esa cantidad, y muestre como salida los parámetros recibidos"
   ]
  },
  {
   "metadata": {},
   "cell_type": "code",
   "outputs": [],
   "execution_count": null,
   "source": [
    "import sys\n",
    "\n",
    "def main():\n",
    "    # Verificar que se han pasado exactamente 3 parámetros\n",
    "    if len(sys.argv) != 4:\n",
    "        print(\"Error: Se deben proporcionar exactamente 3 parámetros.\")\n",
    "        print(\"Uso: python clase09_ej1.py param1 param2 param3\")\n",
    "        sys.exit(1)\n",
    "\n",
    "    # Mostrar los parámetros recibidos\n",
    "    param1 = sys.argv[1]\n",
    "    param2 = sys.argv[2]\n",
    "    param3 = sys.argv[3]\n",
    "\n",
    "    print(f\"Parámetro 1: {param1}\")\n",
    "    print(f\"Parámetro 2: {param2}\")\n",
    "    print(f\"Parámetro 3: {param3}\")\n",
    "\n",
    "if __name__ == \"__main__\":\n",
    "    main()\n"
   ]
  },
  {
   "cell_type": "markdown",
   "metadata": {},
   "source": [
    "2) Crear un script con el nombre \"clase09_ej2.py2\" que reciba como un valor de temperatura en grados centígrados, un valor de humedad y por último si llovio (Con True o False). Y que cada vez que sea invocado, cargue en el archivo provisto \"clase09_ej2.csv\" una marca de tiempo y esa información."
   ]
  },
  {
   "cell_type": "markdown",
   "metadata": {},
   "source": [
    "Para trabajar con tipos de datos relacionados con la medición del tiempo, como ser fechas, horarios o marcas de tiempo se puede utilizar la clase *datetime*"
   ]
  },
  {
   "cell_type": "code",
   "execution_count": 1,
   "metadata": {},
   "outputs": [],
   "source": [
    "import datetime"
   ]
  },
  {
   "cell_type": "code",
   "execution_count": 2,
   "metadata": {},
   "outputs": [
    {
     "name": "stdout",
     "output_type": "stream",
     "text": [
      "Ahora = 2022-02-04 16:37:10.072897\n",
      "Fecha fija = 2020-05-10 00:00:00\n"
     ]
    }
   ],
   "source": [
    "x = datetime.datetime.now()\n",
    "print(\"Ahora =\",x)\n",
    "x = datetime.datetime(2020, 5, 10)\n",
    "print(\"Fecha fija =\",x)"
   ]
  },
  {
   "cell_type": "code",
   "execution_count": 3,
   "metadata": {},
   "outputs": [
    {
     "name": "stdout",
     "output_type": "stream",
     "text": [
      "objeto datetime = 2022-05-10 12:30:00\n",
      "timestamp = 1652196600.0\n",
      "fecha hora = 2022-05-10 12:30:00\n"
     ]
    }
   ],
   "source": [
    "fecha_hora = '2022-05-10 12:30:00'\n",
    "objeto_datetime = datetime.datetime.strptime(fecha_hora, '%Y-%m-%d %H:%M:%S')\n",
    "print(\"objeto datetime =\", objeto_datetime)\n",
    "marca_de_tiempo = datetime.datetime.timestamp(objeto_datetime)\n",
    "print(\"timestamp =\", marca_de_tiempo)\n",
    "fecha_hora2 = datetime.datetime.fromtimestamp(marca_de_tiempo)\n",
    "print(\"fecha hora =\", fecha_hora2)"
   ]
  },
  {
   "cell_type": "markdown",
   "metadata": {},
   "source": [
    "3) Crear un archivo a partir de los datos presentes en el diccionario provisto. El cual debe contener en la primera fila el nombre de las claves y luego cada línea los elementos i-ésimos de las listas de valores contiguos y separados por coma ','. Este archivo debe llamarse clase09_ej3.csv"
   ]
  },
  {
   "cell_type": "code",
   "execution_count": 1,
   "metadata": {},
   "outputs": [],
   "source": [
    "montañas = {'nombre':[  'Everest','K2','Kanchenjunga','Lhotse','Makalu',\n",
    "                        'Cho Oyu','Dhaulagiri','Manaslu','Nanga Parbat','Annapurna I'],\n",
    "            'orden':[1,2,3,4,5,6,7,8,9,10],\n",
    "            'cordillera':['Himalaya','Karakórum','Himalaya','Himalaya','Himalaya'\n",
    "                        ,'Himalaya','Himalaya','Himalaya','Karakórum','Himalaya'],\n",
    "            'pais': ['Nepal','Pakistán','Nepal','Nepal','Nepal','Nepal','Nepal','Nepal',\n",
    "                    'Pakistán','Nepal'],\n",
    "            'altura':[8849,8611,8586,8516,8485,8188,8167,8163,8125,8091]}"
   ]
  },
  {
   "cell_type": "code",
   "execution_count": 11,
   "metadata": {},
   "outputs": [],
   "source": [
    "import os\n",
    "archivo = open('clase09_ej3.csv', 'w')"
   ]
  },
  {
   "cell_type": "code",
   "execution_count": 12,
   "metadata": {},
   "outputs": [],
   "source": [
    "for clave in montañas.keys():\n",
    "    if (clave == 'altura'):\n",
    "        archivo.write(clave+'\\n')\n",
    "    else:\n",
    "        archivo.write(clave+',')"
   ]
  },
  {
   "cell_type": "code",
   "execution_count": 13,
   "metadata": {},
   "outputs": [],
   "source": [
    "ind = 0\n",
    "while (ind < 10):\n",
    "    archivo.write(montañas['nombre'][ind]+',')\n",
    "    archivo.write(str(montañas['orden'][ind])+',')\n",
    "    archivo.write(montañas['cordillera'][ind]+',')\n",
    "    archivo.write(montañas['pais'][ind]+',')\n",
    "    archivo.write(str(montañas['altura'][ind])+'\\n')\n",
    "    ind += 1"
   ]
  },
  {
   "cell_type": "code",
   "execution_count": 14,
   "metadata": {},
   "outputs": [],
   "source": [
    "archivo.close()"
   ]
  },
  {
   "cell_type": "markdown",
   "metadata": {},
   "source": [
    "4) Mostrar el tamaño en MB del archivo generado en el punto 3"
   ]
  },
  {
   "cell_type": "code",
   "execution_count": 22,
   "metadata": {},
   "outputs": [
    {
     "name": "stdout",
     "output_type": "stream",
     "text": [
      "El archivo tiene un tamaño de 0.36 MB\n"
     ]
    }
   ],
   "source": [
    "print('El archivo tiene un tamaño de', str(round(os.path.getsize('clase09_ej3.csv')/1024,2)),'MB')"
   ]
  },
  {
   "cell_type": "markdown",
   "metadata": {},
   "source": [
    "5) Crear una carpeta llamada clase09_montañas_altas"
   ]
  },
  {
   "cell_type": "code",
   "execution_count": 23,
   "metadata": {},
   "outputs": [],
   "source": [
    "os.makedirs('clase09_montañas_altas')"
   ]
  },
  {
   "cell_type": "markdown",
   "metadata": {},
   "source": [
    "6) Copiar el archivo clase09_ej3.scv en la carpeta clase09_montañas_altas usando la sentencia **os.system**"
   ]
  },
  {
   "cell_type": "code",
   "execution_count": 24,
   "metadata": {},
   "outputs": [
    {
     "data": {
      "text/plain": [
       "0"
      ]
     },
     "execution_count": 24,
     "metadata": {},
     "output_type": "execute_result"
    }
   ],
   "source": [
    "os.system('copy clase09_ej3.csv clase09_montañas_altas')"
   ]
  },
  {
   "cell_type": "markdown",
   "metadata": {},
   "source": [
    "7) Listar el contenido de la carpeta clase09_montañas_altas"
   ]
  },
  {
   "cell_type": "code",
   "execution_count": 29,
   "metadata": {},
   "outputs": [
    {
     "data": {
      "text/plain": [
       "['clase09_ej3.csv']"
      ]
     },
     "execution_count": 29,
     "metadata": {},
     "output_type": "execute_result"
    }
   ],
   "source": [
    "os.listdir('./clase09_montañas_altas')"
   ]
  }
 ],
 "metadata": {
  "interpreter": {
   "hash": "c85384e4cb51c8b72350f3a8712cc8351fdc3955e32a27f9b60c6242ab125f01"
  },
  "kernelspec": {
   "display_name": "Python 3 (ipykernel)",
   "language": "python",
   "name": "python3"
  },
  "language_info": {
   "codemirror_mode": {
    "name": "ipython",
    "version": 3
   },
   "file_extension": ".py",
   "mimetype": "text/x-python",
   "name": "python",
   "nbconvert_exporter": "python",
   "pygments_lexer": "ipython3",
   "version": "3.9.7"
  }
 },
 "nbformat": 4,
 "nbformat_minor": 4
}
