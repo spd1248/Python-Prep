{
 "cells": [
  {
   "metadata": {},
   "cell_type": "markdown",
   "source": "Entrada / Salida\n",
   "id": "7ce450ba183c96ff"
  },
  {
   "metadata": {},
   "cell_type": "markdown",
   "source": "1) Crear un script con el nombre \"clase09_ej1.py\" que reciba 3 parametros a elección, verificando que sean exactamente esa cantidad, y muestre como salida los parámetros recibidos\n",
   "id": "6f70964f857933ad"
  },
  {
   "metadata": {},
   "cell_type": "markdown",
   "source": "",
   "id": "62284b0877e26db9"
  },
  {
   "metadata": {
    "ExecuteTime": {
     "end_time": "2024-07-08T18:27:18.264836Z",
     "start_time": "2024-07-08T18:27:18.253674Z"
    }
   },
   "cell_type": "code",
   "source": [
    "import sys\n",
    "\n",
    "def main():\n",
    "    # Verificar que se han pasado exactamente 3 parámetros\n",
    "    if len(sys.argv) != 4:\n",
    "        print(\"Error: Se requieren exactamente 3 parámetros.\")\n",
    "        print(\"Uso: python clase09_ej1.py <param1> <param2> <param3>\")\n",
    "        return\n",
    "\n",
    "    # Obtener los parámetros\n",
    "    param1 = sys.argv[1]\n",
    "    param2 = sys.argv[2]\n",
    "    param3 = sys.argv[3]\n",
    "\n",
    "    # Mostrar los parámetros recibidos\n",
    "    print(f\"Parámetros recibidos: {param1}, {param2}, {param3}\")\n",
    "\n",
    "if __name__ == \"__main__\":\n",
    "    main()\n"
   ],
   "id": "7788f8653bb07b5f",
   "outputs": [
    {
     "name": "stdout",
     "output_type": "stream",
     "text": [
      "Error: Se requieren exactamente 3 parámetros.\n",
      "Uso: python clase09_ej1.py <param1> <param2> <param3>\n"
     ]
    }
   ],
   "execution_count": 1
  },
  {
   "metadata": {},
   "cell_type": "markdown",
   "source": "2) Crear un script con el nombre \"clase09_ej2.py2\" que reciba como un valor de temperatura en grados centígrados, un valor de humedad y por último si llovio (Con True o False). Y que cada vez que sea invocado, cargue en el archivo provisto \"clase09_ej2.csv\" una marca de tiempo y esa información.\n",
   "id": "196f925a95e855a0"
  },
  {
   "metadata": {},
   "cell_type": "code",
   "outputs": [],
   "execution_count": null,
   "source": [
    "import csv\n",
    "import datetime\n",
    "import sys\n",
    "\n",
    "\n",
    "def registrar_datos(temperatura, humedad, llovio):\n",
    "    archivo = 'clase09_ej2.csv'\n",
    "    tiempo_actual = datetime.datetime.now().strftime('%Y-%m-%d %H:%M:%S')\n",
    "\n",
    "    with open(archivo, mode='a', newline='') as file:\n",
    "        writer = csv.writer(file)\n",
    "        writer.writerow([tiempo_actual, temperatura, humedad, llovio])\n",
    "\n",
    "\n",
    "if __name__ == \"__main__\":\n",
    "    if len(sys.argv) != 4:\n",
    "        print(\"Uso: python clase09_ej2.py2 <temperatura> <humedad> <llovio>\")\n",
    "        sys.exit(1)\n",
    "\n",
    "    temperatura = float(sys.argv[1])\n",
    "    humedad = float(sys.argv[2])\n",
    "    llovio = sys.argv[3].lower() in ['true', '1', 't', 'y', 'yes']\n",
    "\n",
    "    registrar_datos(temperatura, humedad, llovio)\n",
    "    print(\"Datos registrados correctamente.\")\n"
   ],
   "id": "2512ba888c566033"
  },
  {
   "metadata": {},
   "cell_type": "markdown",
   "source": "3) Crear un archivo a partir de los datos presentes en el diccionario provisto. El cual debe contener en la primera fila el nombre de las claves y luego cada línea los elementos i-ésimos de las listas de valores contiguos y separados por coma ','. Este archivo debe llamarse clase09_ej3.csv\n",
   "id": "6d6f563cd6404f49"
  },
  {
   "metadata": {
    "ExecuteTime": {
     "end_time": "2024-07-08T19:11:26.141367Z",
     "start_time": "2024-07-08T19:11:26.131580Z"
    }
   },
   "cell_type": "code",
   "source": [
    "# Datos provistos en el diccionario\n",
    "montañas = {\n",
    "    'nombre': ['Everest', 'K2', 'Kanchenjunga', 'Lhotse', 'Makalu',\n",
    "               'Cho Oyu', 'Dhaulagiri', 'Manaslu', 'Nanga Parbat', 'Annapurna I'],\n",
    "    'orden': [1, 2, 3, 4, 5, 6, 7, 8, 9, 10],\n",
    "    'cordillera': ['Himalaya', 'Karakórum', 'Himalaya', 'Himalaya', 'Himalaya',\n",
    "                   'Himalaya', 'Himalaya', 'Himalaya', 'Karakórum', 'Himalaya'],\n",
    "    'pais': ['Nepal', 'Pakistán', 'Nepal', 'Nepal', 'Nepal', 'Nepal', 'Nepal', 'Nepal',\n",
    "             'Pakistán', 'Nepal'],\n",
    "    'altura': [8849, 8611, 8586, 8516, 8485, 8188, 8167, 8163, 8125, 8091]\n",
    "}\n",
    "\n",
    "# Crear y escribir el archivo CSV\n",
    "with open('clase09_ej3.csv', 'w', encoding='utf-8') as file:\n",
    "    # Escribir los encabezados\n",
    "    file.write(','.join(montañas.keys()) + '\\n')\n",
    "    \n",
    "    # Escribir los valores\n",
    "    for i in range(len(montañas['nombre'])):\n",
    "        line = [str(montañas[key][i]) for key in montañas]\n",
    "        file.write(','.join(line) + '\\n')\n"
   ],
   "id": "51d278b65750d9c3",
   "outputs": [],
   "execution_count": 4
  },
  {
   "metadata": {
    "ExecuteTime": {
     "end_time": "2024-07-08T19:27:40.791572Z",
     "start_time": "2024-07-08T19:27:40.779610Z"
    }
   },
   "cell_type": "code",
   "source": [
    "import os\n",
    "\n",
    "# Ruta del archivo que deseas verificar\n",
    "archivo = 'clase09_ej3.csv'\n",
    "\n",
    "# Verificar si el archivo existe\n",
    "if os.path.isfile(archivo):\n",
    "    print(f\"El archivo '{archivo}' existe.\")\n",
    "else:\n",
    "    print(f\"El archivo '{archivo}' no existe.\")\n"
   ],
   "id": "ca04becc185b91a9",
   "outputs": [
    {
     "name": "stdout",
     "output_type": "stream",
     "text": [
      "El archivo 'clase09_ej3.csv' existe.\n"
     ]
    }
   ],
   "execution_count": 5
  },
  {
   "metadata": {
    "ExecuteTime": {
     "end_time": "2024-07-08T19:30:06.142455Z",
     "start_time": "2024-07-08T19:30:03.544386Z"
    }
   },
   "cell_type": "code",
   "source": "!pip install pandas\n",
   "id": "df836110e60d1335",
   "outputs": [
    {
     "name": "stdout",
     "output_type": "stream",
     "text": [
      "Requirement already satisfied: pandas in c:\\users\\spd12\\.virtualenvs\\python-prep\\lib\\site-packages (2.2.2)\n",
      "Requirement already satisfied: numpy>=1.26.0 in c:\\users\\spd12\\.virtualenvs\\python-prep\\lib\\site-packages (from pandas) (2.0.0)\n",
      "Requirement already satisfied: python-dateutil>=2.8.2 in c:\\users\\spd12\\.virtualenvs\\python-prep\\lib\\site-packages (from pandas) (2.9.0.post0)\n",
      "Requirement already satisfied: pytz>=2020.1 in c:\\users\\spd12\\.virtualenvs\\python-prep\\lib\\site-packages (from pandas) (2024.1)\n",
      "Requirement already satisfied: tzdata>=2022.7 in c:\\users\\spd12\\.virtualenvs\\python-prep\\lib\\site-packages (from pandas) (2024.1)\n",
      "Requirement already satisfied: six>=1.5 in c:\\users\\spd12\\.virtualenvs\\python-prep\\lib\\site-packages (from python-dateutil>=2.8.2->pandas) (1.16.0)\n"
     ]
    },
    {
     "name": "stderr",
     "output_type": "stream",
     "text": [
      "\n",
      "[notice] A new release of pip is available: 24.0 -> 24.1.2\n",
      "[notice] To update, run: python.exe -m pip install --upgrade pip\n"
     ]
    }
   ],
   "execution_count": 8
  },
  {
   "metadata": {
    "ExecuteTime": {
     "end_time": "2024-07-08T19:36:12.214207Z",
     "start_time": "2024-07-08T19:36:12.200985Z"
    }
   },
   "cell_type": "code",
   "source": [
    "import pandas as pd\n",
    "\n",
    "# Ruta del archivo que deseas abrir\n",
    "archivo = 'clase09_ej3.csv'\n",
    "\n",
    "# Leer el archivo CSV\n",
    "try:\n",
    "    df = pd.read_csv(archivo)\n",
    "    print(\"Archivo abierto correctamente.\")\n",
    "    print(df.head())  # Muestra las primeras filas del archivo para verificar su contenido\n",
    "except FileNotFoundError:\n",
    "    print(f\"El archivo '{archivo}' no existe.\")\n",
    "except Exception as e:\n",
    "    print(f\"Ocurrió un error al abrir el archivo: {e}\")"
   ],
   "id": "7669da9bbe8e72c8",
   "outputs": [
    {
     "name": "stdout",
     "output_type": "stream",
     "text": [
      "Archivo abierto correctamente.\n",
      "         nombre  orden cordillera      pais  altura\n",
      "0       Everest      1   Himalaya     Nepal    8849\n",
      "1            K2      2  Karakórum  Pakistán    8611\n",
      "2  Kanchenjunga      3   Himalaya     Nepal    8586\n",
      "3        Lhotse      4   Himalaya     Nepal    8516\n",
      "4        Makalu      5   Himalaya     Nepal    8485\n"
     ]
    }
   ],
   "execution_count": 12
  },
  {
   "metadata": {
    "ExecuteTime": {
     "end_time": "2024-07-08T19:42:07.832513Z",
     "start_time": "2024-07-08T19:42:07.825701Z"
    }
   },
   "cell_type": "code",
   "source": [
    "import os\n",
    "\n",
    "# Nombre del archivo\n",
    "archivo = 'clase09_ej3.csv'\n",
    "\n",
    "# Obtener la ruta completa\n",
    "ruta_completa = os.path.abspath(archivo)\n",
    "print(f\"La ruta completa del archivo es: {ruta_completa}\")\n"
   ],
   "id": "d335e8aacc0360bc",
   "outputs": [
    {
     "name": "stdout",
     "output_type": "stream",
     "text": [
      "La ruta completa del archivo es: C:\\Users\\spd12\\OneDrive\\Documentos\\GitHub\\Python-Prep\\M10_manejodearchivos\\clase09_ej3.csv\n"
     ]
    }
   ],
   "execution_count": 19
  },
  {
   "metadata": {},
   "cell_type": "markdown",
   "source": "4) Mostrar el tamaño en MB del archivo generado en el punto 3\n",
   "id": "9e390412f709919d"
  },
  {
   "metadata": {
    "ExecuteTime": {
     "end_time": "2024-07-08T19:43:16.767795Z",
     "start_time": "2024-07-08T19:43:16.758914Z"
    }
   },
   "cell_type": "code",
   "source": [
    "import os\n",
    "\n",
    "# Ruta del archivo\n",
    "archivo = r\"C:\\Users\\spd12\\OneDrive\\Documentos\\GitHub\\Python-Prep\\M10_manejodearchivos\\clase09_ej3.csv\"\n",
    "\n",
    "# Obtener el tamaño del archivo en bytes\n",
    "tamano_bytes = os.path.getsize(archivo)\n",
    "\n",
    "# Convertir el tamaño a megabytes\n",
    "tamano_mb = tamano_bytes / (1024 * 1024)\n",
    "\n",
    "print(f\"El tamaño del archivo es: {tamano_mb:.2f} MB\")\n"
   ],
   "id": "6e6aa3a911389077",
   "outputs": [
    {
     "name": "stdout",
     "output_type": "stream",
     "text": [
      "El tamaño del archivo es: 0.00 MB\n"
     ]
    }
   ],
   "execution_count": 20
  },
  {
   "metadata": {},
   "cell_type": "markdown",
   "source": "5) Crear una carpeta llamada clase09_montañas_altas\n",
   "id": "aa8f93df1d42f23c"
  },
  {
   "metadata": {
    "ExecuteTime": {
     "end_time": "2024-07-08T19:44:18.565298Z",
     "start_time": "2024-07-08T19:44:18.550679Z"
    }
   },
   "cell_type": "code",
   "source": [
    "import os\n",
    "\n",
    "# Ruta donde deseas crear la carpeta\n",
    "ruta = r\"C:\\Users\\spd12\\OneDrive\\Documentos\\GitHub\\Python-Prep\\M10_manejodearchivos\"\n",
    "\n",
    "# Nombre de la carpeta\n",
    "nombre_carpeta = \"clase09_montañas_altas\"\n",
    "\n",
    "# Ruta completa de la nueva carpeta\n",
    "ruta_completa = os.path.join(ruta, nombre_carpeta)\n",
    "\n",
    "# Crear la carpeta\n",
    "os.makedirs(ruta_completa, exist_ok=True)\n",
    "\n",
    "print(f\"La carpeta {nombre_carpeta} ha sido creada en {ruta}\")\n"
   ],
   "id": "3d5272cef5a69999",
   "outputs": [
    {
     "name": "stdout",
     "output_type": "stream",
     "text": [
      "La carpeta clase09_montañas_altas ha sido creada en C:\\Users\\spd12\\OneDrive\\Documentos\\GitHub\\Python-Prep\\M10_manejodearchivos\n"
     ]
    }
   ],
   "execution_count": 21
  },
  {
   "metadata": {},
   "cell_type": "markdown",
   "source": "6) Copiar el archivo clase09_ej3.scv en la carpeta clase09_montañas_altas usando la sentencia **os.system**\n",
   "id": "3505aa4fa22e6973"
  },
  {
   "metadata": {
    "ExecuteTime": {
     "end_time": "2024-07-08T19:46:01.966392Z",
     "start_time": "2024-07-08T19:46:01.923653Z"
    }
   },
   "cell_type": "code",
   "source": [
    "import os\n",
    "\n",
    "# Ruta del archivo original\n",
    "archivo_origen = r\"C:\\Users\\spd12\\OneDrive\\Documentos\\GitHub\\Python-Prep\\M10_manejodearchivos\\clase09_ej3.csv\"\n",
    "\n",
    "# Ruta de la carpeta destino\n",
    "carpeta_destino = r\"C:\\Users\\spd12\\OneDrive\\Documentos\\GitHub\\Python-Prep\\M10_manejodearchivos\\clase09_montañas_altas\"\n",
    "\n",
    "# Comando para copiar el archivo\n",
    "comando = f'copy \"{archivo_origen}\" \"{carpeta_destino}\"'\n",
    "\n",
    "# Ejecutar el comando\n",
    "os.system(comando)\n",
    "\n",
    "print(f\"El archivo {archivo_origen} ha sido copiado a {carpeta_destino}\")\n"
   ],
   "id": "54ae31f13e86c45b",
   "outputs": [
    {
     "name": "stdout",
     "output_type": "stream",
     "text": [
      "El archivo C:\\Users\\spd12\\OneDrive\\Documentos\\GitHub\\Python-Prep\\M10_manejodearchivos\\clase09_ej3.csv ha sido copiado a C:\\Users\\spd12\\OneDrive\\Documentos\\GitHub\\Python-Prep\\M10_manejodearchivos\\clase09_montañas_altas\n"
     ]
    }
   ],
   "execution_count": 22
  },
  {
   "metadata": {},
   "cell_type": "markdown",
   "source": "7) Listar el contenido de la carpeta clase09_montañas_altas",
   "id": "c762489bc16510ed"
  },
  {
   "metadata": {
    "ExecuteTime": {
     "end_time": "2024-07-08T19:47:13.318733Z",
     "start_time": "2024-07-08T19:47:13.305028Z"
    }
   },
   "cell_type": "code",
   "source": [
    "import os\n",
    "\n",
    "# Ruta de la carpeta\n",
    "carpeta = r\"C:\\Users\\spd12\\OneDrive\\Documentos\\GitHub\\Python-Prep\\M10_manejodearchivos\\clase09_montañas_altas\"\n",
    "\n",
    "# Listar el contenido de la carpeta\n",
    "contenido = os.listdir(carpeta)\n",
    "\n",
    "print(f\"El contenido de la carpeta {carpeta} es:\")\n",
    "for archivo in contenido:\n",
    "    print(archivo)\n"
   ],
   "id": "b0eff7ff59f2c042",
   "outputs": [
    {
     "name": "stdout",
     "output_type": "stream",
     "text": [
      "El contenido de la carpeta C:\\Users\\spd12\\OneDrive\\Documentos\\GitHub\\Python-Prep\\M10_manejodearchivos\\clase09_montañas_altas es:\n",
      "clase09_ej3.csv\n"
     ]
    }
   ],
   "execution_count": 23
  }
 ],
 "metadata": {
  "kernelspec": {
   "display_name": "Python 3",
   "language": "python",
   "name": "python3"
  },
  "language_info": {
   "codemirror_mode": {
    "name": "ipython",
    "version": 2
   },
   "file_extension": ".py",
   "mimetype": "text/x-python",
   "name": "python",
   "nbconvert_exporter": "python",
   "pygments_lexer": "ipython2",
   "version": "2.7.6"
  }
 },
 "nbformat": 4,
 "nbformat_minor": 5
}
