{
 "cells": [
  {
   "attachments": {},
   "cell_type": "markdown",
   "metadata": {},
   "source": [
    "## Funciones"
   ]
  },
  {
   "metadata": {},
   "cell_type": "markdown",
   "source": "Pruebas"
  },
  {
   "metadata": {
    "ExecuteTime": {
     "end_time": "2024-07-01T22:03:18.938646Z",
     "start_time": "2024-07-01T22:03:18.924859Z"
    }
   },
   "cell_type": "code",
   "source": [
    "def calcular_area_rectangulo(base, altura):\n",
    "    area = base * altura\n",
    "    return area"
   ],
   "outputs": [],
   "execution_count": 2
  },
  {
   "metadata": {
    "ExecuteTime": {
     "end_time": "2024-07-01T22:03:21.227671Z",
     "start_time": "2024-07-01T22:03:21.206520Z"
    }
   },
   "cell_type": "code",
   "source": "calcular_area_rectangulo(100, 100)",
   "outputs": [
    {
     "data": {
      "text/plain": [
       "10000"
      ]
     },
     "execution_count": 3,
     "metadata": {},
     "output_type": "execute_result"
    }
   ],
   "execution_count": 3
  },
  {
   "metadata": {
    "ExecuteTime": {
     "end_time": "2024-07-01T22:03:39.406945Z",
     "start_time": "2024-07-01T22:03:39.398492Z"
    }
   },
   "cell_type": "code",
   "source": [
    "def saludar(nombre, saludo=\"Hola\"):\n",
    "    print(saludo + \", \" + nombre)"
   ],
   "outputs": [],
   "execution_count": 4
  },
  {
   "metadata": {
    "ExecuteTime": {
     "end_time": "2024-07-01T22:04:02.018054Z",
     "start_time": "2024-07-01T22:04:02.001212Z"
    }
   },
   "cell_type": "code",
   "source": "saludar('Sergio', saludo=\"Hola\")",
   "outputs": [
    {
     "name": "stdout",
     "output_type": "stream",
     "text": [
      "Hola, Sergio\n"
     ]
    }
   ],
   "execution_count": 5
  },
  {
   "metadata": {
    "ExecuteTime": {
     "end_time": "2024-07-01T22:04:36.699259Z",
     "start_time": "2024-07-01T22:04:36.691689Z"
    }
   },
   "cell_type": "code",
   "source": [
    "def imprimir_mensaje():\n",
    "    print(\"¡Hola, mundo!\")"
   ],
   "outputs": [],
   "execution_count": 6
  },
  {
   "metadata": {
    "ExecuteTime": {
     "end_time": "2024-07-01T22:04:41.740224Z",
     "start_time": "2024-07-01T22:04:41.723481Z"
    }
   },
   "cell_type": "code",
   "source": "imprimir_mensaje()",
   "outputs": [
    {
     "name": "stdout",
     "output_type": "stream",
     "text": [
      "¡Hola, mundo!\n"
     ]
    }
   ],
   "execution_count": 7
  },
  {
   "metadata": {
    "ExecuteTime": {
     "end_time": "2024-07-01T22:04:54.749464Z",
     "start_time": "2024-07-01T22:04:54.739991Z"
    }
   },
   "cell_type": "code",
   "source": [
    "def sumar(sumando1, sumando2):\n",
    "    resultado = sumando1 + sumando2\n",
    "    return resultado"
   ],
   "outputs": [],
   "execution_count": 8
  },
  {
   "metadata": {
    "ExecuteTime": {
     "end_time": "2024-07-01T22:05:09.481986Z",
     "start_time": "2024-07-01T22:05:09.466022Z"
    }
   },
   "cell_type": "code",
   "source": "sumar(4, 5)",
   "outputs": [
    {
     "data": {
      "text/plain": [
       "9"
      ]
     },
     "execution_count": 9,
     "metadata": {},
     "output_type": "execute_result"
    }
   ],
   "execution_count": 9
  },
  {
   "metadata": {
    "ExecuteTime": {
     "end_time": "2024-07-01T22:05:28.254861Z",
     "start_time": "2024-07-01T22:05:28.250090Z"
    }
   },
   "cell_type": "code",
   "source": [
    "def dividir(dividendo, divisor):\n",
    "    cociente = dividendo// divisor\n",
    "    resto = dividendo % divisor\n",
    "    return cociente, resto"
   ],
   "outputs": [],
   "execution_count": 10
  },
  {
   "metadata": {
    "ExecuteTime": {
     "end_time": "2024-07-01T22:05:42.534680Z",
     "start_time": "2024-07-01T22:05:42.522756Z"
    }
   },
   "cell_type": "code",
   "source": "dividir(40, 5)",
   "outputs": [
    {
     "data": {
      "text/plain": [
       "(8, 0)"
      ]
     },
     "execution_count": 11,
     "metadata": {},
     "output_type": "execute_result"
    }
   ],
   "execution_count": 11
  },
  {
   "metadata": {
    "ExecuteTime": {
     "end_time": "2024-07-01T22:06:02.205526Z",
     "start_time": "2024-07-01T22:06:02.196844Z"
    }
   },
   "cell_type": "code",
   "source": [
    "def ordenar_dos_numeros(num1=0, num2=0):\n",
    "    if (num1 > num2):\n",
    "        return num2, num1\n",
    "    else:\n",
    "        return num1, num2"
   ],
   "outputs": [],
   "execution_count": 12
  },
  {
   "metadata": {
    "ExecuteTime": {
     "end_time": "2024-07-01T22:07:07.818168Z",
     "start_time": "2024-07-01T22:07:07.811214Z"
    }
   },
   "cell_type": "code",
   "source": "ordenar_dos_numeros(2, 1)\n",
   "outputs": [
    {
     "data": {
      "text/plain": [
       "(1, 2)"
      ]
     },
     "execution_count": 14,
     "metadata": {},
     "output_type": "execute_result"
    }
   ],
   "execution_count": 14
  },
  {
   "metadata": {
    "ExecuteTime": {
     "end_time": "2024-07-01T22:15:40.501157Z",
     "start_time": "2024-07-01T22:15:40.489362Z"
    }
   },
   "cell_type": "code",
   "source": [
    "def factorial(numero):\n",
    "    if (numero > 1):\n",
    "        numero = numero * factorial(numero - 1)\n",
    "    return numero"
   ],
   "outputs": [],
   "execution_count": 15
  },
  {
   "metadata": {
    "ExecuteTime": {
     "end_time": "2024-07-01T22:15:48.558409Z",
     "start_time": "2024-07-01T22:15:48.553215Z"
    }
   },
   "cell_type": "code",
   "source": "factorial(5)",
   "outputs": [
    {
     "data": {
      "text/plain": [
       "120"
      ]
     },
     "execution_count": 16,
     "metadata": {},
     "output_type": "execute_result"
    }
   ],
   "execution_count": 16
  },
  {
   "metadata": {
    "ExecuteTime": {
     "end_time": "2024-07-01T22:38:55.750296Z",
     "start_time": "2024-07-01T22:38:55.736211Z"
    }
   },
   "cell_type": "code",
   "source": [
    "x = [10, 20, 30]\n",
    "def funcion(entrada):\n",
    "    entrada.append(40)\n",
    "funcion(x)\n",
    "print(x)"
   ],
   "outputs": [
    {
     "name": "stdout",
     "output_type": "stream",
     "text": [
      "[10, 20, 30, 40]\n"
     ]
    }
   ],
   "execution_count": 17
  },
  {
   "metadata": {
    "ExecuteTime": {
     "end_time": "2024-07-01T22:39:19.436385Z",
     "start_time": "2024-07-01T22:39:19.431619Z"
    }
   },
   "cell_type": "code",
   "source": [
    "def funcion(entrada):\n",
    "    entrada = 0\n",
    "    print(id(entrada))\n",
    "funcion(x)"
   ],
   "outputs": [
    {
     "name": "stdout",
     "output_type": "stream",
     "text": [
      "140730356996504\n"
     ]
    }
   ],
   "execution_count": 18
  },
  {
   "metadata": {
    "ExecuteTime": {
     "end_time": "2024-07-01T22:39:25.903839Z",
     "start_time": "2024-07-01T22:39:25.891402Z"
    }
   },
   "cell_type": "code",
   "source": [
    "def funcion(entrada):\n",
    "    entrada.append(40)\n",
    "    print(id(entrada))\n",
    "funcion(x)"
   ],
   "outputs": [
    {
     "name": "stdout",
     "output_type": "stream",
     "text": [
      "1761154483584\n"
     ]
    }
   ],
   "execution_count": 19
  },
  {
   "metadata": {
    "ExecuteTime": {
     "end_time": "2024-07-01T22:39:38.821105Z",
     "start_time": "2024-07-01T22:39:38.806198Z"
    }
   },
   "cell_type": "code",
   "source": "lambda_producto = lambda x, y: x * y",
   "outputs": [],
   "execution_count": 20
  },
  {
   "metadata": {
    "ExecuteTime": {
     "end_time": "2024-07-01T22:39:49.495294Z",
     "start_time": "2024-07-01T22:39:49.475137Z"
    }
   },
   "cell_type": "code",
   "source": "lambda_producto(4, 5)",
   "outputs": [
    {
     "data": {
      "text/plain": [
       "20"
      ]
     },
     "execution_count": 21,
     "metadata": {},
     "output_type": "execute_result"
    }
   ],
   "execution_count": 21
  },
  {
   "attachments": {},
   "cell_type": "markdown",
   "metadata": {},
   "source": [
    "1) Crear una función que reciba un número como parámetro y devuelva True si es primo y False si no lo es"
   ]
  },
  {
   "metadata": {
    "ExecuteTime": {
     "end_time": "2024-07-01T23:57:58.715914Z",
     "start_time": "2024-07-01T23:57:58.705420Z"
    }
   },
   "cell_type": "code",
   "source": [
    "def es_primo(n):\n",
    "    \"\"\"\n",
    "    Verifica si un número es primo.\n",
    "\n",
    "    Parámetros:\n",
    "    n (int): El número a verificar.\n",
    "\n",
    "    Devuelve:\n",
    "    bool: True si el número es primo, False si no lo es.\n",
    "    \"\"\"\n",
    "    if n <= 1:\n",
    "        return False\n",
    "    elif n == 2:\n",
    "        return True\n",
    "    elif n % 2 == 0:\n",
    "        return False\n",
    "    \n",
    "    for i in range(3, int(n**0.5) + 1, 2):\n",
    "        if n % i == 0:\n",
    "            return False\n",
    "    \n",
    "    return True\n",
    "\n",
    "# Ejemplo de uso\n",
    "numero = 17\n",
    "print(es_primo(numero))  # Debería devolver True, ya que 17 es un número primo\n"
   ],
   "outputs": [
    {
     "name": "stdout",
     "output_type": "stream",
     "text": [
      "True\n"
     ]
    }
   ],
   "execution_count": 22
  },
  {
   "attachments": {},
   "cell_type": "markdown",
   "metadata": {},
   "source": [
    "2) Utilizando la función del punto 1, realizar otra función que reciba de parámetro una lista de números y devuelva sólo aquellos que son primos en otra lista"
   ]
  },
  {
   "metadata": {
    "ExecuteTime": {
     "end_time": "2024-07-02T00:16:53.207090Z",
     "start_time": "2024-07-02T00:16:53.195293Z"
    }
   },
   "cell_type": "code",
   "source": [
    "def filtrar_primos(lista):\n",
    "    \"\"\"\n",
    "    Filtra una lista de números y devuelve solo aquellos que son primos.\n",
    "\n",
    "    Parámetros:\n",
    "    lista (list): La lista de números a filtrar.\n",
    "\n",
    "    Devuelve:\n",
    "    list: Una nueva lista que contiene solo los números primos.\n",
    "    \"\"\"\n",
    "    lista_primos = [numero for numero in lista if es_primo(numero)]\n",
    "    return lista_primos\n",
    "\n",
    "# Ejemplo de uso\n",
    "numeros = [10, 15, 17, 19, 21, 23, 28, 29]\n",
    "primos = filtrar_primos(numeros)\n",
    "print(primos)  # Debería devolver [17, 19, 23, 29]\n"
   ],
   "outputs": [
    {
     "name": "stdout",
     "output_type": "stream",
     "text": [
      "[17, 19, 23, 29]\n"
     ]
    }
   ],
   "execution_count": 23
  },
  {
   "attachments": {},
   "cell_type": "markdown",
   "metadata": {},
   "source": [
    "3) Crear una función que al recibir una lista de números, devuelva el que más se repite y cuántas veces lo hace. Si hay más de un \"más repetido\", que devuelva cualquiera"
   ]
  },
  {
   "metadata": {
    "ExecuteTime": {
     "end_time": "2024-07-02T00:20:57.712747Z",
     "start_time": "2024-07-02T00:20:57.689640Z"
    }
   },
   "cell_type": "code",
   "source": [
    "def numero_mas_repetido(lista):\n",
    "    # Diccionario para contar las apariciones de cada número\n",
    "    conteo = {}\n",
    "    \n",
    "    # Contar las apariciones de cada número\n",
    "    for numero in lista:\n",
    "        if numero in conteo:\n",
    "            conteo[numero] += 1\n",
    "        else:\n",
    "            conteo[numero] = 1\n",
    "    \n",
    "    # Encontrar el número con más repeticiones\n",
    "    max_repeticiones = 0\n",
    "    numero_mas_frecuente = None\n",
    "    \n",
    "    for numero, repeticiones in conteo.items():\n",
    "        if repeticiones > max_repeticiones:\n",
    "            max_repeticiones = repeticiones\n",
    "            numero_mas_frecuente = numero\n",
    "    \n",
    "    return numero_mas_frecuente, max_repeticiones\n",
    "\n",
    "# Ejemplo de uso\n",
    "lista_numeros = [4, 2, 2, 8, 3, 3, 3, 4, 4, 4]\n",
    "resultado = numero_mas_repetido(lista_numeros)\n",
    "print(f\"El número que más se repite es {resultado[0]} y se repite {resultado[1]} veces.\")\n"
   ],
   "outputs": [
    {
     "name": "stdout",
     "output_type": "stream",
     "text": [
      "El número que más se repite es 4 y se repite 4 veces.\n"
     ]
    }
   ],
   "execution_count": 24
  },
  {
   "attachments": {},
   "cell_type": "markdown",
   "metadata": {},
   "source": [
    "4) Crear una función que convierta entre grados Celsius, Farenheit y Kelvin<br>\n",
    "Fórmula 1\t: (°C × 9/5) + 32 = °F<br>\n",
    "Fórmula 2\t: °C + 273.15 = °K<br>\n",
    "Debe recibir 3 parámetros: el valor, la medida de orígen y la medida de destino\n"
   ]
  },
  {
   "metadata": {
    "ExecuteTime": {
     "end_time": "2024-07-02T00:43:52.047904Z",
     "start_time": "2024-07-02T00:43:52.036032Z"
    }
   },
   "cell_type": "code",
   "source": [
    "def conversion_grados(valor, origen, destino):\n",
    "    # Convertir la entrada a minúsculas para mayor flexibilidad\n",
    "    origen = origen.lower()\n",
    "    destino = destino.lower()\n",
    "\n",
    "    # Diccionario para corrección de errores tipográficos\n",
    "    unidades_validas = {'celsius': 'celsius', 'fahrenheit': 'fahrenheit', 'kelvin': 'kelvin'}\n",
    "\n",
    "    # Verificar si las unidades de origen y destino son válidas\n",
    "    if origen not in unidades_validas or destino not in unidades_validas:\n",
    "        return 'Unidad de origen o destino no reconocida'\n",
    "\n",
    "    # Realizar la conversión\n",
    "    if origen == 'celsius':\n",
    "        if destino == 'fahrenheit':\n",
    "            return (valor * 9 / 5) + 32\n",
    "        elif destino == 'kelvin':\n",
    "            return valor + 273.15\n",
    "        else:\n",
    "            return valor  # Misma unidad\n",
    "    elif origen == 'fahrenheit':\n",
    "        if destino == 'celsius':\n",
    "            return (valor - 32) * 5 / 9\n",
    "        elif destino == 'kelvin':\n",
    "            return ((valor - 32) * 5 / 9) + 273.15\n",
    "        else:\n",
    "            return valor  # Misma unidad\n",
    "    elif origen == 'kelvin':\n",
    "        if destino == 'celsius':\n",
    "            return valor - 273.15\n",
    "        elif destino == 'fahrenheit':\n",
    "            return ((valor - 273.15) * 9 / 5) + 32\n",
    "        else:\n",
    "            return valor  # Misma unidad\n",
    "\n",
    "# Ejemplos de uso:\n",
    "print(conversion_grados(100, 'celsius', 'fahrenheit'))  # 212.0\n",
    "print(conversion_grados(32, 'fahrenheit', 'celsius'))   # 0.0\n",
    "print(conversion_grados(0, 'celsius', 'kelvin'))        # 273.15\n",
    "print(conversion_grados(273.15, 'kelvin', 'celsius'))   # 0.0\n",
    "print(conversion_grados(300, 'kelvin', 'fahrenheit'))   # 80.33\n"
   ],
   "outputs": [
    {
     "name": "stdout",
     "output_type": "stream",
     "text": [
      "212.0\n",
      "0.0\n",
      "273.15\n",
      "0.0\n",
      "80.33000000000004\n"
     ]
    }
   ],
   "execution_count": 29
  },
  {
   "metadata": {},
   "cell_type": "markdown",
   "source": ""
  },
  {
   "attachments": {},
   "cell_type": "markdown",
   "metadata": {},
   "source": [
    "5) Iterando una lista con los tres valores posibles de temperatura que recibe la función del punto 5, hacer un print para cada combinación de los mismos:"
   ]
  },
  {
   "metadata": {
    "ExecuteTime": {
     "end_time": "2024-07-02T00:58:56.158906Z",
     "start_time": "2024-07-02T00:58:56.151378Z"
    }
   },
   "cell_type": "code",
   "source": [
    "unidades = ['celsius', 'fahrenheit', 'kelvin']\n",
    "valor_prueba = 100\n",
    "\n",
    "for origen in unidades:\n",
    "    for destino in unidades:\n",
    "        resultado = conversion_grados(valor_prueba, origen, destino)\n",
    "        print(f'{valor_prueba} grados {origen.capitalize()} a {destino.capitalize()}: {resultado}')"
   ],
   "outputs": [
    {
     "name": "stdout",
     "output_type": "stream",
     "text": [
      "100 grados Celsius a Celsius: 100\n",
      "100 grados Celsius a Fahrenheit: 212.0\n",
      "100 grados Celsius a Kelvin: 373.15\n",
      "100 grados Fahrenheit a Celsius: 37.77777777777778\n",
      "100 grados Fahrenheit a Fahrenheit: 100\n",
      "100 grados Fahrenheit a Kelvin: 310.92777777777775\n",
      "100 grados Kelvin a Celsius: -173.14999999999998\n",
      "100 grados Kelvin a Fahrenheit: -279.66999999999996\n",
      "100 grados Kelvin a Kelvin: 100\n"
     ]
    }
   ],
   "execution_count": 35
  },
  {
   "attachments": {},
   "cell_type": "markdown",
   "metadata": {},
   "source": [
    "6) Armar una función que devuelva el factorial de un número. Tener en cuenta que el usuario puede equivocarse y enviar de parámetro un número no entero o negativo"
   ]
  },
  {
   "metadata": {
    "ExecuteTime": {
     "end_time": "2024-07-02T01:06:23.563831Z",
     "start_time": "2024-07-02T01:06:23.542537Z"
    }
   },
   "cell_type": "code",
   "source": [
    "def factorial(numero):\n",
    "    # Verifica si el número no es entero y devuelve un mensaje de error\n",
    "    if not isinstance(numero, int):\n",
    "        return 'El número debe ser un entero'\n",
    "    \n",
    "    # Verifica si el número es negativo y devuelve un mensaje de error\n",
    "    if numero < 0:\n",
    "        return 'El número debe ser positivo'\n",
    "    \n",
    "    # Caso base: si el número es 0 o 1, el factorial es 1\n",
    "    if numero <= 1:\n",
    "        return 1\n",
    "    \n",
    "    # Recursión: calcula el factorial del número multiplicándolo por el factorial del número anterior\n",
    "    return numero * factorial(numero - 1)\n"
   ],
   "outputs": [],
   "execution_count": 36
  },
  {
   "metadata": {
    "ExecuteTime": {
     "end_time": "2024-07-02T01:06:42.010626Z",
     "start_time": "2024-07-02T01:06:42.004399Z"
    }
   },
   "cell_type": "code",
   "source": [
    "print(factorial(5))\n",
    "print(factorial(-2))\n",
    "print(factorial(1.23))\n",
    "print(factorial('6'))"
   ],
   "outputs": [
    {
     "name": "stdout",
     "output_type": "stream",
     "text": [
      "120\n",
      "El número debe ser positivo\n",
      "El número debe ser un entero\n",
      "El número debe ser un entero\n"
     ]
    }
   ],
   "execution_count": 37
  },
  {
   "metadata": {
    "ExecuteTime": {
     "end_time": "2024-07-02T01:07:19.138151Z",
     "start_time": "2024-07-02T01:07:19.117808Z"
    }
   },
   "cell_type": "code",
   "source": [
    "def factorial(n):\n",
    "    # Verificar si el número es entero\n",
    "    if not isinstance(n, int):\n",
    "        return \"Error: El número debe ser un entero.\"\n",
    "    \n",
    "    # Verificar si el número es no negativo\n",
    "    elif n < 0:\n",
    "        return \"Error: El número debe ser no negativo.\"\n",
    "    \n",
    "    # Calcular el factorial\n",
    "    elif n == 0:\n",
    "        return 1\n",
    "    else:\n",
    "        resultado = 1\n",
    "        for i in range(1, n + 1):\n",
    "            resultado *= i\n",
    "        return resultado\n",
    "\n",
    "# Ejemplos de uso\n",
    "print(factorial(5))  # Salida: 120\n",
    "print(factorial(-3)) # Salida: Error: El número debe ser no negativo.\n",
    "print(factorial(3.5)) # Salida: Error: El número debe ser un entero.\n"
   ],
   "outputs": [
    {
     "name": "stdout",
     "output_type": "stream",
     "text": [
      "120\n",
      "Error: El número debe ser no negativo.\n",
      "Error: El número debe ser un entero.\n"
     ]
    }
   ],
   "execution_count": 38
  },
  {
   "metadata": {},
   "cell_type": "code",
   "outputs": [],
   "execution_count": null,
   "source": ""
  }
 ],
 "metadata": {
  "interpreter": {
   "hash": "c85384e4cb51c8b72350f3a8712cc8351fdc3955e32a27f9b60c6242ab125f01"
  },
  "kernelspec": {
   "display_name": "Python 3 (ipykernel)",
   "language": "python",
   "name": "python3"
  },
  "language_info": {
   "codemirror_mode": {
    "name": "ipython",
    "version": 3
   },
   "file_extension": ".py",
   "mimetype": "text/x-python",
   "name": "python",
   "nbconvert_exporter": "python",
   "pygments_lexer": "ipython3",
   "version": "3.9.7"
  }
 },
 "nbformat": 4,
 "nbformat_minor": 4
}
