{
 "cells": [
  {
   "attachments": {},
   "cell_type": "markdown",
   "metadata": {},
   "source": [
    "1) Crear una variable que contenga un elemento del conjunto de números enteros y luego imprimir por pantalla si es mayor o menor a cero"
   ]
  },
  {
   "cell_type": "code",
   "metadata": {
    "ExecuteTime": {
     "end_time": "2024-04-23T22:22:44.956324Z",
     "start_time": "2024-04-23T22:22:44.947111Z"
    }
   },
   "source": [
    "numero = -5\n",
    "if numero > 0:\n",
    "    print(\"El número es mayor a cero.\")\n",
    "elif numero < 0:\n",
    "    print(\"El número es menor a cero.\")\n",
    "else:\n",
    "    print(\"El número es cero.\")\n"
   ],
   "outputs": [
    {
     "name": "stdout",
     "output_type": "stream",
     "text": [
      "El número es menor a cero.\n"
     ]
    }
   ],
   "execution_count": 1
  },
  {
   "attachments": {},
   "cell_type": "markdown",
   "metadata": {},
   "source": [
    "2) Crear dos variables y un condicional que informe si son del mismo tipo de dato"
   ]
  },
  {
   "cell_type": "code",
   "metadata": {
    "ExecuteTime": {
     "end_time": "2024-04-23T22:22:44.970572Z",
     "start_time": "2024-04-23T22:22:44.962841Z"
    }
   },
   "source": [
    "var1 = 10\n",
    "var2 = \"texto\"\n",
    "if type(var1) == type(var2):\n",
    "    print(\"Las variables son del mismo tipo.\")\n",
    "else:\n",
    "    print(\"Las variables son de tipo diferente.\")\n"
   ],
   "outputs": [
    {
     "name": "stdout",
     "output_type": "stream",
     "text": [
      "Las variables son de tipo diferente.\n"
     ]
    }
   ],
   "execution_count": 2
  },
  {
   "attachments": {},
   "cell_type": "markdown",
   "metadata": {},
   "source": [
    "3) Para los valores enteros del 1 al 20, imprimir por pantalla si es par o impar"
   ]
  },
  {
   "cell_type": "code",
   "metadata": {
    "ExecuteTime": {
     "end_time": "2024-04-23T22:22:44.994724Z",
     "start_time": "2024-04-23T22:22:44.978583Z"
    }
   },
   "source": [
    "for i in range(1, 21):\n",
    "    if i % 2 == 0:\n",
    "        print(f\"{i} es par\")\n",
    "    else:\n",
    "        print(f\"{i} es impar\")\n"
   ],
   "outputs": [
    {
     "name": "stdout",
     "output_type": "stream",
     "text": [
      "1 es impar\n",
      "2 es par\n",
      "3 es impar\n",
      "4 es par\n",
      "5 es impar\n",
      "6 es par\n",
      "7 es impar\n",
      "8 es par\n",
      "9 es impar\n",
      "10 es par\n",
      "11 es impar\n",
      "12 es par\n",
      "13 es impar\n",
      "14 es par\n",
      "15 es impar\n",
      "16 es par\n",
      "17 es impar\n",
      "18 es par\n",
      "19 es impar\n",
      "20 es par\n"
     ]
    }
   ],
   "execution_count": 3
  },
  {
   "attachments": {},
   "cell_type": "markdown",
   "metadata": {},
   "source": [
    "4) En un ciclo for mostrar para los valores entre 0 y 5 el resultado de elevarlo a la potencia igual a 3"
   ]
  },
  {
   "cell_type": "code",
   "metadata": {
    "ExecuteTime": {
     "end_time": "2024-04-23T22:22:45.003868Z",
     "start_time": "2024-04-23T22:22:44.994724Z"
    }
   },
   "source": [
    "for i in range(6):\n",
    "    print(f\"{i} elevado a la tercera potencia es {i**3}\")\n"
   ],
   "outputs": [
    {
     "name": "stdout",
     "output_type": "stream",
     "text": [
      "0 elevado a la tercera potencia es 0\n",
      "1 elevado a la tercera potencia es 1\n",
      "2 elevado a la tercera potencia es 8\n",
      "3 elevado a la tercera potencia es 27\n",
      "4 elevado a la tercera potencia es 64\n",
      "5 elevado a la tercera potencia es 125\n"
     ]
    }
   ],
   "execution_count": 4
  },
  {
   "attachments": {},
   "cell_type": "markdown",
   "metadata": {},
   "source": [
    "5) Crear una variable que contenga un número entero y realizar un ciclo for la misma cantidad de ciclos"
   ]
  },
  {
   "cell_type": "code",
   "metadata": {
    "ExecuteTime": {
     "end_time": "2024-04-23T22:22:45.045600Z",
     "start_time": "2024-04-23T22:22:45.041129Z"
    }
   },
   "source": [
    "n = 4\n",
    "for i in range(n):\n",
    "    print(f\"Ciclo {i+1}\")\n"
   ],
   "outputs": [
    {
     "name": "stdout",
     "output_type": "stream",
     "text": [
      "Ciclo 1\n",
      "Ciclo 2\n",
      "Ciclo 3\n",
      "Ciclo 4\n"
     ]
    }
   ],
   "execution_count": 5
  },
  {
   "attachments": {},
   "cell_type": "markdown",
   "metadata": {},
   "source": [
    "6) Utilizar un ciclo while para realizar el factorial de un número guardado en una variable, sólo si la variable contiene un número entero mayor a 0"
   ]
  },
  {
   "cell_type": "code",
   "metadata": {
    "ExecuteTime": {
     "end_time": "2024-04-23T22:22:45.071371Z",
     "start_time": "2024-04-23T22:22:45.057150Z"
    }
   },
   "source": [
    "numero = 5\n",
    "factorial = 1\n",
    "if numero > 0:\n",
    "    while numero > 1:\n",
    "        factorial *= numero\n",
    "        numero -= 1\n",
    "    print(\"El factorial es:\", factorial)\n",
    "else:\n",
    "    print(\"Ingrese un número mayor a 0\")\n"
   ],
   "outputs": [
    {
     "name": "stdout",
     "output_type": "stream",
     "text": [
      "El factorial es: 120\n"
     ]
    }
   ],
   "execution_count": 6
  },
  {
   "attachments": {},
   "cell_type": "markdown",
   "metadata": {},
   "source": [
    "7) Crear un ciclo for dentro de un ciclo while"
   ]
  },
  {
   "cell_type": "code",
   "metadata": {
    "ExecuteTime": {
     "end_time": "2024-04-23T22:22:45.101591Z",
     "start_time": "2024-04-23T22:22:45.088523Z"
    }
   },
   "source": [
    "contador = 0\n",
    "while contador < 3:\n",
    "    print(f\"Inicio ciclo externo {contador+1}\")\n",
    "    for i in range(3):\n",
    "        print(f\"    Ciclo interno {i+1}\")\n",
    "    contador += 1\n"
   ],
   "outputs": [
    {
     "name": "stdout",
     "output_type": "stream",
     "text": [
      "Inicio ciclo externo 1\n",
      "    Ciclo interno 1\n",
      "    Ciclo interno 2\n",
      "    Ciclo interno 3\n",
      "Inicio ciclo externo 2\n",
      "    Ciclo interno 1\n",
      "    Ciclo interno 2\n",
      "    Ciclo interno 3\n",
      "Inicio ciclo externo 3\n",
      "    Ciclo interno 1\n",
      "    Ciclo interno 2\n",
      "    Ciclo interno 3\n"
     ]
    }
   ],
   "execution_count": 7
  },
  {
   "attachments": {},
   "cell_type": "markdown",
   "metadata": {},
   "source": [
    "8) Crear un ciclo while dentro de un ciclo for"
   ]
  },
  {
   "cell_type": "code",
   "metadata": {
    "ExecuteTime": {
     "end_time": "2024-04-23T22:22:45.108971Z",
     "start_time": "2024-04-23T22:22:45.101591Z"
    }
   },
   "source": [
    "for i in range(3):\n",
    "    print(f\"Inicio ciclo externo {i+1}\")\n",
    "    contador = 0\n",
    "    while contador < 3:\n",
    "        print(f\"    Ciclo interno {contador+1}\")\n",
    "        contador += 1\n"
   ],
   "outputs": [
    {
     "name": "stdout",
     "output_type": "stream",
     "text": [
      "Inicio ciclo externo 1\n",
      "    Ciclo interno 1\n",
      "    Ciclo interno 2\n",
      "    Ciclo interno 3\n",
      "Inicio ciclo externo 2\n",
      "    Ciclo interno 1\n",
      "    Ciclo interno 2\n",
      "    Ciclo interno 3\n",
      "Inicio ciclo externo 3\n",
      "    Ciclo interno 1\n",
      "    Ciclo interno 2\n",
      "    Ciclo interno 3\n"
     ]
    }
   ],
   "execution_count": 8
  },
  {
   "attachments": {},
   "cell_type": "markdown",
   "metadata": {},
   "source": [
    "9) Imprimir los números primos existentes entre 0 y 30"
   ]
  },
  {
   "cell_type": "code",
   "metadata": {
    "ExecuteTime": {
     "end_time": "2024-04-23T22:22:45.128814Z",
     "start_time": "2024-04-23T22:22:45.119021Z"
    }
   },
   "source": [
    "for num in range(2, 31):\n",
    "    primo = True\n",
    "    for i in range(2, int(num ** 0.5) + 1):\n",
    "        if num % i == 0:\n",
    "            primo = False\n",
    "            break\n",
    "    if primo:\n",
    "        print(num, \"es primo\")\n"
   ],
   "outputs": [
    {
     "name": "stdout",
     "output_type": "stream",
     "text": [
      "2 es primo\n",
      "3 es primo\n",
      "5 es primo\n",
      "7 es primo\n",
      "11 es primo\n",
      "13 es primo\n",
      "17 es primo\n",
      "19 es primo\n",
      "23 es primo\n",
      "29 es primo\n"
     ]
    }
   ],
   "execution_count": 9
  },
  {
   "attachments": {},
   "cell_type": "markdown",
   "metadata": {},
   "source": [
    "10) ¿Se puede mejorar el proceso del punto 9? Utilizar las sentencias break y/ó continue para tal fin"
   ]
  },
  {
   "cell_type": "code",
   "metadata": {
    "ExecuteTime": {
     "end_time": "2024-04-23T22:22:45.196871Z",
     "start_time": "2024-04-23T22:22:45.182698Z"
    }
   },
   "source": [
    "for num in range(2, 31):\n",
    "    if num == 2:\n",
    "        print(num, \"es primo\")\n",
    "        continue\n",
    "    if num % 2 == 0:\n",
    "        continue\n",
    "    primo = True\n",
    "    for i in range(3, int(num ** 0.5) + 1, 2):\n",
    "        if num % i == 0:\n",
    "            primo = False\n",
    "            break\n",
    "    if primo:\n",
    "        print(num, \"es primo\")\n"
   ],
   "outputs": [
    {
     "name": "stdout",
     "output_type": "stream",
     "text": [
      "2 es primo\n",
      "3 es primo\n",
      "5 es primo\n",
      "7 es primo\n",
      "11 es primo\n",
      "13 es primo\n",
      "17 es primo\n",
      "19 es primo\n",
      "23 es primo\n",
      "29 es primo\n"
     ]
    }
   ],
   "execution_count": 10
  },
  {
   "attachments": {},
   "cell_type": "markdown",
   "metadata": {},
   "source": [
    "11) En los puntos 9 y 10, se diseño un código que encuentra números primos y además se lo optimizó. ¿Es posible saber en qué medida se optimizó?"
   ]
  },
  {
   "cell_type": "code",
   "metadata": {
    "ExecuteTime": {
     "end_time": "2024-04-23T22:22:45.216234Z",
     "start_time": "2024-04-23T22:22:45.198378Z"
    }
   },
   "source": "#Para evaluar la mejora, podrías medir el tiempo que toma ejecutar cada versión del código usando, por ejemplo, la biblioteca time. Comparando estos tiempos, puedes ver la eficacia de la optimización.\n",
   "outputs": [],
   "execution_count": 11
  },
  {
   "attachments": {},
   "cell_type": "markdown",
   "metadata": {},
   "source": [
    "12) Aplicando continue, armar un ciclo while que solo imprima los valores divisibles por 12, dentro del rango de números de 100 a 300"
   ]
  },
  {
   "cell_type": "code",
   "metadata": {
    "ExecuteTime": {
     "end_time": "2024-04-23T22:22:45.232407Z",
     "start_time": "2024-04-23T22:22:45.216234Z"
    }
   },
   "source": [
    "num = 100\n",
    "while num <= 300:\n",
    "    if num % 12 == 0:\n",
    "        print(num)\n",
    "    num += 1\n"
   ],
   "outputs": [
    {
     "name": "stdout",
     "output_type": "stream",
     "text": [
      "108\n",
      "120\n",
      "132\n",
      "144\n",
      "156\n",
      "168\n",
      "180\n",
      "192\n",
      "204\n",
      "216\n",
      "228\n",
      "240\n",
      "252\n",
      "264\n",
      "276\n",
      "288\n",
      "300\n"
     ]
    }
   ],
   "execution_count": 12
  },
  {
   "attachments": {},
   "cell_type": "markdown",
   "metadata": {},
   "source": [
    "13) Utilizar la función **input()** que permite hacer ingresos por teclado, para encontrar números primos y dar la opción al usario de buscar el siguiente"
   ]
  },
  {
   "cell_type": "code",
   "metadata": {
    "ExecuteTime": {
     "end_time": "2024-04-23T22:22:48.210657Z",
     "start_time": "2024-04-23T22:22:45.261153Z"
    }
   },
   "source": [
    "def es_primo(n):\n",
    "    if n <= 1:\n",
    "        return False\n",
    "    for i in range(2, int(n ** 0.5) + 1):\n",
    "        if n % i == 0:\n",
    "            return False\n",
    "    return True\n",
    "\n",
    "num = 2\n",
    "while True:\n",
    "    if es_primo(num):\n",
    "        print(f\"{num} es primo.\")\n",
    "        if input(\"¿Buscar el próximo primo? (s/n): \").lower() != 's':\n",
    "            break\n",
    "    num += 1\n"
   ],
   "outputs": [
    {
     "name": "stdout",
     "output_type": "stream",
     "text": [
      "2 es primo.\n"
     ]
    }
   ],
   "execution_count": 13
  },
  {
   "attachments": {},
   "cell_type": "markdown",
   "metadata": {},
   "source": [
    "14) Crear un ciclo while que encuentre dentro del rango de 100 a 300 el primer número divisible por 3 y además múltiplo de 6"
   ]
  },
  {
   "cell_type": "code",
   "metadata": {
    "ExecuteTime": {
     "end_time": "2024-04-23T22:22:48.217731Z",
     "start_time": "2024-04-23T22:22:48.210657Z"
    }
   },
   "source": [
    "num = 100\n",
    "while num <= 300:\n",
    "    if num % 3 == 0 and num % 6 == 0:\n",
    "        print(num, \"es divisible por 3 y múltiplo de 6\")\n",
    "        break\n",
    "    num += 1\n"
   ],
   "outputs": [
    {
     "name": "stdout",
     "output_type": "stream",
     "text": [
      "102 es divisible por 3 y múltiplo de 6\n"
     ]
    }
   ],
   "execution_count": 14
  }
 ],
 "metadata": {
  "interpreter": {
   "hash": "c85384e4cb51c8b72350f3a8712cc8351fdc3955e32a27f9b60c6242ab125f01"
  },
  "kernelspec": {
   "display_name": "Python 3 (ipykernel)",
   "language": "python",
   "name": "python3"
  },
  "language_info": {
   "codemirror_mode": {
    "name": "ipython",
    "version": 3
   },
   "file_extension": ".py",
   "mimetype": "text/x-python",
   "name": "python",
   "nbconvert_exporter": "python",
   "pygments_lexer": "ipython3",
   "version": "3.10.6"
  }
 },
 "nbformat": 4,
 "nbformat_minor": 4
}
