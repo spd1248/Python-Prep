{
 "cells": [
  {
   "attachments": {},
   "cell_type": "markdown",
   "metadata": {},
   "source": [
    "1) Crear una variable que contenga un elemento del conjunto de números enteros y luego imprimir por pantalla si es mayor o menor a cero"
   ]
  },
  {
   "metadata": {
    "ExecuteTime": {
     "end_time": "2024-07-03T20:20:31.473868Z",
     "start_time": "2024-07-03T20:20:31.468747Z"
    }
   },
   "cell_type": "code",
   "source": [
    "x = 1  # Aquí tienes la variable que contiene un número entero\n",
    "\n",
    "if x > 0:\n",
    "    print(\"El número es mayor que cero\")\n",
    "elif x < 0:\n",
    "    print(\"El número es menor que cero\")\n",
    "else:\n",
    "    print(\"El número es igual a cero\")\n"
   ],
   "outputs": [
    {
     "name": "stdout",
     "output_type": "stream",
     "text": [
      "El número es mayor que cero\n"
     ]
    }
   ],
   "execution_count": 1
  },
  {
   "attachments": {},
   "cell_type": "markdown",
   "metadata": {},
   "source": [
    "2) Crear dos variables y un condicional que informe si son del mismo tipo de dato"
   ]
  },
  {
   "metadata": {
    "ExecuteTime": {
     "end_time": "2024-07-03T20:23:33.466048Z",
     "start_time": "2024-07-03T20:23:33.456607Z"
    }
   },
   "cell_type": "code",
   "source": [
    "# Crear dos variables\n",
    "a = 5         # Variable de tipo entero\n",
    "b = \"hola\"    # Variable de tipo cadena (string)\n",
    "\n",
    "# Condicional para verificar si son del mismo tipo de dato\n",
    "if type(a) == type(b):\n",
    "    print(\"Las variables son del mismo tipo de dato\")\n",
    "else:\n",
    "    print(\"Las variables son de diferentes tipos de dato\")\n"
   ],
   "outputs": [
    {
     "name": "stdout",
     "output_type": "stream",
     "text": [
      "Las variables son de diferentes tipos de dato\n"
     ]
    }
   ],
   "execution_count": 2
  },
  {
   "attachments": {},
   "cell_type": "markdown",
   "metadata": {},
   "source": [
    "3) Para los valores enteros del 1 al 20, imprimir por pantalla si es par o impar"
   ]
  },
  {
   "metadata": {
    "ExecuteTime": {
     "end_time": "2024-07-03T20:25:08.083297Z",
     "start_time": "2024-07-03T20:25:08.070657Z"
    }
   },
   "cell_type": "code",
   "source": [
    "# Usar un bucle para iterar desde 1 hasta 20\n",
    "for i in range(1, 21):\n",
    "    # Condicional para verificar si el número es par o impar\n",
    "    if i % 2 == 0:\n",
    "        print(f\"{i} es par\")\n",
    "    else:\n",
    "        print(f\"{i} es impar\")\n"
   ],
   "outputs": [
    {
     "name": "stdout",
     "output_type": "stream",
     "text": [
      "1 es impar\n",
      "2 es par\n",
      "3 es impar\n",
      "4 es par\n",
      "5 es impar\n",
      "6 es par\n",
      "7 es impar\n",
      "8 es par\n",
      "9 es impar\n",
      "10 es par\n",
      "11 es impar\n",
      "12 es par\n",
      "13 es impar\n",
      "14 es par\n",
      "15 es impar\n",
      "16 es par\n",
      "17 es impar\n",
      "18 es par\n",
      "19 es impar\n",
      "20 es par\n"
     ]
    }
   ],
   "execution_count": 3
  },
  {
   "attachments": {},
   "cell_type": "markdown",
   "metadata": {},
   "source": [
    "4) En un ciclo for mostrar para los valores entre 0 y 5 el resultado de elevarlo a la potencia igual a 3"
   ]
  },
  {
   "metadata": {
    "ExecuteTime": {
     "end_time": "2024-07-03T20:27:18.278429Z",
     "start_time": "2024-07-03T20:27:18.273146Z"
    }
   },
   "cell_type": "code",
   "source": [
    "# Usar un bucle para iterar desde 0 hasta 5\n",
    "for i in range(0, 6):\n",
    "    # Calcular el cubo del número\n",
    "    resultado = i ** 3\n",
    "    # Imprimir el resultado\n",
    "    print(f\"{i} elevado a la potencia 3 es {resultado}\")\n"
   ],
   "outputs": [
    {
     "name": "stdout",
     "output_type": "stream",
     "text": [
      "0 elevado a la potencia 3 es 0\n",
      "1 elevado a la potencia 3 es 1\n",
      "2 elevado a la potencia 3 es 8\n",
      "3 elevado a la potencia 3 es 27\n",
      "4 elevado a la potencia 3 es 64\n",
      "5 elevado a la potencia 3 es 125\n"
     ]
    }
   ],
   "execution_count": 4
  },
  {
   "attachments": {},
   "cell_type": "markdown",
   "metadata": {},
   "source": [
    "5) Crear una variable que contenga un número entero y realizar un ciclo for la misma cantidad de ciclos"
   ]
  },
  {
   "metadata": {
    "ExecuteTime": {
     "end_time": "2024-07-03T20:28:58.440587Z",
     "start_time": "2024-07-03T20:28:58.430101Z"
    }
   },
   "cell_type": "code",
   "source": [
    "# Crear una variable que contenga un número entero\n",
    "n = 4  # Puedes cambiar este valor por cualquier otro número entero\n",
    "\n",
    "# Usar un ciclo for para iterar 'n' veces\n",
    "for i in range(n):\n",
    "    print(f\"Ciclo número {i + 1}\")\n"
   ],
   "outputs": [
    {
     "name": "stdout",
     "output_type": "stream",
     "text": [
      "Ciclo número 1\n",
      "Ciclo número 2\n",
      "Ciclo número 3\n",
      "Ciclo número 4\n"
     ]
    }
   ],
   "execution_count": 5
  },
  {
   "attachments": {},
   "cell_type": "markdown",
   "metadata": {},
   "source": [
    "6) Utilizar un ciclo while para realizar el factorial de un número guardado en una variable, sólo si la variable contiene un número entero mayor a 0"
   ]
  },
  {
   "metadata": {
    "ExecuteTime": {
     "end_time": "2024-07-03T20:33:00.151732Z",
     "start_time": "2024-07-03T20:33:00.144169Z"
    }
   },
   "cell_type": "code",
   "source": [
    "# Variable que contiene el número\n",
    "n = 5  # Puedes cambiar este valor por cualquier otro número entero mayor a 0\n",
    "\n",
    "# Verificar si la variable contiene un número entero mayor a 0\n",
    "if isinstance(n, int) and n > 0:\n",
    "    # Inicializar el factorial y el contador\n",
    "    factorial = 1\n",
    "    contador = n\n",
    "\n",
    "    # Ciclo while para calcular el factorial\n",
    "    while contador > 1:\n",
    "        factorial *= contador\n",
    "        contador -= 1\n",
    "\n",
    "    print(f\"El factorial de {n} es {factorial}\")\n",
    "else:\n",
    "    print(\"La variable debe contener un número entero mayor a 0\")\n"
   ],
   "outputs": [
    {
     "name": "stdout",
     "output_type": "stream",
     "text": [
      "El factorial de 5 es 120\n"
     ]
    }
   ],
   "execution_count": 6
  },
  {
   "attachments": {},
   "cell_type": "markdown",
   "metadata": {},
   "source": [
    "7) Crear un ciclo for dentro de un ciclo while"
   ]
  },
  {
   "metadata": {
    "ExecuteTime": {
     "end_time": "2024-07-03T20:37:49.497696Z",
     "start_time": "2024-07-03T20:37:49.488880Z"
    }
   },
   "cell_type": "code",
   "source": [
    "# Inicializar el contador del ciclo while\n",
    "contador_while = 1\n",
    "\n",
    "# Ciclo while que controla cuántas veces se ejecuta el ciclo for\n",
    "while contador_while <= 3:\n",
    "    print(f\"Tabla de multiplicar del {contador_while}\")\n",
    "    \n",
    "    # Ciclo for que imprime la tabla de multiplicar\n",
    "    for i in range(1, 6):\n",
    "        resultado = contador_while * i\n",
    "        print(f\"{contador_while} x {i} = {resultado}\")\n",
    "    \n",
    "    # Incrementar el contador del ciclo while\n",
    "    contador_while += 1\n",
    "    print()  # Línea en blanco para separar tablas\n"
   ],
   "outputs": [
    {
     "name": "stdout",
     "output_type": "stream",
     "text": [
      "Tabla de multiplicar del 1\n",
      "1 x 1 = 1\n",
      "1 x 2 = 2\n",
      "1 x 3 = 3\n",
      "1 x 4 = 4\n",
      "1 x 5 = 5\n",
      "\n",
      "Tabla de multiplicar del 2\n",
      "2 x 1 = 2\n",
      "2 x 2 = 4\n",
      "2 x 3 = 6\n",
      "2 x 4 = 8\n",
      "2 x 5 = 10\n",
      "\n",
      "Tabla de multiplicar del 3\n",
      "3 x 1 = 3\n",
      "3 x 2 = 6\n",
      "3 x 3 = 9\n",
      "3 x 4 = 12\n",
      "3 x 5 = 15\n",
      "\n"
     ]
    }
   ],
   "execution_count": 7
  },
  {
   "attachments": {},
   "cell_type": "markdown",
   "metadata": {},
   "source": [
    "8) Crear un ciclo while dentro de un ciclo for"
   ]
  },
  {
   "metadata": {
    "ExecuteTime": {
     "end_time": "2024-07-03T21:14:54.109518Z",
     "start_time": "2024-07-03T21:14:54.092648Z"
    }
   },
   "cell_type": "code",
   "source": [
    "# Ciclo for que controla cuántas veces se ejecuta el ciclo while\n",
    "for i in range(1, 4):\n",
    "    print(f\"Tabla de multiplicar del {i}\")\n",
    "    \n",
    "    # Inicializar el contador del ciclo while\n",
    "    contador_while = 1\n",
    "    \n",
    "    # Ciclo while que imprime la tabla de multiplicar\n",
    "    while contador_while <= 5:\n",
    "        resultado = i * contador_while\n",
    "        print(f\"{i} x {contador_while} = {resultado}\")\n",
    "        contador_while += 1  # Incrementar el contador del ciclo while\n",
    "    \n",
    "    print()  # Línea en blanco para separar tablas\n"
   ],
   "outputs": [
    {
     "name": "stdout",
     "output_type": "stream",
     "text": [
      "Tabla de multiplicar del 1\n",
      "1 x 1 = 1\n",
      "1 x 2 = 2\n",
      "1 x 3 = 3\n",
      "1 x 4 = 4\n",
      "1 x 5 = 5\n",
      "\n",
      "Tabla de multiplicar del 2\n",
      "2 x 1 = 2\n",
      "2 x 2 = 4\n",
      "2 x 3 = 6\n",
      "2 x 4 = 8\n",
      "2 x 5 = 10\n",
      "\n",
      "Tabla de multiplicar del 3\n",
      "3 x 1 = 3\n",
      "3 x 2 = 6\n",
      "3 x 3 = 9\n",
      "3 x 4 = 12\n",
      "3 x 5 = 15\n",
      "\n"
     ]
    }
   ],
   "execution_count": 8
  },
  {
   "attachments": {},
   "cell_type": "markdown",
   "metadata": {},
   "source": [
    "9) Imprimir los números primos existentes entre 0 y 30"
   ]
  },
  {
   "metadata": {
    "ExecuteTime": {
     "end_time": "2024-07-03T21:58:34.528318Z",
     "start_time": "2024-07-03T21:58:34.507181Z"
    }
   },
   "cell_type": "code",
   "source": [
    "tope_rango=30\n",
    "n = 2\n",
    "primo = True\n",
    "while (n < tope_rango):\n",
    "    for div in range(2, n):\n",
    "        if (n % div == 0):\n",
    "            primo = False\n",
    "    if (primo):\n",
    "        print(n)\n",
    "    else:\n",
    "        primo = True\n",
    "    n += 1"
   ],
   "outputs": [
    {
     "name": "stdout",
     "output_type": "stream",
     "text": [
      "2\n",
      "3\n",
      "5\n",
      "7\n",
      "11\n",
      "13\n",
      "17\n",
      "19\n",
      "23\n",
      "29\n"
     ]
    }
   ],
   "execution_count": 12
  },
  {
   "metadata": {},
   "cell_type": "markdown",
   "source": "10) ¿Se puede mejorar el proceso del punto 9? Utilizar las sentencias break y/ó continue para tal fin\n"
  },
  {
   "metadata": {
    "ExecuteTime": {
     "end_time": "2024-07-03T21:59:01.360095Z",
     "start_time": "2024-07-03T21:59:01.349129Z"
    }
   },
   "cell_type": "code",
   "source": [
    "import math\n",
    "\n",
    "# Función para verificar si un número es primo\n",
    "def es_primo(num):\n",
    "    if num <= 1:\n",
    "        return False\n",
    "    for i in range(2, int(math.sqrt(num)) + 1):\n",
    "        if num % i == 0:\n",
    "            return False\n",
    "            break  # Salir del bucle si encontramos un divisor\n",
    "    return True\n",
    "\n",
    "# Ciclo for para iterar desde 0 hasta 30\n",
    "for n in range(0, 31):\n",
    "    if es_primo(n):\n",
    "        print(n)\n"
   ],
   "outputs": [
    {
     "name": "stdout",
     "output_type": "stream",
     "text": [
      "2\n",
      "3\n",
      "5\n",
      "7\n",
      "11\n",
      "13\n",
      "17\n",
      "19\n",
      "23\n",
      "29\n"
     ]
    }
   ],
   "execution_count": 13
  },
  {
   "metadata": {
    "ExecuteTime": {
     "end_time": "2024-07-03T21:59:20.331987Z",
     "start_time": "2024-07-03T21:59:20.317443Z"
    }
   },
   "cell_type": "code",
   "source": [
    "import math\n",
    "\n",
    "# Función para verificar si un número es primo\n",
    "def es_primo(num):\n",
    "    if num <= 1:\n",
    "        return False\n",
    "    for i in range(2, int(math.sqrt(num)) + 1):\n",
    "        if num % i == 0:\n",
    "            return False\n",
    "    return True\n",
    "\n",
    "# Ciclo for para iterar desde 0 hasta 30\n",
    "for n in range(0, 31):\n",
    "    if n <= 1:\n",
    "        continue  # Saltar números menores o iguales a 1\n",
    "    if es_primo(n):\n",
    "        print(n)\n"
   ],
   "outputs": [
    {
     "name": "stdout",
     "output_type": "stream",
     "text": [
      "2\n",
      "3\n",
      "5\n",
      "7\n",
      "11\n",
      "13\n",
      "17\n",
      "19\n",
      "23\n",
      "29\n"
     ]
    }
   ],
   "execution_count": 14
  },
  {
   "attachments": {},
   "cell_type": "markdown",
   "metadata": {},
   "source": [
    "11) En los puntos 9 y 10, se diseño un código que encuentra números primos y además se lo optimizó. ¿Es posible saber en qué medida se optimizó?"
   ]
  },
  {
   "metadata": {
    "ExecuteTime": {
     "end_time": "2024-07-03T22:16:09.249731Z",
     "start_time": "2024-07-03T22:16:09.205057Z"
    }
   },
   "cell_type": "code",
   "source": [
    "import timeit\n",
    "\n",
    "# Código original\n",
    "def codigo_original():\n",
    "    tope_rango = 30\n",
    "    n = 2\n",
    "    primo = True\n",
    "\n",
    "    while (n < tope_rango):\n",
    "        for div in range(2, n):\n",
    "            if (n % div == 0):\n",
    "                primo = False\n",
    "        if (primo):\n",
    "            pass  # No imprimir nada\n",
    "        else:\n",
    "            primo = True\n",
    "        n += 1\n",
    "\n",
    "# Código optimizado\n",
    "def codigo_optimizado():\n",
    "    import math\n",
    "\n",
    "    def es_primo(num):\n",
    "        if num <= 1:\n",
    "            return False\n",
    "        for i in range(2, int(math.sqrt(num)) + 1):\n",
    "            if num % i == 0:\n",
    "                return False\n",
    "                break\n",
    "        return True\n",
    "\n",
    "    for n in range(0, 31):\n",
    "        if es_primo(n):\n",
    "            pass  # No imprimir nada\n",
    "\n",
    "# Medir tiempos de ejecución\n",
    "original_time = timeit.timeit(codigo_original, number=1000)\n",
    "optimized_time = timeit.timeit(codigo_optimizado, number=1000)\n",
    "\n",
    "print(f\"Tiempo original: {original_time}\")\n",
    "print(f\"Tiempo optimizado: {optimized_time}\")\n"
   ],
   "outputs": [
    {
     "name": "stdout",
     "output_type": "stream",
     "text": [
      "Tiempo original: 0.017032499999913853\n",
      "Tiempo optimizado: 0.009869299999991199\n"
     ]
    }
   ],
   "execution_count": 22
  },
  {
   "metadata": {
    "ExecuteTime": {
     "end_time": "2024-07-03T22:17:15.863231Z",
     "start_time": "2024-07-03T22:17:15.804707Z"
    }
   },
   "cell_type": "code",
   "source": [
    "tiempo_original = 0.017032499999913853\n",
    "tiempo_optimizado = 0.009869299999991199\n",
    "\n",
    "reduccion = ((tiempo_original - tiempo_optimizado) / tiempo_original) * 100\n",
    "reduccion\n"
   ],
   "outputs": [
    {
     "data": {
      "text/plain": [
       "42.056069279077555"
      ]
     },
     "execution_count": 23,
     "metadata": {},
     "output_type": "execute_result"
    }
   ],
   "execution_count": 23
  },
  {
   "attachments": {},
   "cell_type": "markdown",
   "metadata": {},
   "source": [
    "12) Aplicando continue, armar un ciclo while que solo imprima los valores divisibles por 12, dentro del rango de números de 100 a 300"
   ]
  },
  {
   "metadata": {
    "ExecuteTime": {
     "end_time": "2024-07-03T22:29:43.379642Z",
     "start_time": "2024-07-03T22:29:43.372849Z"
    }
   },
   "cell_type": "code",
   "source": [
    "n = 99\n",
    "while n <= 300:\n",
    "    n += 1\n",
    "    if n % 12 != 0:\n",
    "        continue\n",
    "    print(n, 'es divisible por 12')\n"
   ],
   "outputs": [
    {
     "name": "stdout",
     "output_type": "stream",
     "text": [
      "108 es divisible por 12\n",
      "120 es divisible por 12\n",
      "132 es divisible por 12\n",
      "144 es divisible por 12\n",
      "156 es divisible por 12\n",
      "168 es divisible por 12\n",
      "180 es divisible por 12\n",
      "192 es divisible por 12\n",
      "204 es divisible por 12\n",
      "216 es divisible por 12\n",
      "228 es divisible por 12\n",
      "240 es divisible por 12\n",
      "252 es divisible por 12\n",
      "264 es divisible por 12\n",
      "276 es divisible por 12\n",
      "288 es divisible por 12\n",
      "300 es divisible por 12\n"
     ]
    }
   ],
   "execution_count": 24
  },
  {
   "attachments": {},
   "cell_type": "markdown",
   "metadata": {},
   "source": [
    "13) Utilizar la función **input()** que permite hacer ingresos por teclado, para encontrar números primos y dar la opción al usario de buscar el siguiente"
   ]
  },
  {
   "metadata": {
    "ExecuteTime": {
     "end_time": "2024-07-03T22:30:35.185771Z",
     "start_time": "2024-07-03T22:30:23.000811Z"
    }
   },
   "cell_type": "code",
   "source": [
    "def es_primo(num):\n",
    "    if num < 2:\n",
    "        return False\n",
    "    for i in range(2, int(num ** 0.5) + 1):\n",
    "        if num % i == 0:\n",
    "            return False\n",
    "    return True\n",
    "\n",
    "def siguiente_primo(num):\n",
    "    while True:\n",
    "        num += 1\n",
    "        if es_primo(num):\n",
    "            return num\n",
    "\n",
    "def main():\n",
    "    numero = int(input(\"Ingresa un número para encontrar el siguiente número primo: \"))\n",
    "    while True:\n",
    "        numero = siguiente_primo(numero)\n",
    "        print(f\"El siguiente número primo es: {numero}\")\n",
    "        opcion = input(\"¿Quieres encontrar el siguiente número primo? (s/n): \")\n",
    "        if opcion.lower() != 's':\n",
    "            break\n",
    "\n",
    "if __name__ == \"__main__\":\n",
    "    main()\n"
   ],
   "outputs": [
    {
     "name": "stdout",
     "output_type": "stream",
     "text": [
      "El siguiente número primo es: 5\n",
      "El siguiente número primo es: 7\n",
      "El siguiente número primo es: 11\n"
     ]
    }
   ],
   "execution_count": 25
  },
  {
   "attachments": {},
   "cell_type": "markdown",
   "metadata": {},
   "source": [
    "14) Crear un ciclo while que encuentre dentro del rango de 100 a 300 el primer número divisible por 3 y además múltiplo de 6"
   ]
  },
  {
   "metadata": {
    "ExecuteTime": {
     "end_time": "2024-07-03T22:31:53.159833Z",
     "start_time": "2024-07-03T22:31:53.152732Z"
    }
   },
   "cell_type": "code",
   "source": [
    "# Definimos el rango\n",
    "inicio = 100\n",
    "fin = 300\n",
    "\n",
    "# Inicializamos el número en el inicio del rango\n",
    "numero = inicio\n",
    "\n",
    "# Ciclo while para encontrar el número que cumpla con las condiciones\n",
    "while numero <= fin:\n",
    "    if numero % 3 == 0 and numero % 6 == 0:\n",
    "        print(f\"El primer número dentro del rango de {inicio} a {fin} que es divisible por 3 y múltiplo de 6 es: {numero}\")\n",
    "        break\n",
    "    numero += 1\n"
   ],
   "outputs": [
    {
     "name": "stdout",
     "output_type": "stream",
     "text": [
      "El primer número dentro del rango de 100 a 300 que es divisible por 3 y múltiplo de 6 es: 102\n"
     ]
    }
   ],
   "execution_count": 26
  }
 ],
 "metadata": {
  "interpreter": {
   "hash": "c85384e4cb51c8b72350f3a8712cc8351fdc3955e32a27f9b60c6242ab125f01"
  },
  "kernelspec": {
   "display_name": "Python 3 (ipykernel)",
   "language": "python",
   "name": "python3"
  },
  "language_info": {
   "codemirror_mode": {
    "name": "ipython",
    "version": 3
   },
   "file_extension": ".py",
   "mimetype": "text/x-python",
   "name": "python",
   "nbconvert_exporter": "python",
   "pygments_lexer": "ipython3",
   "version": "3.10.6"
  }
 },
 "nbformat": 4,
 "nbformat_minor": 4
}
