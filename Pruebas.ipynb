{
 "cells": [
  {
   "metadata": {
    "ExecuteTime": {
     "end_time": "2024-06-26T16:31:17.571898Z",
     "start_time": "2024-06-26T16:31:17.556701Z"
    }
   },
   "cell_type": "code",
   "source": [
    "suma = 0\n",
    "suma = suma + 1\n",
    "print (suma)"
   ],
   "id": "6ef47e0ecd7af9fd",
   "outputs": [
    {
     "name": "stdout",
     "output_type": "stream",
     "text": [
      "1\n"
     ]
    }
   ],
   "execution_count": 1
  },
  {
   "metadata": {
    "ExecuteTime": {
     "end_time": "2024-06-26T16:31:49.527925Z",
     "start_time": "2024-06-26T16:31:49.519550Z"
    }
   },
   "cell_type": "code",
   "source": [
    "suma = 0 \n",
    "suma = suma + 1\n",
    "suma = suma + 2\n",
    "print(suma)"
   ],
   "id": "b8ff5e176ff1977f",
   "outputs": [
    {
     "name": "stdout",
     "output_type": "stream",
     "text": [
      "3\n"
     ]
    }
   ],
   "execution_count": 2
  },
  {
   "metadata": {
    "ExecuteTime": {
     "end_time": "2024-06-26T16:32:32.857903Z",
     "start_time": "2024-06-26T16:32:32.842431Z"
    }
   },
   "cell_type": "code",
   "source": [
    "numeros = [1,2,3,4,5]\n",
    "for num in numeros:\n",
    "    suma= num+1\n",
    "    print(suma)"
   ],
   "id": "21b467a0f5fdce8a",
   "outputs": [
    {
     "name": "stdout",
     "output_type": "stream",
     "text": [
      "2\n",
      "3\n",
      "4\n",
      "5\n",
      "6\n"
     ]
    }
   ],
   "execution_count": 3
  },
  {
   "metadata": {
    "ExecuteTime": {
     "end_time": "2024-06-26T16:36:44.893738Z",
     "start_time": "2024-06-26T16:36:44.888049Z"
    }
   },
   "cell_type": "code",
   "source": [
    "for i in range(1,6):\n",
    "    suma = i + 1\n",
    "    print('Variable de iteración: ', i, 'Resultado', suma)"
   ],
   "id": "bd520027651c295d",
   "outputs": [
    {
     "name": "stdout",
     "output_type": "stream",
     "text": [
      "Variable de iteración:  1 Resultado 2\n",
      "Variable de iteración:  2 Resultado 3\n",
      "Variable de iteración:  3 Resultado 4\n",
      "Variable de iteración:  4 Resultado 5\n",
      "Variable de iteración:  5 Resultado 6\n"
     ]
    }
   ],
   "execution_count": 5
  },
  {
   "metadata": {
    "ExecuteTime": {
     "end_time": "2024-06-26T16:40:46.316351Z",
     "start_time": "2024-06-26T16:40:46.291094Z"
    }
   },
   "cell_type": "code",
   "source": [
    "num = 1\n",
    "while num < 6:\n",
    "    print(num)\n",
    "    num += 1"
   ],
   "id": "392a51037094bbe8",
   "outputs": [
    {
     "name": "stdout",
     "output_type": "stream",
     "text": [
      "1\n",
      "2\n",
      "3\n",
      "4\n",
      "5\n"
     ]
    }
   ],
   "execution_count": 6
  },
  {
   "metadata": {
    "ExecuteTime": {
     "end_time": "2024-06-26T16:47:46.310989Z",
     "start_time": "2024-06-26T16:47:46.267441Z"
    }
   },
   "cell_type": "code",
   "source": [
    "cadena = 'Python'\n",
    "for letra in cadena:\n",
    "    if letra == 'h':\n",
    "        print(\"Se encontró la h\")\n",
    "        break\n",
    "    print(letra)"
   ],
   "id": "992196b640d79eef",
   "outputs": [
    {
     "name": "stdout",
     "output_type": "stream",
     "text": [
      "P\n",
      "y\n",
      "t\n",
      "Se encontró la h\n"
     ]
    }
   ],
   "execution_count": 7
  },
  {
   "metadata": {
    "ExecuteTime": {
     "end_time": "2024-06-26T16:48:02.545746Z",
     "start_time": "2024-06-26T16:48:02.528196Z"
    }
   },
   "cell_type": "code",
   "source": [
    "x = 5\n",
    "while True:\n",
    "    x -= 1\n",
    "    print(x)\n",
    "    if x == 0:\n",
    "        break\n",
    "print(\"Fin del bucle\")"
   ],
   "id": "95975c8a5169ba2a",
   "outputs": [
    {
     "name": "stdout",
     "output_type": "stream",
     "text": [
      "4\n",
      "3\n",
      "2\n",
      "1\n",
      "0\n",
      "Fin del bucle\n"
     ]
    }
   ],
   "execution_count": 8
  },
  {
   "metadata": {
    "ExecuteTime": {
     "end_time": "2024-06-26T16:59:24.301870Z",
     "start_time": "2024-06-26T16:59:24.280117Z"
    }
   },
   "cell_type": "code",
   "source": [
    "cadena = 'Python'\n",
    "for letra in cadena:\n",
    "    if letra == 'h':\n",
    "        continue\n",
    "    print(letra)"
   ],
   "id": "14c0bbbb1c970ca6",
   "outputs": [
    {
     "name": "stdout",
     "output_type": "stream",
     "text": [
      "P\n",
      "y\n",
      "t\n",
      "o\n",
      "n\n"
     ]
    }
   ],
   "execution_count": 10
  },
  {
   "metadata": {},
   "cell_type": "code",
   "outputs": [],
   "execution_count": null,
   "source": "",
   "id": "69f5a5dd3f06ade4"
  }
 ],
 "metadata": {
  "kernelspec": {
   "display_name": "Python 3",
   "language": "python",
   "name": "python3"
  },
  "language_info": {
   "codemirror_mode": {
    "name": "ipython",
    "version": 2
   },
   "file_extension": ".py",
   "mimetype": "text/x-python",
   "name": "python",
   "nbconvert_exporter": "python",
   "pygments_lexer": "ipython2",
   "version": "2.7.6"
  }
 },
 "nbformat": 4,
 "nbformat_minor": 5
}
